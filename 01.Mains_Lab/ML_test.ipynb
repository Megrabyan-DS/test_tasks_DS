{
 "cells": [
  {
   "cell_type": "markdown",
   "metadata": {},
   "source": [
    "# ООО Мэйнс Лаборатория\n",
    "## 1. <a id='toc1_'></a>[Machine learning engineer  - тестовое задание, 2024](#toc0_)"
   ]
  },
  {
   "cell_type": "markdown",
   "metadata": {},
   "source": [
    "## 2. <a id='toc2_'></a>[Формулировка задачи:](#toc0_)\n",
    "\n",
    "Доступны данные о количестве обращений за медицинской помощью по 50 000 застрахованным ДМС за 2022 год. Требуется на основании характеристик застрахованных и истории их обращений за 2022 год предсказать количество визитов за 2023 год. \n",
    "\n",
    "Доступны 2 выборки: \n",
    "\n",
    "- train - выборка для обучения и валидации , 50 тыс. застрахованных с проставленными значениями target.\n",
    "- holdout - выборка для финального замера качества модели. В этой выборке 10 000 застрахованных, истинные значения target скрыты.\n",
    "\n",
    "Для оценки качества модели будет применяться метрика MSE."
   ]
  },
  {
   "cell_type": "markdown",
   "metadata": {},
   "source": [
    "**Содержание**<a id='toc0_'></a>    \n",
    "1. [Machine learning engineer  - тестовое задание, 2024](#toc1_)    \n",
    "2. [Формулировка задачи:](#toc2_)    \n",
    "3. [Доступные данные:](#toc3_)    \n",
    "4. [План](#toc4_)    \n",
    "5. [Загрузка](#toc5_)    \n",
    "6. [Исследовательский анализ](#toc6_)    \n",
    "6.1. [Введение](#toc6_1_)    \n",
    "6.2. [insured_pin](#toc6_2_)    \n",
    "6.3. [insured_network](#toc6_3_)    \n",
    "6.4. [nationality](#toc6_4_)    \n",
    "6.5. [gender](#toc6_5_)    \n",
    "6.6. [date of birth](#toc6_6_)    \n",
    "6.7. [Relation](#toc6_7_)    \n",
    "6.8. [diagnoses](#toc6_8_)    \n",
    "6.9. [has_chronic_disease](#toc6_9_)    \n",
    "6.10. [exposition_22](#toc6_10_)    \n",
    "6.11. [number_of_visits_22](#toc6_11_)    \n",
    "6.12. [number_of_services_22](#toc6_12_)    \n",
    "6.13. [exposition_23](#toc6_13_)    \n",
    "6.14. [number_of_visits_23](#toc6_14_)    \n",
    "6.15. [Заключение](#toc6_15_)    \n",
    "7. [Предобработка](#toc7_)    \n",
    "7.1. [Пропуски](#toc7_1_)    \n",
    "7.1.1. [diagnoses](#toc7_1_1_)    \n",
    "7.1.2. [age](#toc7_1_2_)    \n",
    "7.2. [Anomalies](#toc7_2_)    \n",
    "7.3. [Test split](#toc7_3_)    \n",
    "7.4. [Конструирование признаков](#toc7_4_)    \n",
    "7.5. [Заключение](#toc7_5_)    \n",
    "8. [Обработка признаков](#toc8_)    \n",
    "8.1. [Введение](#toc8_1_)    \n",
    "8.2. [Выбор признаков](#toc8_2_)    \n",
    "8.3. [Обзор](#toc8_3_)    \n",
    "8.4. [Целочисленные - StandardScaler](#toc8_4_)    \n",
    "8.5. [Категореальные - OHE](#toc8_5_)    \n",
    "8.6. [Диагнозы - CountVectorizer](#toc8_6_)    \n",
    "8.7. [DataFrame - ColumnTransformer](#toc8_7_)    \n",
    "8.8. [Заключение](#toc8_8_)    \n",
    "9. [Машинное Обучение](#toc9_)    \n",
    "9.1. [Определения](#toc9_1_)    \n",
    "9.2. [Search CV](#toc9_2_)    \n",
    "9.3. [ LGBM](#toc9_3_)    \n",
    "9.4. [ XGB](#toc9_4_)    \n",
    "9.5. [Лучшая модель](#toc9_5_)    \n",
    "9.6. [Контрольная выборка](#toc9_6_)    \n",
    "9.7. [Значение признаков](#toc9_7_)    \n",
    "9.8. [Заключение](#toc9_8_)    \n",
    "10. [Финальный замер качества](#toc10_)    \n",
    "\n",
    "<!-- vscode-jupyter-toc-config\n",
    "\tnumbering=true\n",
    "\tanchor=true\n",
    "\tflat=true\n",
    "\tminLevel=2\n",
    "\tmaxLevel=6\n",
    "\t/vscode-jupyter-toc-config -->\n",
    "<!-- THIS CELL WILL BE REPLACED ON TOC UPDATE. DO NOT WRITE YOUR TEXT IN THIS CELL -->"
   ]
  },
  {
   "cell_type": "markdown",
   "metadata": {},
   "source": [
    "## 3. <a id='toc3_'></a>[Доступные данные:](#toc0_)\n",
    "\n",
    "**Описание данных:**\n",
    "\n",
    "- Insured_PIN - уникальный ид застрахованного лица\n",
    "- Insured_Network - Идентификатор сети клиник доступной для застрахованного. Network - 1 - клиники с наивысшим уровнем сервиса, Network - 8 - клиники с самым базовым уровнем сервиса.\n",
    "- Nationality - национальность застрахованного.\n",
    "- Gender - пол застрахованного\n",
    "- Relation - в качестве кого застраховано данное лицо. self - работник организации, которая оформляет страховку, child - ребенок застрахованного и т.д.\n",
    "- DoB - дата рождения застрахованного\n",
    "- Diagnoses - все диагнозы застрахованного за 2022 год\n",
    "- HasChronicDisease - флаг хронического пациента\n",
    "- Exposition_22 - количество дней в 2022 году в которые у данного застрахованного действовал полис медицинского страхования. Значение 365 говорит о том, что застрахованный мог обращаться за медицинской помощью весь 2022 год\n",
    "- number_of_visits_22 - количество дней в 2022 году в которые застрахованный посещал клинику для получения медицинской помощи\n",
    "- number_of_services_22 - количество оказанных медицинских услуг в 2022 году (консультации, анализы, лекарства и т.д.)\n",
    "- Exposition_23 - количество дней в 2023 году в которые у данного застрахованного действовал полис медицинского страхования. Значение 365 говорит о том, что застрахованный мог обращаться за медицинской помощью весь 2023 год\n",
    "- **Target -** number_of_visits_23 - количество дней в 2023 году в которые застрахованный посещал клинику для получения медицинской помощи. **Этот показатель требуется предсказать.**"
   ]
  },
  {
   "cell_type": "markdown",
   "metadata": {},
   "source": [
    "## 4. <a id='toc4_'></a>[План](#toc0_)\n",
    "\n",
    "1. Загрузка \n",
    "2. Исследовательский анализ\n",
    "3. Предобработка \n",
    "4. Обработка признаков\n",
    "5. Машинное Обучение\n",
    "6. Финальный замер качества"
   ]
  },
  {
   "cell_type": "code",
   "execution_count": 1,
   "metadata": {},
   "outputs": [],
   "source": [
    "import pandas as pd\n",
    "import matplotlib.pyplot as plt\n",
    "\n",
    "from sklearn.preprocessing import OneHotEncoder, StandardScaler\n",
    "from sklearn.model_selection import train_test_split, cross_val_score, RandomizedSearchCV, GridSearchCV\n",
    "from sklearn.feature_extraction.text import TfidfVectorizer, CountVectorizer\n",
    "from sklearn.compose import ColumnTransformer\n",
    "from sklearn.metrics import mean_squared_error\n",
    "\n",
    "from timeit import default_timer\n",
    "\n",
    "from sklearn.linear_model import LinearRegression\n",
    "#from sklearn.ensemble import RandomForestRegressor - too slow\n",
    "from lightgbm import LGBMRegressor, plot_importance\n",
    "from xgboost import XGBRegressor\n",
    "from catboost import CatBoostRegressor\n"
   ]
  },
  {
   "cell_type": "code",
   "execution_count": 2,
   "metadata": {},
   "outputs": [],
   "source": [
    "pd.set_option('display.max_rows', 30) \n",
    "\n",
    "RANDOM = 20240804"
   ]
  },
  {
   "cell_type": "markdown",
   "metadata": {},
   "source": [
    "## 5. <a id='toc5_'></a>[Загрузка](#toc0_)"
   ]
  },
  {
   "cell_type": "code",
   "execution_count": 3,
   "metadata": {},
   "outputs": [],
   "source": [
    "train = pd.read_excel('ML_train.xlsx', index_col='Insured_PIN')\n",
    "holdout = pd.read_excel('ML_holdout.xlsx', index_col='Insured_PIN');"
   ]
  },
  {
   "cell_type": "code",
   "execution_count": 4,
   "metadata": {
    "scrolled": true
   },
   "outputs": [
    {
     "data": {
      "text/plain": [
       "Index(['Insured_Network', 'Nationality', 'Gender', 'Relation', 'DoB',\n",
       "       'Diagnoses', 'HasChronicDisease', 'Exposition_22',\n",
       "       'number_of_visits_22', 'number_of_services_22', 'Exposition_23',\n",
       "       'number_of_visits_23'],\n",
       "      dtype='object')"
      ]
     },
     "execution_count": 4,
     "metadata": {},
     "output_type": "execute_result"
    }
   ],
   "source": [
    "train.columns"
   ]
  },
  {
   "cell_type": "code",
   "execution_count": 5,
   "metadata": {},
   "outputs": [
    {
     "data": {
      "text/plain": [
       "Index(['Insured_Network', 'Nationality', 'Gender', 'Relation', 'DoB',\n",
       "       'Diagnoses', 'HasChronicDisease', 'Exposition_22',\n",
       "       'number_of_visits_22', 'number_of_services_22', 'Exposition_23'],\n",
       "      dtype='object')"
      ]
     },
     "execution_count": 5,
     "metadata": {},
     "output_type": "execute_result"
    }
   ],
   "source": [
    "holdout.columns"
   ]
  },
  {
   "cell_type": "code",
   "execution_count": 6,
   "metadata": {},
   "outputs": [],
   "source": [
    "train.index.name = train.index.name.lower()"
   ]
  },
  {
   "cell_type": "code",
   "execution_count": 7,
   "metadata": {},
   "outputs": [],
   "source": [
    "train.index.name = train.index.name.lower()\n",
    "train.index.name = train.index.name.lower()\n",
    "train.columns = train.columns.str.lower()\n",
    "holdout.columns = holdout.columns.str.lower()\n",
    "train.rename(columns = {'haschronicdisease' : 'has_chronic_disease'}, inplace=True)\n",
    "holdout.rename(columns = {'haschronicdisease' : 'has_chronic_disease'}, inplace=True)"
   ]
  },
  {
   "cell_type": "code",
   "execution_count": 8,
   "metadata": {},
   "outputs": [
    {
     "data": {
      "text/html": [
       "<div>\n",
       "<style scoped>\n",
       "    .dataframe tbody tr th:only-of-type {\n",
       "        vertical-align: middle;\n",
       "    }\n",
       "\n",
       "    .dataframe tbody tr th {\n",
       "        vertical-align: top;\n",
       "    }\n",
       "\n",
       "    .dataframe thead th {\n",
       "        text-align: right;\n",
       "    }\n",
       "</style>\n",
       "<table border=\"1\" class=\"dataframe\">\n",
       "  <thead>\n",
       "    <tr style=\"text-align: right;\">\n",
       "      <th></th>\n",
       "      <th>insured_network</th>\n",
       "      <th>nationality</th>\n",
       "      <th>gender</th>\n",
       "      <th>relation</th>\n",
       "      <th>dob</th>\n",
       "      <th>diagnoses</th>\n",
       "      <th>has_chronic_disease</th>\n",
       "      <th>exposition_22</th>\n",
       "      <th>number_of_visits_22</th>\n",
       "      <th>number_of_services_22</th>\n",
       "      <th>exposition_23</th>\n",
       "      <th>number_of_visits_23</th>\n",
       "    </tr>\n",
       "    <tr>\n",
       "      <th>insured_pin</th>\n",
       "      <th></th>\n",
       "      <th></th>\n",
       "      <th></th>\n",
       "      <th></th>\n",
       "      <th></th>\n",
       "      <th></th>\n",
       "      <th></th>\n",
       "      <th></th>\n",
       "      <th></th>\n",
       "      <th></th>\n",
       "      <th></th>\n",
       "      <th></th>\n",
       "    </tr>\n",
       "  </thead>\n",
       "  <tbody>\n",
       "    <tr>\n",
       "      <th>1006786</th>\n",
       "      <td>Network-4</td>\n",
       "      <td>Group 2</td>\n",
       "      <td>Male</td>\n",
       "      <td>Self</td>\n",
       "      <td>1974-04-28</td>\n",
       "      <td>NaN</td>\n",
       "      <td>0</td>\n",
       "      <td>365</td>\n",
       "      <td>0</td>\n",
       "      <td>0</td>\n",
       "      <td>365</td>\n",
       "      <td>0</td>\n",
       "    </tr>\n",
       "    <tr>\n",
       "      <th>1008861</th>\n",
       "      <td>Network-2</td>\n",
       "      <td>Saudi</td>\n",
       "      <td>Female</td>\n",
       "      <td>Child</td>\n",
       "      <td>2017-07-27</td>\n",
       "      <td>J20.9;J02</td>\n",
       "      <td>0</td>\n",
       "      <td>365</td>\n",
       "      <td>1</td>\n",
       "      <td>2</td>\n",
       "      <td>365</td>\n",
       "      <td>4</td>\n",
       "    </tr>\n",
       "    <tr>\n",
       "      <th>1019055</th>\n",
       "      <td>Network-5</td>\n",
       "      <td>Group 2</td>\n",
       "      <td>Male</td>\n",
       "      <td>Self</td>\n",
       "      <td>1979-02-20</td>\n",
       "      <td>J03.9</td>\n",
       "      <td>0</td>\n",
       "      <td>365</td>\n",
       "      <td>1</td>\n",
       "      <td>4</td>\n",
       "      <td>365</td>\n",
       "      <td>5</td>\n",
       "    </tr>\n",
       "    <tr>\n",
       "      <th>1019438</th>\n",
       "      <td>Network-1</td>\n",
       "      <td>Saudi</td>\n",
       "      <td>Male</td>\n",
       "      <td>Self</td>\n",
       "      <td>1985-05-09</td>\n",
       "      <td>E56.9;J02;J00</td>\n",
       "      <td>1</td>\n",
       "      <td>365</td>\n",
       "      <td>3</td>\n",
       "      <td>18</td>\n",
       "      <td>365</td>\n",
       "      <td>11</td>\n",
       "    </tr>\n",
       "    <tr>\n",
       "      <th>1027311</th>\n",
       "      <td>Network-3</td>\n",
       "      <td>Group 3</td>\n",
       "      <td>Male</td>\n",
       "      <td>Self</td>\n",
       "      <td>1962-01-01</td>\n",
       "      <td>NaN</td>\n",
       "      <td>0</td>\n",
       "      <td>365</td>\n",
       "      <td>0</td>\n",
       "      <td>0</td>\n",
       "      <td>365</td>\n",
       "      <td>0</td>\n",
       "    </tr>\n",
       "    <tr>\n",
       "      <th>...</th>\n",
       "      <td>...</td>\n",
       "      <td>...</td>\n",
       "      <td>...</td>\n",
       "      <td>...</td>\n",
       "      <td>...</td>\n",
       "      <td>...</td>\n",
       "      <td>...</td>\n",
       "      <td>...</td>\n",
       "      <td>...</td>\n",
       "      <td>...</td>\n",
       "      <td>...</td>\n",
       "      <td>...</td>\n",
       "    </tr>\n",
       "    <tr>\n",
       "      <th>987424</th>\n",
       "      <td>Network-4</td>\n",
       "      <td>Saudi</td>\n",
       "      <td>Male</td>\n",
       "      <td>Child</td>\n",
       "      <td>2000-09-15</td>\n",
       "      <td>NaN</td>\n",
       "      <td>0</td>\n",
       "      <td>365</td>\n",
       "      <td>0</td>\n",
       "      <td>0</td>\n",
       "      <td>365</td>\n",
       "      <td>0</td>\n",
       "    </tr>\n",
       "    <tr>\n",
       "      <th>991750</th>\n",
       "      <td>Network-3</td>\n",
       "      <td>Group 2</td>\n",
       "      <td>Female</td>\n",
       "      <td>Spouse</td>\n",
       "      <td>1982-05-27</td>\n",
       "      <td>J30.4;R51;J03;UNKRC;N36.3;R69;N81;R10;N39.0;G5...</td>\n",
       "      <td>1</td>\n",
       "      <td>365</td>\n",
       "      <td>22</td>\n",
       "      <td>62</td>\n",
       "      <td>365</td>\n",
       "      <td>16</td>\n",
       "    </tr>\n",
       "    <tr>\n",
       "      <th>9932157</th>\n",
       "      <td>Network-5</td>\n",
       "      <td>Group 1</td>\n",
       "      <td>Male</td>\n",
       "      <td>Child</td>\n",
       "      <td>2001-12-27</td>\n",
       "      <td>M50.1;J45.0;K29;R07.4;M25.5;J03;J06.9</td>\n",
       "      <td>0</td>\n",
       "      <td>365</td>\n",
       "      <td>5</td>\n",
       "      <td>19</td>\n",
       "      <td>365</td>\n",
       "      <td>4</td>\n",
       "    </tr>\n",
       "    <tr>\n",
       "      <th>9950431</th>\n",
       "      <td>Network-1</td>\n",
       "      <td>Group 4</td>\n",
       "      <td>Male</td>\n",
       "      <td>Self</td>\n",
       "      <td>1966-08-13</td>\n",
       "      <td>R69;N39.0;I10;J02.9;E78.0;J02;E11;E55.9;E09.21...</td>\n",
       "      <td>1</td>\n",
       "      <td>365</td>\n",
       "      <td>14</td>\n",
       "      <td>56</td>\n",
       "      <td>365</td>\n",
       "      <td>10</td>\n",
       "    </tr>\n",
       "    <tr>\n",
       "      <th>9952098</th>\n",
       "      <td>Network-1</td>\n",
       "      <td>Group 4</td>\n",
       "      <td>Female</td>\n",
       "      <td>Child</td>\n",
       "      <td>2008-01-12</td>\n",
       "      <td>J06</td>\n",
       "      <td>0</td>\n",
       "      <td>365</td>\n",
       "      <td>1</td>\n",
       "      <td>5</td>\n",
       "      <td>365</td>\n",
       "      <td>0</td>\n",
       "    </tr>\n",
       "  </tbody>\n",
       "</table>\n",
       "<p>50000 rows × 12 columns</p>\n",
       "</div>"
      ],
      "text/plain": [
       "            insured_network nationality  gender relation        dob  \\\n",
       "insured_pin                                                           \n",
       "1006786           Network-4     Group 2    Male     Self 1974-04-28   \n",
       "1008861           Network-2       Saudi  Female    Child 2017-07-27   \n",
       "1019055           Network-5     Group 2    Male     Self 1979-02-20   \n",
       "1019438           Network-1       Saudi    Male     Self 1985-05-09   \n",
       "1027311           Network-3     Group 3    Male     Self 1962-01-01   \n",
       "...                     ...         ...     ...      ...        ...   \n",
       "987424            Network-4       Saudi    Male    Child 2000-09-15   \n",
       "991750            Network-3     Group 2  Female   Spouse 1982-05-27   \n",
       "9932157           Network-5     Group 1    Male    Child 2001-12-27   \n",
       "9950431           Network-1     Group 4    Male     Self 1966-08-13   \n",
       "9952098           Network-1     Group 4  Female    Child 2008-01-12   \n",
       "\n",
       "                                                     diagnoses  \\\n",
       "insured_pin                                                      \n",
       "1006786                                                    NaN   \n",
       "1008861                                              J20.9;J02   \n",
       "1019055                                                  J03.9   \n",
       "1019438                                          E56.9;J02;J00   \n",
       "1027311                                                    NaN   \n",
       "...                                                        ...   \n",
       "987424                                                     NaN   \n",
       "991750       J30.4;R51;J03;UNKRC;N36.3;R69;N81;R10;N39.0;G5...   \n",
       "9932157                  M50.1;J45.0;K29;R07.4;M25.5;J03;J06.9   \n",
       "9950431      R69;N39.0;I10;J02.9;E78.0;J02;E11;E55.9;E09.21...   \n",
       "9952098                                                    J06   \n",
       "\n",
       "             has_chronic_disease  exposition_22  number_of_visits_22  \\\n",
       "insured_pin                                                            \n",
       "1006786                        0            365                    0   \n",
       "1008861                        0            365                    1   \n",
       "1019055                        0            365                    1   \n",
       "1019438                        1            365                    3   \n",
       "1027311                        0            365                    0   \n",
       "...                          ...            ...                  ...   \n",
       "987424                         0            365                    0   \n",
       "991750                         1            365                   22   \n",
       "9932157                        0            365                    5   \n",
       "9950431                        1            365                   14   \n",
       "9952098                        0            365                    1   \n",
       "\n",
       "             number_of_services_22  exposition_23  number_of_visits_23  \n",
       "insured_pin                                                             \n",
       "1006786                          0            365                    0  \n",
       "1008861                          2            365                    4  \n",
       "1019055                          4            365                    5  \n",
       "1019438                         18            365                   11  \n",
       "1027311                          0            365                    0  \n",
       "...                            ...            ...                  ...  \n",
       "987424                           0            365                    0  \n",
       "991750                          62            365                   16  \n",
       "9932157                         19            365                    4  \n",
       "9950431                         56            365                   10  \n",
       "9952098                          5            365                    0  \n",
       "\n",
       "[50000 rows x 12 columns]"
      ]
     },
     "execution_count": 8,
     "metadata": {},
     "output_type": "execute_result"
    }
   ],
   "source": [
    "train"
   ]
  },
  {
   "cell_type": "code",
   "execution_count": 9,
   "metadata": {},
   "outputs": [
    {
     "name": "stdout",
     "output_type": "stream",
     "text": [
      "<class 'pandas.core.frame.DataFrame'>\n",
      "Int64Index: 50000 entries, 1006786 to 9952098\n",
      "Data columns (total 12 columns):\n",
      " #   Column                 Non-Null Count  Dtype         \n",
      "---  ------                 --------------  -----         \n",
      " 0   insured_network        50000 non-null  object        \n",
      " 1   nationality            50000 non-null  object        \n",
      " 2   gender                 50000 non-null  object        \n",
      " 3   relation               50000 non-null  object        \n",
      " 4   dob                    49999 non-null  datetime64[ns]\n",
      " 5   diagnoses              41226 non-null  object        \n",
      " 6   has_chronic_disease    50000 non-null  int64         \n",
      " 7   exposition_22          50000 non-null  int64         \n",
      " 8   number_of_visits_22    50000 non-null  int64         \n",
      " 9   number_of_services_22  50000 non-null  int64         \n",
      " 10  exposition_23          50000 non-null  int64         \n",
      " 11  number_of_visits_23    50000 non-null  int64         \n",
      "dtypes: datetime64[ns](1), int64(6), object(5)\n",
      "memory usage: 5.0+ MB\n"
     ]
    }
   ],
   "source": [
    "train.info()"
   ]
  },
  {
   "cell_type": "code",
   "execution_count": 10,
   "metadata": {},
   "outputs": [
    {
     "name": "stdout",
     "output_type": "stream",
     "text": [
      "<class 'pandas.core.frame.DataFrame'>\n",
      "Int64Index: 10000 entries, 1516424 to 1384402\n",
      "Data columns (total 11 columns):\n",
      " #   Column                 Non-Null Count  Dtype         \n",
      "---  ------                 --------------  -----         \n",
      " 0   insured_network        10000 non-null  object        \n",
      " 1   nationality            10000 non-null  object        \n",
      " 2   gender                 10000 non-null  object        \n",
      " 3   relation               10000 non-null  object        \n",
      " 4   dob                    10000 non-null  datetime64[ns]\n",
      " 5   diagnoses              8274 non-null   object        \n",
      " 6   has_chronic_disease    10000 non-null  int64         \n",
      " 7   exposition_22          10000 non-null  int64         \n",
      " 8   number_of_visits_22    10000 non-null  int64         \n",
      " 9   number_of_services_22  10000 non-null  int64         \n",
      " 10  exposition_23          10000 non-null  int64         \n",
      "dtypes: datetime64[ns](1), int64(5), object(5)\n",
      "memory usage: 937.5+ KB\n"
     ]
    }
   ],
   "source": [
    "holdout.info()"
   ]
  },
  {
   "cell_type": "code",
   "execution_count": 11,
   "metadata": {},
   "outputs": [
    {
     "data": {
      "text/html": [
       "<div>\n",
       "<style scoped>\n",
       "    .dataframe tbody tr th:only-of-type {\n",
       "        vertical-align: middle;\n",
       "    }\n",
       "\n",
       "    .dataframe tbody tr th {\n",
       "        vertical-align: top;\n",
       "    }\n",
       "\n",
       "    .dataframe thead th {\n",
       "        text-align: right;\n",
       "    }\n",
       "</style>\n",
       "<table border=\"1\" class=\"dataframe\">\n",
       "  <thead>\n",
       "    <tr style=\"text-align: right;\">\n",
       "      <th></th>\n",
       "      <th>dob</th>\n",
       "      <th>has_chronic_disease</th>\n",
       "      <th>exposition_22</th>\n",
       "      <th>number_of_visits_22</th>\n",
       "      <th>number_of_services_22</th>\n",
       "      <th>exposition_23</th>\n",
       "      <th>number_of_visits_23</th>\n",
       "    </tr>\n",
       "  </thead>\n",
       "  <tbody>\n",
       "    <tr>\n",
       "      <th>count</th>\n",
       "      <td>49999</td>\n",
       "      <td>50000.000000</td>\n",
       "      <td>50000.000000</td>\n",
       "      <td>50000.000000</td>\n",
       "      <td>50000.000000</td>\n",
       "      <td>50000.000000</td>\n",
       "      <td>50000.000000</td>\n",
       "    </tr>\n",
       "    <tr>\n",
       "      <th>mean</th>\n",
       "      <td>1990-02-22 19:50:30.036600704</td>\n",
       "      <td>0.337940</td>\n",
       "      <td>358.898960</td>\n",
       "      <td>5.740320</td>\n",
       "      <td>22.477420</td>\n",
       "      <td>355.588420</td>\n",
       "      <td>5.898860</td>\n",
       "    </tr>\n",
       "    <tr>\n",
       "      <th>min</th>\n",
       "      <td>1920-03-21 00:00:00</td>\n",
       "      <td>0.000000</td>\n",
       "      <td>50.000000</td>\n",
       "      <td>0.000000</td>\n",
       "      <td>0.000000</td>\n",
       "      <td>50.000000</td>\n",
       "      <td>0.000000</td>\n",
       "    </tr>\n",
       "    <tr>\n",
       "      <th>25%</th>\n",
       "      <td>1971-03-23 00:00:00</td>\n",
       "      <td>0.000000</td>\n",
       "      <td>365.000000</td>\n",
       "      <td>1.000000</td>\n",
       "      <td>3.000000</td>\n",
       "      <td>365.000000</td>\n",
       "      <td>1.000000</td>\n",
       "    </tr>\n",
       "    <tr>\n",
       "      <th>50%</th>\n",
       "      <td>1991-11-13 00:00:00</td>\n",
       "      <td>0.000000</td>\n",
       "      <td>365.000000</td>\n",
       "      <td>4.000000</td>\n",
       "      <td>13.000000</td>\n",
       "      <td>365.000000</td>\n",
       "      <td>4.000000</td>\n",
       "    </tr>\n",
       "    <tr>\n",
       "      <th>75%</th>\n",
       "      <td>2011-04-17 00:00:00</td>\n",
       "      <td>1.000000</td>\n",
       "      <td>365.000000</td>\n",
       "      <td>8.000000</td>\n",
       "      <td>31.000000</td>\n",
       "      <td>365.000000</td>\n",
       "      <td>8.000000</td>\n",
       "    </tr>\n",
       "    <tr>\n",
       "      <th>max</th>\n",
       "      <td>2022-11-12 00:00:00</td>\n",
       "      <td>1.000000</td>\n",
       "      <td>365.000000</td>\n",
       "      <td>151.000000</td>\n",
       "      <td>962.000000</td>\n",
       "      <td>365.000000</td>\n",
       "      <td>202.000000</td>\n",
       "    </tr>\n",
       "    <tr>\n",
       "      <th>std</th>\n",
       "      <td>NaN</td>\n",
       "      <td>0.473013</td>\n",
       "      <td>35.562003</td>\n",
       "      <td>6.592556</td>\n",
       "      <td>29.714146</td>\n",
       "      <td>43.779065</td>\n",
       "      <td>6.856904</td>\n",
       "    </tr>\n",
       "  </tbody>\n",
       "</table>\n",
       "</div>"
      ],
      "text/plain": [
       "                                 dob  has_chronic_disease  exposition_22  \\\n",
       "count                          49999         50000.000000   50000.000000   \n",
       "mean   1990-02-22 19:50:30.036600704             0.337940     358.898960   \n",
       "min              1920-03-21 00:00:00             0.000000      50.000000   \n",
       "25%              1971-03-23 00:00:00             0.000000     365.000000   \n",
       "50%              1991-11-13 00:00:00             0.000000     365.000000   \n",
       "75%              2011-04-17 00:00:00             1.000000     365.000000   \n",
       "max              2022-11-12 00:00:00             1.000000     365.000000   \n",
       "std                              NaN             0.473013      35.562003   \n",
       "\n",
       "       number_of_visits_22  number_of_services_22  exposition_23  \\\n",
       "count         50000.000000           50000.000000   50000.000000   \n",
       "mean              5.740320              22.477420     355.588420   \n",
       "min               0.000000               0.000000      50.000000   \n",
       "25%               1.000000               3.000000     365.000000   \n",
       "50%               4.000000              13.000000     365.000000   \n",
       "75%               8.000000              31.000000     365.000000   \n",
       "max             151.000000             962.000000     365.000000   \n",
       "std               6.592556              29.714146      43.779065   \n",
       "\n",
       "       number_of_visits_23  \n",
       "count         50000.000000  \n",
       "mean              5.898860  \n",
       "min               0.000000  \n",
       "25%               1.000000  \n",
       "50%               4.000000  \n",
       "75%               8.000000  \n",
       "max             202.000000  \n",
       "std               6.856904  "
      ]
     },
     "execution_count": 11,
     "metadata": {},
     "output_type": "execute_result"
    }
   ],
   "source": [
    "train.describe(datetime_is_numeric=True)"
   ]
  },
  {
   "cell_type": "code",
   "execution_count": 12,
   "metadata": {},
   "outputs": [
    {
     "data": {
      "text/plain": [
       "8774"
      ]
     },
     "execution_count": 12,
     "metadata": {},
     "output_type": "execute_result"
    }
   ],
   "source": [
    "train.diagnoses.isnull().sum()"
   ]
  },
  {
   "cell_type": "markdown",
   "metadata": {},
   "source": [
    "**Вывод:** Данные загружены в две переменные. Колонки приведены к `snake_case`. `holdout` - задержанные данные не рассматривается в деталях во избежании утечки данных. Поскольку ЦП для `holdout` неизвестен, для тестирования модели понадобится разбить данные перед кросс валидацией. Это будет сделано после исследовательского анализа.\n",
    "\n",
    "Обучающая выборка содержит 13 колонок. В `diagnoses` значительное (20%) количество пропусков. Некоторые признаки, такие как `nationality`, `insured_network` и `relation` вряд ли сыграют большую роль в принятии решений моделью. Кроме того `insured_network` интересна с точки зрения бизнеса поскольку скорее всего повысит выплаты за обслуживание."
   ]
  },
  {
   "cell_type": "markdown",
   "metadata": {},
   "source": [
    "## 6. <a id='toc6_'></a>[Исследовательский анализ](#toc0_)"
   ]
  },
  {
   "cell_type": "markdown",
   "metadata": {},
   "source": [
    "### 6.1. <a id='toc6_1_'></a>[Введение](#toc0_)\n",
    "\n",
    "В данном разделе только знакомство с признаками, изменение данных будет проведено в следующем"
   ]
  },
  {
   "cell_type": "code",
   "execution_count": 13,
   "metadata": {},
   "outputs": [],
   "source": [
    "def target_breakdown(feature: str, df=train, head=20): # quick print for number of visits in 22 and 23 based on a feature name (string)\n",
    "    return pd. concat(\n",
    "    [df[feature].value_counts(normalize=True) * 100,\n",
    "    df[feature].value_counts(),\n",
    "    df['number_of_visits_22'].groupby(df[feature]).mean(),\n",
    "    df['number_of_visits_23'].groupby(df[feature]).mean()],\n",
    "      axis = 1, keys = ['percentage', 'total', 'visits_mean_22', 'visits_mean_23']).head(head) \\\n",
    "        .style.set_caption(feature) \\\n",
    "        .set_table_styles([{\n",
    "            'selector': 'caption',\n",
    "            'props': [('font-weight', 'bold')]\n",
    "            }])"
   ]
  },
  {
   "cell_type": "code",
   "execution_count": 14,
   "metadata": {},
   "outputs": [],
   "source": [
    "def target_corr(feature:str): # correlation number of visits in 22 and 23 based on a feature name (string)\n",
    "    return pd.DataFrame(train[[feature, 'number_of_visits_22', 'number_of_visits_23']].corr()[feature].drop(feature)).rename(columns={feature:'corr with '+feature})"
   ]
  },
  {
   "cell_type": "markdown",
   "metadata": {},
   "source": [
    "**Вывод:** Функции позволяют быстро оценить распределение и корреляцию с ЦП."
   ]
  },
  {
   "cell_type": "markdown",
   "metadata": {},
   "source": [
    "### 6.2. <a id='toc6_2_'></a>[insured_pin](#toc0_)"
   ]
  },
  {
   "cell_type": "code",
   "execution_count": 15,
   "metadata": {},
   "outputs": [
    {
     "data": {
      "text/plain": [
       "0"
      ]
     },
     "execution_count": 15,
     "metadata": {},
     "output_type": "execute_result"
    }
   ],
   "source": [
    "train.index.append(holdout.index).duplicated().sum()\n"
   ]
  },
  {
   "cell_type": "markdown",
   "metadata": {},
   "source": [
    "**Corollary:** Дубликатов нет. Первичный ключ приемлем."
   ]
  },
  {
   "cell_type": "markdown",
   "metadata": {},
   "source": [
    "### 6.3. <a id='toc6_3_'></a>[insured_network](#toc0_)"
   ]
  },
  {
   "cell_type": "code",
   "execution_count": 16,
   "metadata": {},
   "outputs": [
    {
     "data": {
      "text/plain": [
       "array(['Network-4', 'Network-2', 'Network-5', 'Network-1', 'Network-3',\n",
       "       'Network-6', 'Network-7', 'Network-8'], dtype=object)"
      ]
     },
     "execution_count": 16,
     "metadata": {},
     "output_type": "execute_result"
    }
   ],
   "source": [
    "train['insured_network'].unique()"
   ]
  },
  {
   "cell_type": "code",
   "execution_count": 17,
   "metadata": {},
   "outputs": [
    {
     "data": {
      "text/html": [
       "<style  type=\"text/css\" >\n",
       "    #T_8ba0e_ caption {\n",
       "          font-weight: bold;\n",
       "    }</style><table id=\"T_8ba0e_\" ><caption>insured_network</caption><thead>    <tr>        <th class=\"blank level0\" ></th>        <th class=\"col_heading level0 col0\" >percentage</th>        <th class=\"col_heading level0 col1\" >total</th>        <th class=\"col_heading level0 col2\" >visits_mean_22</th>        <th class=\"col_heading level0 col3\" >visits_mean_23</th>    </tr></thead><tbody>\n",
       "                <tr>\n",
       "                        <th id=\"T_8ba0e_level0_row0\" class=\"row_heading level0 row0\" >Network-2</th>\n",
       "                        <td id=\"T_8ba0e_row0_col0\" class=\"data row0 col0\" >93.114000</td>\n",
       "                        <td id=\"T_8ba0e_row0_col1\" class=\"data row0 col1\" >46557</td>\n",
       "                        <td id=\"T_8ba0e_row0_col2\" class=\"data row0 col2\" >5.789226</td>\n",
       "                        <td id=\"T_8ba0e_row0_col3\" class=\"data row0 col3\" >5.937947</td>\n",
       "            </tr>\n",
       "            <tr>\n",
       "                        <th id=\"T_8ba0e_level0_row1\" class=\"row_heading level0 row1\" >Network-1</th>\n",
       "                        <td id=\"T_8ba0e_row1_col0\" class=\"data row1 col0\" >2.930000</td>\n",
       "                        <td id=\"T_8ba0e_row1_col1\" class=\"data row1 col1\" >1465</td>\n",
       "                        <td id=\"T_8ba0e_row1_col2\" class=\"data row1 col2\" >6.772696</td>\n",
       "                        <td id=\"T_8ba0e_row1_col3\" class=\"data row1 col3\" >6.943345</td>\n",
       "            </tr>\n",
       "            <tr>\n",
       "                        <th id=\"T_8ba0e_level0_row2\" class=\"row_heading level0 row2\" >Network-4</th>\n",
       "                        <td id=\"T_8ba0e_row2_col0\" class=\"data row2 col0\" >1.922000</td>\n",
       "                        <td id=\"T_8ba0e_row2_col1\" class=\"data row2 col1\" >961</td>\n",
       "                        <td id=\"T_8ba0e_row2_col2\" class=\"data row2 col2\" >4.071800</td>\n",
       "                        <td id=\"T_8ba0e_row2_col3\" class=\"data row2 col3\" >4.480749</td>\n",
       "            </tr>\n",
       "            <tr>\n",
       "                        <th id=\"T_8ba0e_level0_row3\" class=\"row_heading level0 row3\" >Network-5</th>\n",
       "                        <td id=\"T_8ba0e_row3_col0\" class=\"data row3 col0\" >1.132000</td>\n",
       "                        <td id=\"T_8ba0e_row3_col1\" class=\"data row3 col1\" >566</td>\n",
       "                        <td id=\"T_8ba0e_row3_col2\" class=\"data row3 col2\" >3.379859</td>\n",
       "                        <td id=\"T_8ba0e_row3_col3\" class=\"data row3 col3\" >3.927562</td>\n",
       "            </tr>\n",
       "            <tr>\n",
       "                        <th id=\"T_8ba0e_level0_row4\" class=\"row_heading level0 row4\" >Network-3</th>\n",
       "                        <td id=\"T_8ba0e_row4_col0\" class=\"data row4 col0\" >0.560000</td>\n",
       "                        <td id=\"T_8ba0e_row4_col1\" class=\"data row4 col1\" >280</td>\n",
       "                        <td id=\"T_8ba0e_row4_col2\" class=\"data row4 col2\" >5.017857</td>\n",
       "                        <td id=\"T_8ba0e_row4_col3\" class=\"data row4 col3\" >5.203571</td>\n",
       "            </tr>\n",
       "            <tr>\n",
       "                        <th id=\"T_8ba0e_level0_row5\" class=\"row_heading level0 row5\" >Network-6</th>\n",
       "                        <td id=\"T_8ba0e_row5_col0\" class=\"data row5 col0\" >0.242000</td>\n",
       "                        <td id=\"T_8ba0e_row5_col1\" class=\"data row5 col1\" >121</td>\n",
       "                        <td id=\"T_8ba0e_row5_col2\" class=\"data row5 col2\" >1.834711</td>\n",
       "                        <td id=\"T_8ba0e_row5_col3\" class=\"data row5 col3\" >1.785124</td>\n",
       "            </tr>\n",
       "            <tr>\n",
       "                        <th id=\"T_8ba0e_level0_row6\" class=\"row_heading level0 row6\" >Network-7</th>\n",
       "                        <td id=\"T_8ba0e_row6_col0\" class=\"data row6 col0\" >0.088000</td>\n",
       "                        <td id=\"T_8ba0e_row6_col1\" class=\"data row6 col1\" >44</td>\n",
       "                        <td id=\"T_8ba0e_row6_col2\" class=\"data row6 col2\" >2.477273</td>\n",
       "                        <td id=\"T_8ba0e_row6_col3\" class=\"data row6 col3\" >2.454545</td>\n",
       "            </tr>\n",
       "            <tr>\n",
       "                        <th id=\"T_8ba0e_level0_row7\" class=\"row_heading level0 row7\" >Network-8</th>\n",
       "                        <td id=\"T_8ba0e_row7_col0\" class=\"data row7 col0\" >0.012000</td>\n",
       "                        <td id=\"T_8ba0e_row7_col1\" class=\"data row7 col1\" >6</td>\n",
       "                        <td id=\"T_8ba0e_row7_col2\" class=\"data row7 col2\" >0.500000</td>\n",
       "                        <td id=\"T_8ba0e_row7_col3\" class=\"data row7 col3\" >1.333333</td>\n",
       "            </tr>\n",
       "    </tbody></table>"
      ],
      "text/plain": [
       "<pandas.io.formats.style.Styler at 0x2b8e2dd39d0>"
      ]
     },
     "execution_count": 17,
     "metadata": {},
     "output_type": "execute_result"
    }
   ],
   "source": [
    "target_breakdown('insured_network')"
   ]
  },
  {
   "cell_type": "code",
   "execution_count": 18,
   "metadata": {},
   "outputs": [
    {
     "data": {
      "text/plain": [
       "insured_network\n",
       "False    5.370317\n",
       "True     5.937947\n",
       "Name: number_of_visits_23, dtype: float64"
      ]
     },
     "execution_count": 18,
     "metadata": {},
     "output_type": "execute_result"
    }
   ],
   "source": [
    "train['number_of_visits_23'].groupby(train['insured_network'] == 'Network-2').mean()"
   ]
  },
  {
   "cell_type": "markdown",
   "metadata": {},
   "source": [
    "**Вывод:** Огромный дисбаланс классов здесь представляет проблему - даже если категория интересна с точки зрения МО, она может создать проблемы если будущие данные имеют другое распределение."
   ]
  },
  {
   "cell_type": "markdown",
   "metadata": {},
   "source": [
    "### 6.4. <a id='toc6_4_'></a>[nationality](#toc0_)"
   ]
  },
  {
   "cell_type": "code",
   "execution_count": 19,
   "metadata": {},
   "outputs": [
    {
     "data": {
      "text/plain": [
       "array(['Group 2', 'Saudi', 'Group 3', 'Group 4', 'Others', 'Group 1'],\n",
       "      dtype=object)"
      ]
     },
     "execution_count": 19,
     "metadata": {},
     "output_type": "execute_result"
    }
   ],
   "source": [
    "train['nationality'].unique()"
   ]
  },
  {
   "cell_type": "code",
   "execution_count": 20,
   "metadata": {},
   "outputs": [
    {
     "data": {
      "text/html": [
       "<style  type=\"text/css\" >\n",
       "    #T_34754_ caption {\n",
       "          font-weight: bold;\n",
       "    }</style><table id=\"T_34754_\" ><caption>nationality</caption><thead>    <tr>        <th class=\"blank level0\" ></th>        <th class=\"col_heading level0 col0\" >percentage</th>        <th class=\"col_heading level0 col1\" >total</th>        <th class=\"col_heading level0 col2\" >visits_mean_22</th>        <th class=\"col_heading level0 col3\" >visits_mean_23</th>    </tr></thead><tbody>\n",
       "                <tr>\n",
       "                        <th id=\"T_34754_level0_row0\" class=\"row_heading level0 row0\" >Saudi</th>\n",
       "                        <td id=\"T_34754_row0_col0\" class=\"data row0 col0\" >93.392000</td>\n",
       "                        <td id=\"T_34754_row0_col1\" class=\"data row0 col1\" >46696</td>\n",
       "                        <td id=\"T_34754_row0_col2\" class=\"data row0 col2\" >5.758202</td>\n",
       "                        <td id=\"T_34754_row0_col3\" class=\"data row0 col3\" >5.921321</td>\n",
       "            </tr>\n",
       "            <tr>\n",
       "                        <th id=\"T_34754_level0_row1\" class=\"row_heading level0 row1\" >Group 2</th>\n",
       "                        <td id=\"T_34754_row1_col0\" class=\"data row1 col0\" >2.798000</td>\n",
       "                        <td id=\"T_34754_row1_col1\" class=\"data row1 col1\" >1399</td>\n",
       "                        <td id=\"T_34754_row1_col2\" class=\"data row1 col2\" >4.690493</td>\n",
       "                        <td id=\"T_34754_row1_col3\" class=\"data row1 col3\" >4.857756</td>\n",
       "            </tr>\n",
       "            <tr>\n",
       "                        <th id=\"T_34754_level0_row2\" class=\"row_heading level0 row2\" >Group 3</th>\n",
       "                        <td id=\"T_34754_row2_col0\" class=\"data row2 col0\" >2.224000</td>\n",
       "                        <td id=\"T_34754_row2_col1\" class=\"data row2 col1\" >1112</td>\n",
       "                        <td id=\"T_34754_row2_col2\" class=\"data row2 col2\" >6.449640</td>\n",
       "                        <td id=\"T_34754_row2_col3\" class=\"data row2 col3\" >6.468525</td>\n",
       "            </tr>\n",
       "            <tr>\n",
       "                        <th id=\"T_34754_level0_row3\" class=\"row_heading level0 row3\" >Group 4</th>\n",
       "                        <td id=\"T_34754_row3_col0\" class=\"data row3 col0\" >0.614000</td>\n",
       "                        <td id=\"T_34754_row3_col1\" class=\"data row3 col1\" >307</td>\n",
       "                        <td id=\"T_34754_row3_col2\" class=\"data row3 col2\" >6.410423</td>\n",
       "                        <td id=\"T_34754_row3_col3\" class=\"data row3 col3\" >6.833876</td>\n",
       "            </tr>\n",
       "            <tr>\n",
       "                        <th id=\"T_34754_level0_row4\" class=\"row_heading level0 row4\" >Others</th>\n",
       "                        <td id=\"T_34754_row4_col0\" class=\"data row4 col0\" >0.494000</td>\n",
       "                        <td id=\"T_34754_row4_col1\" class=\"data row4 col1\" >247</td>\n",
       "                        <td id=\"T_34754_row4_col2\" class=\"data row4 col2\" >6.902834</td>\n",
       "                        <td id=\"T_34754_row4_col3\" class=\"data row4 col3\" >6.311741</td>\n",
       "            </tr>\n",
       "            <tr>\n",
       "                        <th id=\"T_34754_level0_row5\" class=\"row_heading level0 row5\" >Group 1</th>\n",
       "                        <td id=\"T_34754_row5_col0\" class=\"data row5 col0\" >0.478000</td>\n",
       "                        <td id=\"T_34754_row5_col1\" class=\"data row5 col1\" >239</td>\n",
       "                        <td id=\"T_34754_row5_col2\" class=\"data row5 col2\" >3.029289</td>\n",
       "                        <td id=\"T_34754_row5_col3\" class=\"data row5 col3\" >3.326360</td>\n",
       "            </tr>\n",
       "    </tbody></table>"
      ],
      "text/plain": [
       "<pandas.io.formats.style.Styler at 0x2b8cef207c0>"
      ]
     },
     "execution_count": 20,
     "metadata": {},
     "output_type": "execute_result"
    }
   ],
   "source": [
    "target_breakdown('nationality')"
   ]
  },
  {
   "cell_type": "code",
   "execution_count": 21,
   "metadata": {
    "scrolled": true
   },
   "outputs": [
    {
     "data": {
      "text/plain": [
       "nationality\n",
       "False    5.581416\n",
       "True     5.921321\n",
       "Name: number_of_visits_23, dtype: float64"
      ]
     },
     "execution_count": 21,
     "metadata": {},
     "output_type": "execute_result"
    }
   ],
   "source": [
    "train['number_of_visits_23'].groupby(train['nationality'] == 'Saudi').mean()"
   ]
  },
  {
   "cell_type": "code",
   "execution_count": 22,
   "metadata": {},
   "outputs": [
    {
     "data": {
      "text/plain": [
       "Network-2    96.083176\n",
       "Network-1     2.317115\n",
       "Network-4     1.190680\n",
       "Network-3     0.207727\n",
       "Network-5     0.197019\n",
       "Network-7     0.002142\n",
       "Network-8     0.002142\n",
       "Name: insured_network, dtype: float64"
      ]
     },
     "execution_count": 22,
     "metadata": {},
     "output_type": "execute_result"
    }
   ],
   "source": [
    "train['insured_network'][train['nationality'] == 'Saudi'].value_counts(normalize=True) * 100"
   ]
  },
  {
   "cell_type": "markdown",
   "metadata": {},
   "source": [
    "**Вывод:**  Большинство застрахованных - Саудовцы. Сложно понять как это признак повлияет на ЦП, и также как и с `network_id` представлен высокий уровень дисбаланса, но сложно оправдать балансировку классов, учитывая низкое количество записей вне основной категории. \n",
    "\n",
    "Среди Саудовцев чуть больше клиентов `Network-2`, не не полное пересечение классов, это повышает шансы, что дисбаланс классов не является ошибкой данных."
   ]
  },
  {
   "cell_type": "markdown",
   "metadata": {},
   "source": [
    "### 6.5. <a id='toc6_5_'></a>[gender](#toc0_)"
   ]
  },
  {
   "cell_type": "code",
   "execution_count": 23,
   "metadata": {},
   "outputs": [
    {
     "data": {
      "text/plain": [
       "array(['Male', 'Female'], dtype=object)"
      ]
     },
     "execution_count": 23,
     "metadata": {},
     "output_type": "execute_result"
    }
   ],
   "source": [
    "train['gender'].unique()"
   ]
  },
  {
   "cell_type": "code",
   "execution_count": 24,
   "metadata": {},
   "outputs": [
    {
     "data": {
      "text/html": [
       "<style  type=\"text/css\" >\n",
       "    #T_c1122_ caption {\n",
       "          font-weight: bold;\n",
       "    }</style><table id=\"T_c1122_\" ><caption>gender</caption><thead>    <tr>        <th class=\"blank level0\" ></th>        <th class=\"col_heading level0 col0\" >percentage</th>        <th class=\"col_heading level0 col1\" >total</th>        <th class=\"col_heading level0 col2\" >visits_mean_22</th>        <th class=\"col_heading level0 col3\" >visits_mean_23</th>    </tr></thead><tbody>\n",
       "                <tr>\n",
       "                        <th id=\"T_c1122_level0_row0\" class=\"row_heading level0 row0\" >Male</th>\n",
       "                        <td id=\"T_c1122_row0_col0\" class=\"data row0 col0\" >51.168000</td>\n",
       "                        <td id=\"T_c1122_row0_col1\" class=\"data row0 col1\" >25584</td>\n",
       "                        <td id=\"T_c1122_row0_col2\" class=\"data row0 col2\" >5.438360</td>\n",
       "                        <td id=\"T_c1122_row0_col3\" class=\"data row0 col3\" >5.580128</td>\n",
       "            </tr>\n",
       "            <tr>\n",
       "                        <th id=\"T_c1122_level0_row1\" class=\"row_heading level0 row1\" >Female</th>\n",
       "                        <td id=\"T_c1122_row1_col0\" class=\"data row1 col0\" >48.832000</td>\n",
       "                        <td id=\"T_c1122_row1_col1\" class=\"data row1 col1\" >24416</td>\n",
       "                        <td id=\"T_c1122_row1_col2\" class=\"data row1 col2\" >6.056725</td>\n",
       "                        <td id=\"T_c1122_row1_col3\" class=\"data row1 col3\" >6.232839</td>\n",
       "            </tr>\n",
       "    </tbody></table>"
      ],
      "text/plain": [
       "<pandas.io.formats.style.Styler at 0x2b8d811fdc0>"
      ]
     },
     "execution_count": 24,
     "metadata": {},
     "output_type": "execute_result"
    }
   ],
   "source": [
    "target_breakdown('gender')"
   ]
  },
  {
   "cell_type": "markdown",
   "metadata": {},
   "source": [
    "**Вывод:** Количество мужчин и женщин близкое к равному. Балансирование классов не требуется. Есть небольшая разница в среднем значении ЦП между полами. Возможно моделирование полов отдельно повысит качество модели."
   ]
  },
  {
   "cell_type": "markdown",
   "metadata": {},
   "source": [
    "### 6.6. <a id='toc6_6_'></a>[date of birth](#toc0_)"
   ]
  },
  {
   "cell_type": "code",
   "execution_count": 25,
   "metadata": {},
   "outputs": [
    {
     "data": {
      "text/plain": [
       "count                            49999\n",
       "mean     1990-02-22 19:50:30.036600704\n",
       "min                1920-03-21 00:00:00\n",
       "25%                1971-03-23 00:00:00\n",
       "50%                1991-11-13 00:00:00\n",
       "75%                2011-04-17 00:00:00\n",
       "max                2022-11-12 00:00:00\n",
       "Name: dob, dtype: object"
      ]
     },
     "execution_count": 25,
     "metadata": {},
     "output_type": "execute_result"
    }
   ],
   "source": [
    "train['dob'].describe(datetime_is_numeric=True)"
   ]
  },
  {
   "cell_type": "code",
   "execution_count": 26,
   "metadata": {},
   "outputs": [
    {
     "data": {
      "text/plain": [
       "count    49999.000000\n",
       "mean        33.365907\n",
       "std         22.741768\n",
       "min          1.000000\n",
       "25%         12.000000\n",
       "50%         32.000000\n",
       "75%         52.000000\n",
       "max        103.000000\n",
       "Name: age, dtype: float64"
      ]
     },
     "execution_count": 26,
     "metadata": {},
     "output_type": "execute_result"
    }
   ],
   "source": [
    "age = (2023 - train['dob'].dt.year).rename('age')\n",
    "age.describe()"
   ]
  },
  {
   "cell_type": "code",
   "execution_count": 27,
   "metadata": {},
   "outputs": [
    {
     "data": {
      "image/png": "[encoded data removed]",
      "text/plain": [
       "<Figure size 640x480 with 1 Axes>"
      ]
     },
     "metadata": {},
     "output_type": "display_data"
    }
   ],
   "source": [
    "age.hist(bins=100)\n",
    "plt.title('Age hist')\n",
    "plt.ylabel('Quantity')\n",
    "plt.xlabel('Age');"
   ]
  },
  {
   "cell_type": "code",
   "execution_count": 28,
   "metadata": {},
   "outputs": [
    {
     "data": {
      "text/html": [
       "<div>\n",
       "<style scoped>\n",
       "    .dataframe tbody tr th:only-of-type {\n",
       "        vertical-align: middle;\n",
       "    }\n",
       "\n",
       "    .dataframe tbody tr th {\n",
       "        vertical-align: top;\n",
       "    }\n",
       "\n",
       "    .dataframe thead th {\n",
       "        text-align: right;\n",
       "    }\n",
       "</style>\n",
       "<table border=\"1\" class=\"dataframe\">\n",
       "  <thead>\n",
       "    <tr style=\"text-align: right;\">\n",
       "      <th></th>\n",
       "      <th>insured_network</th>\n",
       "      <th>nationality</th>\n",
       "      <th>gender</th>\n",
       "      <th>relation</th>\n",
       "      <th>dob</th>\n",
       "      <th>diagnoses</th>\n",
       "      <th>has_chronic_disease</th>\n",
       "      <th>exposition_22</th>\n",
       "      <th>number_of_visits_22</th>\n",
       "      <th>number_of_services_22</th>\n",
       "      <th>exposition_23</th>\n",
       "      <th>number_of_visits_23</th>\n",
       "    </tr>\n",
       "    <tr>\n",
       "      <th>insured_pin</th>\n",
       "      <th></th>\n",
       "      <th></th>\n",
       "      <th></th>\n",
       "      <th></th>\n",
       "      <th></th>\n",
       "      <th></th>\n",
       "      <th></th>\n",
       "      <th></th>\n",
       "      <th></th>\n",
       "      <th></th>\n",
       "      <th></th>\n",
       "      <th></th>\n",
       "    </tr>\n",
       "  </thead>\n",
       "  <tbody>\n",
       "    <tr>\n",
       "      <th>1451433</th>\n",
       "      <td>Network-2</td>\n",
       "      <td>Saudi</td>\n",
       "      <td>Male</td>\n",
       "      <td>Self</td>\n",
       "      <td>NaT</td>\n",
       "      <td>H93.1;A09.9;R10;N39.0;M79;E78.5;N77.1;M23;E11....</td>\n",
       "      <td>1</td>\n",
       "      <td>365</td>\n",
       "      <td>15</td>\n",
       "      <td>62</td>\n",
       "      <td>365</td>\n",
       "      <td>14</td>\n",
       "    </tr>\n",
       "  </tbody>\n",
       "</table>\n",
       "</div>"
      ],
      "text/plain": [
       "            insured_network nationality gender relation dob  \\\n",
       "insured_pin                                                   \n",
       "1451433           Network-2       Saudi   Male     Self NaT   \n",
       "\n",
       "                                                     diagnoses  \\\n",
       "insured_pin                                                      \n",
       "1451433      H93.1;A09.9;R10;N39.0;M79;E78.5;N77.1;M23;E11....   \n",
       "\n",
       "             has_chronic_disease  exposition_22  number_of_visits_22  \\\n",
       "insured_pin                                                            \n",
       "1451433                        1            365                   15   \n",
       "\n",
       "             number_of_services_22  exposition_23  number_of_visits_23  \n",
       "insured_pin                                                             \n",
       "1451433                         62            365                   14  "
      ]
     },
     "execution_count": 28,
     "metadata": {},
     "output_type": "execute_result"
    }
   ],
   "source": [
    "train[train['dob'].isnull()]"
   ]
  },
  {
   "cell_type": "code",
   "execution_count": 29,
   "metadata": {},
   "outputs": [
    {
     "data": {
      "text/html": [
       "<div>\n",
       "<style scoped>\n",
       "    .dataframe tbody tr th:only-of-type {\n",
       "        vertical-align: middle;\n",
       "    }\n",
       "\n",
       "    .dataframe tbody tr th {\n",
       "        vertical-align: top;\n",
       "    }\n",
       "\n",
       "    .dataframe thead th {\n",
       "        text-align: right;\n",
       "    }\n",
       "</style>\n",
       "<table border=\"1\" class=\"dataframe\">\n",
       "  <thead>\n",
       "    <tr style=\"text-align: right;\">\n",
       "      <th></th>\n",
       "      <th>insured_network</th>\n",
       "      <th>nationality</th>\n",
       "      <th>gender</th>\n",
       "      <th>relation</th>\n",
       "      <th>dob</th>\n",
       "      <th>diagnoses</th>\n",
       "      <th>has_chronic_disease</th>\n",
       "      <th>exposition_22</th>\n",
       "      <th>number_of_visits_22</th>\n",
       "      <th>number_of_services_22</th>\n",
       "      <th>exposition_23</th>\n",
       "      <th>number_of_visits_23</th>\n",
       "    </tr>\n",
       "    <tr>\n",
       "      <th>insured_pin</th>\n",
       "      <th></th>\n",
       "      <th></th>\n",
       "      <th></th>\n",
       "      <th></th>\n",
       "      <th></th>\n",
       "      <th></th>\n",
       "      <th></th>\n",
       "      <th></th>\n",
       "      <th></th>\n",
       "      <th></th>\n",
       "      <th></th>\n",
       "      <th></th>\n",
       "    </tr>\n",
       "  </thead>\n",
       "  <tbody>\n",
       "    <tr>\n",
       "      <th>2622146</th>\n",
       "      <td>Network-1</td>\n",
       "      <td>Saudi</td>\n",
       "      <td>Male</td>\n",
       "      <td>Self</td>\n",
       "      <td>2011-02-06</td>\n",
       "      <td>J03;J00</td>\n",
       "      <td>1</td>\n",
       "      <td>365</td>\n",
       "      <td>2</td>\n",
       "      <td>3</td>\n",
       "      <td>365</td>\n",
       "      <td>3</td>\n",
       "    </tr>\n",
       "    <tr>\n",
       "      <th>4231556</th>\n",
       "      <td>Network-2</td>\n",
       "      <td>Saudi</td>\n",
       "      <td>Female</td>\n",
       "      <td>Spouse</td>\n",
       "      <td>2011-01-26</td>\n",
       "      <td>NaN</td>\n",
       "      <td>0</td>\n",
       "      <td>365</td>\n",
       "      <td>0</td>\n",
       "      <td>0</td>\n",
       "      <td>365</td>\n",
       "      <td>1</td>\n",
       "    </tr>\n",
       "    <tr>\n",
       "      <th>86461104</th>\n",
       "      <td>Network-1</td>\n",
       "      <td>Saudi</td>\n",
       "      <td>Male</td>\n",
       "      <td>Other</td>\n",
       "      <td>2008-07-04</td>\n",
       "      <td>E14.11;E55;E10;K90.9;A09.9;J20;A09;E11</td>\n",
       "      <td>1</td>\n",
       "      <td>365</td>\n",
       "      <td>14</td>\n",
       "      <td>90</td>\n",
       "      <td>365</td>\n",
       "      <td>25</td>\n",
       "    </tr>\n",
       "  </tbody>\n",
       "</table>\n",
       "</div>"
      ],
      "text/plain": [
       "            insured_network nationality  gender relation        dob  \\\n",
       "insured_pin                                                           \n",
       "2622146           Network-1       Saudi    Male     Self 2011-02-06   \n",
       "4231556           Network-2       Saudi  Female   Spouse 2011-01-26   \n",
       "86461104          Network-1       Saudi    Male    Other 2008-07-04   \n",
       "\n",
       "                                          diagnoses  has_chronic_disease  \\\n",
       "insured_pin                                                                \n",
       "2622146                                     J03;J00                    1   \n",
       "4231556                                         NaN                    0   \n",
       "86461104     E14.11;E55;E10;K90.9;A09.9;J20;A09;E11                    1   \n",
       "\n",
       "             exposition_22  number_of_visits_22  number_of_services_22  \\\n",
       "insured_pin                                                              \n",
       "2622146                365                    2                      3   \n",
       "4231556                365                    0                      0   \n",
       "86461104               365                   14                     90   \n",
       "\n",
       "             exposition_23  number_of_visits_23  \n",
       "insured_pin                                      \n",
       "2622146                365                    3  \n",
       "4231556                365                    1  \n",
       "86461104               365                   25  "
      ]
     },
     "execution_count": 29,
     "metadata": {},
     "output_type": "execute_result"
    }
   ],
   "source": [
    "train[(train['dob'] > '2008') & (train.relation != 'Child')]"
   ]
  },
  {
   "cell_type": "code",
   "execution_count": 30,
   "metadata": {},
   "outputs": [
    {
     "data": {
      "text/plain": [
       "Self      136\n",
       "Parent      1\n",
       "Name: relation, dtype: int64"
      ]
     },
     "execution_count": 30,
     "metadata": {},
     "output_type": "execute_result"
    }
   ],
   "source": [
    "train[(train['dob'] < '1932')].relation.value_counts()"
   ]
  },
  {
   "cell_type": "code",
   "execution_count": 31,
   "metadata": {},
   "outputs": [
    {
     "data": {
      "text/html": [
       "<div>\n",
       "<style scoped>\n",
       "    .dataframe tbody tr th:only-of-type {\n",
       "        vertical-align: middle;\n",
       "    }\n",
       "\n",
       "    .dataframe tbody tr th {\n",
       "        vertical-align: top;\n",
       "    }\n",
       "\n",
       "    .dataframe thead th {\n",
       "        text-align: right;\n",
       "    }\n",
       "</style>\n",
       "<table border=\"1\" class=\"dataframe\">\n",
       "  <thead>\n",
       "    <tr style=\"text-align: right;\">\n",
       "      <th></th>\n",
       "      <th>corr with age</th>\n",
       "    </tr>\n",
       "  </thead>\n",
       "  <tbody>\n",
       "    <tr>\n",
       "      <th>number_of_visits_22</th>\n",
       "      <td>0.069100</td>\n",
       "    </tr>\n",
       "    <tr>\n",
       "      <th>number_of_visits_23</th>\n",
       "      <td>0.090506</td>\n",
       "    </tr>\n",
       "  </tbody>\n",
       "</table>\n",
       "</div>"
      ],
      "text/plain": [
       "                     corr with age\n",
       "number_of_visits_22       0.069100\n",
       "number_of_visits_23       0.090506"
      ]
     },
     "execution_count": 31,
     "metadata": {},
     "output_type": "execute_result"
    }
   ],
   "source": [
    "age_target = pd.concat([\n",
    "    age,\n",
    "    train['number_of_visits_22'],\n",
    "    train['number_of_visits_23']\n",
    "    ], axis=1, keys=['age', 'number_of_visits_22', 'number_of_visits_23'])\n",
    "\n",
    "pd.DataFrame(age_target.corr()['age'].drop('age')).rename(columns={'age':'corr with age'})"
   ]
  },
  {
   "cell_type": "code",
   "execution_count": 32,
   "metadata": {},
   "outputs": [
    {
     "data": {
      "image/png": "[encoded data removed]",
      "text/plain": [
       "<Figure size 640x480 with 1 Axes>"
      ]
     },
     "metadata": {},
     "output_type": "display_data"
    }
   ],
   "source": [
    "age_target.groupby('age').mean().plot( y='number_of_visits_23')\n",
    "plt.title('Mean target value by age')\n",
    "plt.legend('')\n",
    "plt.ylabel('number_of_visits_23');"
   ]
  },
  {
   "cell_type": "code",
   "execution_count": 33,
   "metadata": {},
   "outputs": [
    {
     "data": {
      "image/png": "[encoded data removed]",
      "text/plain": [
       "<Figure size 640x480 with 1 Axes>"
      ]
     },
     "metadata": {},
     "output_type": "display_data"
    }
   ],
   "source": [
    "age_target[age_target['age'] > 90].groupby('age').mean().plot( y='number_of_visits_23')\n",
    "plt.title('Mean target value by age')\n",
    "plt.legend('')\n",
    "plt.ylabel('number_of_visits_23');"
   ]
  },
  {
   "cell_type": "code",
   "execution_count": 34,
   "metadata": {},
   "outputs": [
    {
     "data": {
      "image/png": "[encoded data removed]",
      "text/plain": [
       "<Figure size 640x480 with 1 Axes>"
      ]
     },
     "metadata": {},
     "output_type": "display_data"
    }
   ],
   "source": [
    "age_target[age_target['age'] < 30].groupby('age').mean().plot( y='number_of_visits_23')\n",
    "plt.title('Mean target value by age')\n",
    "plt.legend('')\n",
    "plt.ylabel('number_of_visits_23');"
   ]
  },
  {
   "cell_type": "code",
   "execution_count": 35,
   "metadata": {},
   "outputs": [
    {
     "data": {
      "text/html": [
       "<style  type=\"text/css\" >\n",
       "</style><table id=\"T_9d3ae_\" ><caption>QCUT 20</caption><thead>    <tr>        <th class=\"blank level0\" ></th>        <th class=\"col_heading level0 col0\" >number_of_visits_23</th>        <th class=\"col_heading level0 col1\" >quantity</th>    </tr></thead><tbody>\n",
       "                <tr>\n",
       "                        <th id=\"T_9d3ae_level0_row0\" class=\"row_heading level0 row0\" >(0.999, 3.0]</th>\n",
       "                        <td id=\"T_9d3ae_row0_col0\" class=\"data row0 col0\" >7.059576</td>\n",
       "                        <td id=\"T_9d3ae_row0_col1\" class=\"data row0 col1\" >3206</td>\n",
       "            </tr>\n",
       "            <tr>\n",
       "                        <th id=\"T_9d3ae_level0_row1\" class=\"row_heading level0 row1\" >(3.0, 5.0]</th>\n",
       "                        <td id=\"T_9d3ae_row1_col0\" class=\"data row1 col0\" >5.333872</td>\n",
       "                        <td id=\"T_9d3ae_row1_col1\" class=\"data row1 col1\" >2477</td>\n",
       "            </tr>\n",
       "            <tr>\n",
       "                        <th id=\"T_9d3ae_level0_row2\" class=\"row_heading level0 row2\" >(5.0, 7.0]</th>\n",
       "                        <td id=\"T_9d3ae_row2_col0\" class=\"data row2 col0\" >4.897993</td>\n",
       "                        <td id=\"T_9d3ae_row2_col1\" class=\"data row2 col1\" >2392</td>\n",
       "            </tr>\n",
       "            <tr>\n",
       "                        <th id=\"T_9d3ae_level0_row3\" class=\"row_heading level0 row3\" >(7.0, 9.0]</th>\n",
       "                        <td id=\"T_9d3ae_row3_col0\" class=\"data row3 col0\" >3.961045</td>\n",
       "                        <td id=\"T_9d3ae_row3_col1\" class=\"data row3 col1\" >2028</td>\n",
       "            </tr>\n",
       "            <tr>\n",
       "                        <th id=\"T_9d3ae_level0_row4\" class=\"row_heading level0 row4\" >(9.0, 12.0]</th>\n",
       "                        <td id=\"T_9d3ae_row4_col0\" class=\"data row4 col0\" >3.235831</td>\n",
       "                        <td id=\"T_9d3ae_row4_col1\" class=\"data row4 col1\" >2629</td>\n",
       "            </tr>\n",
       "            <tr>\n",
       "                        <th id=\"T_9d3ae_level0_row5\" class=\"row_heading level0 row5\" >(12.0, 15.0]</th>\n",
       "                        <td id=\"T_9d3ae_row5_col0\" class=\"data row5 col0\" >3.048780</td>\n",
       "                        <td id=\"T_9d3ae_row5_col1\" class=\"data row5 col1\" >2296</td>\n",
       "            </tr>\n",
       "            <tr>\n",
       "                        <th id=\"T_9d3ae_level0_row6\" class=\"row_heading level0 row6\" >(15.0, 20.0]</th>\n",
       "                        <td id=\"T_9d3ae_row6_col0\" class=\"data row6 col0\" >3.704499</td>\n",
       "                        <td id=\"T_9d3ae_row6_col1\" class=\"data row6 col1\" >2934</td>\n",
       "            </tr>\n",
       "            <tr>\n",
       "                        <th id=\"T_9d3ae_level0_row7\" class=\"row_heading level0 row7\" >(20.0, 25.0]</th>\n",
       "                        <td id=\"T_9d3ae_row7_col0\" class=\"data row7 col0\" >5.204342</td>\n",
       "                        <td id=\"T_9d3ae_row7_col1\" class=\"data row7 col1\" >2119</td>\n",
       "            </tr>\n",
       "            <tr>\n",
       "                        <th id=\"T_9d3ae_level0_row8\" class=\"row_heading level0 row8\" >(25.0, 29.0]</th>\n",
       "                        <td id=\"T_9d3ae_row8_col0\" class=\"data row8 col0\" >7.085370</td>\n",
       "                        <td id=\"T_9d3ae_row8_col1\" class=\"data row8 col1\" >2905</td>\n",
       "            </tr>\n",
       "            <tr>\n",
       "                        <th id=\"T_9d3ae_level0_row9\" class=\"row_heading level0 row9\" >(29.0, 32.0]</th>\n",
       "                        <td id=\"T_9d3ae_row9_col0\" class=\"data row9 col0\" >6.973427</td>\n",
       "                        <td id=\"T_9d3ae_row9_col1\" class=\"data row9 col1\" >2860</td>\n",
       "            </tr>\n",
       "            <tr>\n",
       "                        <th id=\"T_9d3ae_level0_row10\" class=\"row_heading level0 row10\" >(32.0, 34.0]</th>\n",
       "                        <td id=\"T_9d3ae_row10_col0\" class=\"data row10 col0\" >6.753952</td>\n",
       "                        <td id=\"T_9d3ae_row10_col1\" class=\"data row10 col1\" >1898</td>\n",
       "            </tr>\n",
       "            <tr>\n",
       "                        <th id=\"T_9d3ae_level0_row11\" class=\"row_heading level0 row11\" >(34.0, 37.0]</th>\n",
       "                        <td id=\"T_9d3ae_row11_col0\" class=\"data row11 col0\" >6.928509</td>\n",
       "                        <td id=\"T_9d3ae_row11_col1\" class=\"data row11 col1\" >2280</td>\n",
       "            </tr>\n",
       "            <tr>\n",
       "                        <th id=\"T_9d3ae_level0_row12\" class=\"row_heading level0 row12\" >(37.0, 42.0]</th>\n",
       "                        <td id=\"T_9d3ae_row12_col0\" class=\"data row12 col0\" >6.778300</td>\n",
       "                        <td id=\"T_9d3ae_row12_col1\" class=\"data row12 col1\" >2977</td>\n",
       "            </tr>\n",
       "            <tr>\n",
       "                        <th id=\"T_9d3ae_level0_row13\" class=\"row_heading level0 row13\" >(42.0, 47.0]</th>\n",
       "                        <td id=\"T_9d3ae_row13_col0\" class=\"data row13 col0\" >7.360526</td>\n",
       "                        <td id=\"T_9d3ae_row13_col1\" class=\"data row13 col1\" >2280</td>\n",
       "            </tr>\n",
       "            <tr>\n",
       "                        <th id=\"T_9d3ae_level0_row14\" class=\"row_heading level0 row14\" >(47.0, 52.0]</th>\n",
       "                        <td id=\"T_9d3ae_row14_col0\" class=\"data row14 col0\" >7.092294</td>\n",
       "                        <td id=\"T_9d3ae_row14_col1\" class=\"data row14 col1\" >2297</td>\n",
       "            </tr>\n",
       "            <tr>\n",
       "                        <th id=\"T_9d3ae_level0_row15\" class=\"row_heading level0 row15\" >(52.0, 57.0]</th>\n",
       "                        <td id=\"T_9d3ae_row15_col0\" class=\"data row15 col0\" >6.914849</td>\n",
       "                        <td id=\"T_9d3ae_row15_col1\" class=\"data row15 col1\" >2889</td>\n",
       "            </tr>\n",
       "            <tr>\n",
       "                        <th id=\"T_9d3ae_level0_row16\" class=\"row_heading level0 row16\" >(57.0, 61.0]</th>\n",
       "                        <td id=\"T_9d3ae_row16_col0\" class=\"data row16 col0\" >6.584966</td>\n",
       "                        <td id=\"T_9d3ae_row16_col1\" class=\"data row16 col1\" >2501</td>\n",
       "            </tr>\n",
       "            <tr>\n",
       "                        <th id=\"T_9d3ae_level0_row17\" class=\"row_heading level0 row17\" >(61.0, 64.0]</th>\n",
       "                        <td id=\"T_9d3ae_row17_col0\" class=\"data row17 col0\" >6.245017</td>\n",
       "                        <td id=\"T_9d3ae_row17_col1\" class=\"data row17 col1\" >2057</td>\n",
       "            </tr>\n",
       "            <tr>\n",
       "                        <th id=\"T_9d3ae_level0_row18\" class=\"row_heading level0 row18\" >(64.0, 72.0]</th>\n",
       "                        <td id=\"T_9d3ae_row18_col0\" class=\"data row18 col0\" >6.452652</td>\n",
       "                        <td id=\"T_9d3ae_row18_col1\" class=\"data row18 col1\" >2640</td>\n",
       "            </tr>\n",
       "            <tr>\n",
       "                        <th id=\"T_9d3ae_level0_row19\" class=\"row_heading level0 row19\" >(72.0, 103.0]</th>\n",
       "                        <td id=\"T_9d3ae_row19_col0\" class=\"data row19 col0\" >5.659383</td>\n",
       "                        <td id=\"T_9d3ae_row19_col1\" class=\"data row19 col1\" >2334</td>\n",
       "            </tr>\n",
       "    </tbody></table>"
      ],
      "text/plain": [
       "<pandas.io.formats.style.Styler at 0x2b8e2b0df10>"
      ]
     },
     "execution_count": 35,
     "metadata": {},
     "output_type": "execute_result"
    }
   ],
   "source": [
    "pd.concat(\n",
    "    [pd.concat([\n",
    "        pd.qcut(age, 20),\n",
    "        train['number_of_visits_23']\n",
    "        ],axis=1, keys=['age_bin', 'number_of_visits_23']).groupby('age_bin').mean(),\n",
    "     pd.qcut(age, 20).value_counts()\n",
    "    ], axis=1).rename(columns={'age':'quantity'}).style.set_caption('QCUT 20')"
   ]
  },
  {
   "cell_type": "code",
   "execution_count": 36,
   "metadata": {},
   "outputs": [
    {
     "data": {
      "text/html": [
       "<style  type=\"text/css\" >\n",
       "</style><table id=\"T_92657_\" ><caption>CUT 20</caption><thead>    <tr>        <th class=\"blank level0\" ></th>        <th class=\"col_heading level0 col0\" >number_of_visits_23</th>        <th class=\"col_heading level0 col1\" >quantity</th>    </tr></thead><tbody>\n",
       "                <tr>\n",
       "                        <th id=\"T_92657_level0_row0\" class=\"row_heading level0 row0\" >(0.898, 6.1]</th>\n",
       "                        <td id=\"T_92657_row0_col0\" class=\"data row0 col0\" >6.104815</td>\n",
       "                        <td id=\"T_92657_row0_col1\" class=\"data row0 col1\" >6936</td>\n",
       "            </tr>\n",
       "            <tr>\n",
       "                        <th id=\"T_92657_level0_row1\" class=\"row_heading level0 row1\" >(6.1, 11.2]</th>\n",
       "                        <td id=\"T_92657_row1_col0\" class=\"data row1 col0\" >3.900223</td>\n",
       "                        <td id=\"T_92657_row1_col1\" class=\"data row1 col1\" >4941</td>\n",
       "            </tr>\n",
       "            <tr>\n",
       "                        <th id=\"T_92657_level0_row2\" class=\"row_heading level0 row2\" >(11.2, 16.3]</th>\n",
       "                        <td id=\"T_92657_row2_col0\" class=\"data row2 col0\" >3.103252</td>\n",
       "                        <td id=\"T_92657_row2_col1\" class=\"data row2 col1\" >3874</td>\n",
       "            </tr>\n",
       "            <tr>\n",
       "                        <th id=\"T_92657_level0_row3\" class=\"row_heading level0 row3\" >(16.3, 21.4]</th>\n",
       "                        <td id=\"T_92657_row3_col0\" class=\"data row3 col0\" >3.841622</td>\n",
       "                        <td id=\"T_92657_row3_col1\" class=\"data row3 col1\" >2614</td>\n",
       "            </tr>\n",
       "            <tr>\n",
       "                        <th id=\"T_92657_level0_row4\" class=\"row_heading level0 row4\" >(21.4, 26.5]</th>\n",
       "                        <td id=\"T_92657_row4_col0\" class=\"data row4 col0\" >5.787607</td>\n",
       "                        <td id=\"T_92657_row4_col1\" class=\"data row4 col1\" >2227</td>\n",
       "            </tr>\n",
       "            <tr>\n",
       "                        <th id=\"T_92657_level0_row5\" class=\"row_heading level0 row5\" >(26.5, 31.6]</th>\n",
       "                        <td id=\"T_92657_row5_col0\" class=\"data row5 col0\" >7.049196</td>\n",
       "                        <td id=\"T_92657_row5_col1\" class=\"data row5 col1\" >4289</td>\n",
       "            </tr>\n",
       "            <tr>\n",
       "                        <th id=\"T_92657_level0_row6\" class=\"row_heading level0 row6\" >(31.6, 36.7]</th>\n",
       "                        <td id=\"T_92657_row6_col0\" class=\"data row6 col0\" >6.934792</td>\n",
       "                        <td id=\"T_92657_row6_col1\" class=\"data row6 col1\" >4478</td>\n",
       "            </tr>\n",
       "            <tr>\n",
       "                        <th id=\"T_92657_level0_row7\" class=\"row_heading level0 row7\" >(36.7, 41.8]</th>\n",
       "                        <td id=\"T_92657_row7_col0\" class=\"data row7 col0\" >6.632438</td>\n",
       "                        <td id=\"T_92657_row7_col1\" class=\"data row7 col1\" >3126</td>\n",
       "            </tr>\n",
       "            <tr>\n",
       "                        <th id=\"T_92657_level0_row8\" class=\"row_heading level0 row8\" >(41.8, 46.9]</th>\n",
       "                        <td id=\"T_92657_row8_col0\" class=\"data row8 col0\" >7.321398</td>\n",
       "                        <td id=\"T_92657_row8_col1\" class=\"data row8 col1\" >2346</td>\n",
       "            </tr>\n",
       "            <tr>\n",
       "                        <th id=\"T_92657_level0_row9\" class=\"row_heading level0 row9\" >(46.9, 52.0]</th>\n",
       "                        <td id=\"T_92657_row9_col0\" class=\"data row9 col0\" >7.145613</td>\n",
       "                        <td id=\"T_92657_row9_col1\" class=\"data row9 col1\" >2747</td>\n",
       "            </tr>\n",
       "            <tr>\n",
       "                        <th id=\"T_92657_level0_row10\" class=\"row_heading level0 row10\" >(52.0, 57.1]</th>\n",
       "                        <td id=\"T_92657_row10_col0\" class=\"data row10 col0\" >6.914849</td>\n",
       "                        <td id=\"T_92657_row10_col1\" class=\"data row10 col1\" >2889</td>\n",
       "            </tr>\n",
       "            <tr>\n",
       "                        <th id=\"T_92657_level0_row11\" class=\"row_heading level0 row11\" >(57.1, 62.2]</th>\n",
       "                        <td id=\"T_92657_row11_col0\" class=\"data row11 col0\" >6.542212</td>\n",
       "                        <td id=\"T_92657_row11_col1\" class=\"data row11 col1\" >3056</td>\n",
       "            </tr>\n",
       "            <tr>\n",
       "                        <th id=\"T_92657_level0_row12\" class=\"row_heading level0 row12\" >(62.2, 67.3]</th>\n",
       "                        <td id=\"T_92657_row12_col0\" class=\"data row12 col0\" >6.314987</td>\n",
       "                        <td id=\"T_92657_row12_col1\" class=\"data row12 col1\" >2689</td>\n",
       "            </tr>\n",
       "            <tr>\n",
       "                        <th id=\"T_92657_level0_row13\" class=\"row_heading level0 row13\" >(67.3, 72.4]</th>\n",
       "                        <td id=\"T_92657_row13_col0\" class=\"data row13 col0\" >6.452856</td>\n",
       "                        <td id=\"T_92657_row13_col1\" class=\"data row13 col1\" >1453</td>\n",
       "            </tr>\n",
       "            <tr>\n",
       "                        <th id=\"T_92657_level0_row14\" class=\"row_heading level0 row14\" >(72.4, 77.5]</th>\n",
       "                        <td id=\"T_92657_row14_col0\" class=\"data row14 col0\" >6.762500</td>\n",
       "                        <td id=\"T_92657_row14_col1\" class=\"data row14 col1\" >960</td>\n",
       "            </tr>\n",
       "            <tr>\n",
       "                        <th id=\"T_92657_level0_row15\" class=\"row_heading level0 row15\" >(77.5, 82.6]</th>\n",
       "                        <td id=\"T_92657_row15_col0\" class=\"data row15 col0\" >5.655072</td>\n",
       "                        <td id=\"T_92657_row15_col1\" class=\"data row15 col1\" >690</td>\n",
       "            </tr>\n",
       "            <tr>\n",
       "                        <th id=\"T_92657_level0_row16\" class=\"row_heading level0 row16\" >(82.6, 87.7]</th>\n",
       "                        <td id=\"T_92657_row16_col0\" class=\"data row16 col0\" >4.583120</td>\n",
       "                        <td id=\"T_92657_row16_col1\" class=\"data row16 col1\" >391</td>\n",
       "            </tr>\n",
       "            <tr>\n",
       "                        <th id=\"T_92657_level0_row17\" class=\"row_heading level0 row17\" >(87.7, 92.8]</th>\n",
       "                        <td id=\"T_92657_row17_col0\" class=\"data row17 col0\" >3.827411</td>\n",
       "                        <td id=\"T_92657_row17_col1\" class=\"data row17 col1\" >197</td>\n",
       "            </tr>\n",
       "            <tr>\n",
       "                        <th id=\"T_92657_level0_row18\" class=\"row_heading level0 row18\" >(92.8, 97.9]</th>\n",
       "                        <td id=\"T_92657_row18_col0\" class=\"data row18 col0\" >2.875000</td>\n",
       "                        <td id=\"T_92657_row18_col1\" class=\"data row18 col1\" >72</td>\n",
       "            </tr>\n",
       "            <tr>\n",
       "                        <th id=\"T_92657_level0_row19\" class=\"row_heading level0 row19\" >(97.9, 103.0]</th>\n",
       "                        <td id=\"T_92657_row19_col0\" class=\"data row19 col0\" >2.583333</td>\n",
       "                        <td id=\"T_92657_row19_col1\" class=\"data row19 col1\" >24</td>\n",
       "            </tr>\n",
       "    </tbody></table>"
      ],
      "text/plain": [
       "<pandas.io.formats.style.Styler at 0x2b8e2b27bb0>"
      ]
     },
     "execution_count": 36,
     "metadata": {},
     "output_type": "execute_result"
    }
   ],
   "source": [
    "pd.concat(\n",
    "    [pd.concat([\n",
    "        pd.cut(age, 20),\n",
    "        train['number_of_visits_23']\n",
    "        ],axis=1, keys=['age_bin', 'number_of_visits_23']).groupby('age_bin').mean(),\n",
    "     pd.cut(age, 20).value_counts()\n",
    "    ], axis=1).rename(columns={'age':'quantity'}).style.set_caption('CUT 20')"
   ]
  },
  {
   "cell_type": "markdown",
   "metadata": {},
   "source": [
    "**Вывод:** Есть один пропуск, скорее всего безопасно заменить средним из выборки с похожими признаками. Есть некоторые аномалии в данные при краевых значениях возраста, но их сложно объяснить без дополнительной информации и лучше оставить как есть.\n",
    "\n",
    "В отношении возраста, 75% застрахованных моложе 52 лет. Есть падения в количестве застрахованных на графике распределения возраста около 22 и 45 лет, возможно связано с тем что дети и родители ниже и выше этого возраста соответственно. Нет корреляции между возрастом и ЦП, но возможно комбинация признаков включая возраст, диагноз и другие будут полезны в предсказании. Можно заметить что среди очень маленьких детей больше всего визитов, похожая ситуация с пожилыми людьми, но сложно быть уверенным во втором случае из-за низкого количества записей. Может быть полезно создать признаки для возрастных категорий, особенно для младенцев и маленьких детей, т.к эти группы имеют наиболее выраженное отклонение от среднего."
   ]
  },
  {
   "cell_type": "markdown",
   "metadata": {},
   "source": [
    "### 6.7. <a id='toc6_7_'></a>[Relation](#toc0_)"
   ]
  },
  {
   "cell_type": "code",
   "execution_count": 37,
   "metadata": {},
   "outputs": [
    {
     "data": {
      "text/plain": [
       "array(['Self', 'Child', 'Spouse', 'Parent', 'Other'], dtype=object)"
      ]
     },
     "execution_count": 37,
     "metadata": {},
     "output_type": "execute_result"
    }
   ],
   "source": [
    "train['relation'].unique()"
   ]
  },
  {
   "cell_type": "code",
   "execution_count": 38,
   "metadata": {},
   "outputs": [
    {
     "data": {
      "text/html": [
       "<div>\n",
       "<style scoped>\n",
       "    .dataframe tbody tr th:only-of-type {\n",
       "        vertical-align: middle;\n",
       "    }\n",
       "\n",
       "    .dataframe tbody tr th {\n",
       "        vertical-align: top;\n",
       "    }\n",
       "\n",
       "    .dataframe thead th {\n",
       "        text-align: right;\n",
       "    }\n",
       "</style>\n",
       "<table border=\"1\" class=\"dataframe\">\n",
       "  <thead>\n",
       "    <tr style=\"text-align: right;\">\n",
       "      <th></th>\n",
       "      <th>age</th>\n",
       "    </tr>\n",
       "    <tr>\n",
       "      <th>relation</th>\n",
       "      <th></th>\n",
       "    </tr>\n",
       "  </thead>\n",
       "  <tbody>\n",
       "    <tr>\n",
       "      <th>Child</th>\n",
       "      <td>10.307857</td>\n",
       "    </tr>\n",
       "    <tr>\n",
       "      <th>Other</th>\n",
       "      <td>42.384615</td>\n",
       "    </tr>\n",
       "    <tr>\n",
       "      <th>Parent</th>\n",
       "      <td>68.637681</td>\n",
       "    </tr>\n",
       "    <tr>\n",
       "      <th>Self</th>\n",
       "      <td>52.306393</td>\n",
       "    </tr>\n",
       "    <tr>\n",
       "      <th>Spouse</th>\n",
       "      <td>37.493052</td>\n",
       "    </tr>\n",
       "    <tr>\n",
       "      <th>All</th>\n",
       "      <td>33.365907</td>\n",
       "    </tr>\n",
       "  </tbody>\n",
       "</table>\n",
       "</div>"
      ],
      "text/plain": [
       "                age\n",
       "relation           \n",
       "Child     10.307857\n",
       "Other     42.384615\n",
       "Parent    68.637681\n",
       "Self      52.306393\n",
       "Spouse    37.493052\n",
       "All       33.365907"
      ]
     },
     "execution_count": 38,
     "metadata": {},
     "output_type": "execute_result"
    }
   ],
   "source": [
    "pd.concat([age, train.relation], axis=1).pivot_table(index='relation', margins=True)"
   ]
  },
  {
   "cell_type": "code",
   "execution_count": 39,
   "metadata": {},
   "outputs": [
    {
     "data": {
      "text/html": [
       "<style  type=\"text/css\" >\n",
       "    #T_1e393_ caption {\n",
       "          font-weight: bold;\n",
       "    }</style><table id=\"T_1e393_\" ><caption>relation</caption><thead>    <tr>        <th class=\"blank level0\" ></th>        <th class=\"col_heading level0 col0\" >percentage</th>        <th class=\"col_heading level0 col1\" >total</th>        <th class=\"col_heading level0 col2\" >visits_mean_22</th>        <th class=\"col_heading level0 col3\" >visits_mean_23</th>    </tr></thead><tbody>\n",
       "                <tr>\n",
       "                        <th id=\"T_1e393_level0_row0\" class=\"row_heading level0 row0\" >Self</th>\n",
       "                        <td id=\"T_1e393_row0_col0\" class=\"data row0 col0\" >43.678000</td>\n",
       "                        <td id=\"T_1e393_row0_col1\" class=\"data row0 col1\" >21839</td>\n",
       "                        <td id=\"T_1e393_row0_col2\" class=\"data row0 col2\" >6.017034</td>\n",
       "                        <td id=\"T_1e393_row0_col3\" class=\"data row0 col3\" >6.366500</td>\n",
       "            </tr>\n",
       "            <tr>\n",
       "                        <th id=\"T_1e393_level0_row1\" class=\"row_heading level0 row1\" >Child</th>\n",
       "                        <td id=\"T_1e393_row1_col0\" class=\"data row1 col0\" >39.148000</td>\n",
       "                        <td id=\"T_1e393_row1_col1\" class=\"data row1 col1\" >19574</td>\n",
       "                        <td id=\"T_1e393_row1_col2\" class=\"data row1 col2\" >4.570808</td>\n",
       "                        <td id=\"T_1e393_row1_col3\" class=\"data row1 col3\" >4.531011</td>\n",
       "            </tr>\n",
       "            <tr>\n",
       "                        <th id=\"T_1e393_level0_row2\" class=\"row_heading level0 row2\" >Spouse</th>\n",
       "                        <td id=\"T_1e393_row2_col0\" class=\"data row2 col0\" >16.984000</td>\n",
       "                        <td id=\"T_1e393_row2_col1\" class=\"data row2 col1\" >8492</td>\n",
       "                        <td id=\"T_1e393_row2_col2\" class=\"data row2 col2\" >7.663095</td>\n",
       "                        <td id=\"T_1e393_row2_col3\" class=\"data row2 col3\" >7.806406</td>\n",
       "            </tr>\n",
       "            <tr>\n",
       "                        <th id=\"T_1e393_level0_row3\" class=\"row_heading level0 row3\" >Parent</th>\n",
       "                        <td id=\"T_1e393_row3_col0\" class=\"data row3 col0\" >0.138000</td>\n",
       "                        <td id=\"T_1e393_row3_col1\" class=\"data row3 col1\" >69</td>\n",
       "                        <td id=\"T_1e393_row3_col2\" class=\"data row3 col2\" >11.028986</td>\n",
       "                        <td id=\"T_1e393_row3_col3\" class=\"data row3 col3\" >9.869565</td>\n",
       "            </tr>\n",
       "            <tr>\n",
       "                        <th id=\"T_1e393_level0_row4\" class=\"row_heading level0 row4\" >Other</th>\n",
       "                        <td id=\"T_1e393_row4_col0\" class=\"data row4 col0\" >0.052000</td>\n",
       "                        <td id=\"T_1e393_row4_col1\" class=\"data row4 col1\" >26</td>\n",
       "                        <td id=\"T_1e393_row4_col2\" class=\"data row4 col2\" >11.730769</td>\n",
       "                        <td id=\"T_1e393_row4_col3\" class=\"data row4 col3\" >9.307692</td>\n",
       "            </tr>\n",
       "    </tbody></table>"
      ],
      "text/plain": [
       "<pandas.io.formats.style.Styler at 0x2b8e29a6610>"
      ]
     },
     "execution_count": 39,
     "metadata": {},
     "output_type": "execute_result"
    }
   ],
   "source": [
    "target_breakdown('relation')"
   ]
  },
  {
   "cell_type": "markdown",
   "metadata": {},
   "source": [
    "**Вывод:** Возможно уместно учесть влияние данной категории на прибыль, но без дополнительной информации об условиях страховки это сложно сделать. Родители и дети значительно отличаются возрастом от среднего. Примечательно, что большое количество детей склоняет возраст ниже большинства категорий.\n",
    "Я подозреваю что эту категорию можно безопасно отбросить, т.к. она будет иметь низкое влияние на количество посещений из-за того что возраст известен для практически всех застрахованных."
   ]
  },
  {
   "cell_type": "markdown",
   "metadata": {},
   "source": [
    "### 6.8. <a id='toc6_8_'></a>[diagnoses](#toc0_)"
   ]
  },
  {
   "cell_type": "code",
   "execution_count": 40,
   "metadata": {
    "scrolled": true
   },
   "outputs": [
    {
     "data": {
      "text/plain": [
       "insured_pin\n",
       "1006786                                                  NaN\n",
       "1008861                                            J20.9;J02\n",
       "1019055                                                J03.9\n",
       "1019438                                        E56.9;J02;J00\n",
       "1027311                                                  NaN\n",
       "                                 ...                        \n",
       "987424                                                   NaN\n",
       "991750     J30.4;R51;J03;UNKRC;N36.3;R69;N81;R10;N39.0;G5...\n",
       "9932157                M50.1;J45.0;K29;R07.4;M25.5;J03;J06.9\n",
       "9950431    R69;N39.0;I10;J02.9;E78.0;J02;E11;E55.9;E09.21...\n",
       "9952098                                                  J06\n",
       "Name: diagnoses, Length: 50000, dtype: object"
      ]
     },
     "execution_count": 40,
     "metadata": {},
     "output_type": "execute_result"
    }
   ],
   "source": [
    "train.diagnoses"
   ]
  },
  {
   "cell_type": "code",
   "execution_count": 41,
   "metadata": {},
   "outputs": [
    {
     "data": {
      "text/plain": [
       "35467"
      ]
     },
     "execution_count": 41,
     "metadata": {},
     "output_type": "execute_result"
    }
   ],
   "source": [
    "train.diagnoses.unique().size"
   ]
  },
  {
   "cell_type": "code",
   "execution_count": 42,
   "metadata": {},
   "outputs": [
    {
     "data": {
      "text/plain": [
       "insured_pin\n",
       "1006786                                       [no_diagnoses]\n",
       "1008861                                         [j20.9, j02]\n",
       "1019055                                              [j03.9]\n",
       "1019438                                    [e56.9, j02, j00]\n",
       "1027311                                       [no_diagnoses]\n",
       "                                 ...                        \n",
       "987424                                        [no_diagnoses]\n",
       "991750     [j30.4, r51, j03, unkrc, n36.3, r69, n81, r10,...\n",
       "9932157        [m50.1, j45.0, k29, r07.4, m25.5, j03, j06.9]\n",
       "9950431    [r69, n39.0, i10, j02.9, e78.0, j02, e11, e55....\n",
       "9952098                                                [j06]\n",
       "Name: diagnoses, Length: 50000, dtype: object"
      ]
     },
     "execution_count": 42,
     "metadata": {},
     "output_type": "execute_result"
    }
   ],
   "source": [
    "diagnoses_as_lists = train.diagnoses.fillna('no_diagnoses').str.lower().str.split(';')\n",
    "diagnoses_as_lists"
   ]
  },
  {
   "cell_type": "code",
   "execution_count": 43,
   "metadata": {},
   "outputs": [
    {
     "data": {
      "text/plain": [
       "6225"
      ]
     },
     "execution_count": 43,
     "metadata": {},
     "output_type": "execute_result"
    }
   ],
   "source": [
    "diagnoses_as_lists.explode().unique().size"
   ]
  },
  {
   "cell_type": "code",
   "execution_count": 44,
   "metadata": {},
   "outputs": [
    {
     "data": {
      "text/plain": [
       "False"
      ]
     },
     "execution_count": 44,
     "metadata": {},
     "output_type": "execute_result"
    }
   ],
   "source": [
    "any(diagnoses_as_lists.map(len) != diagnoses_as_lists.map(lambda x: len(set(x))))"
   ]
  },
  {
   "cell_type": "code",
   "execution_count": 45,
   "metadata": {
    "scrolled": true
   },
   "outputs": [
    {
     "data": {
      "text/html": [
       "<div>\n",
       "<style scoped>\n",
       "    .dataframe tbody tr th:only-of-type {\n",
       "        vertical-align: middle;\n",
       "    }\n",
       "\n",
       "    .dataframe tbody tr th {\n",
       "        vertical-align: top;\n",
       "    }\n",
       "\n",
       "    .dataframe thead th {\n",
       "        text-align: right;\n",
       "    }\n",
       "</style>\n",
       "<table border=\"1\" class=\"dataframe\">\n",
       "  <thead>\n",
       "    <tr style=\"text-align: right;\">\n",
       "      <th></th>\n",
       "      <th>number_of_services_22</th>\n",
       "      <th>number_of_visits_22</th>\n",
       "      <th>number_of_visits_23</th>\n",
       "    </tr>\n",
       "    <tr>\n",
       "      <th>diagnoses</th>\n",
       "      <th></th>\n",
       "      <th></th>\n",
       "      <th></th>\n",
       "    </tr>\n",
       "  </thead>\n",
       "  <tbody>\n",
       "    <tr>\n",
       "      <th>False</th>\n",
       "      <td>27.261219</td>\n",
       "      <td>6.962014</td>\n",
       "      <td>6.849391</td>\n",
       "    </tr>\n",
       "    <tr>\n",
       "      <th>True</th>\n",
       "      <td>0.000000</td>\n",
       "      <td>0.000000</td>\n",
       "      <td>1.432642</td>\n",
       "    </tr>\n",
       "  </tbody>\n",
       "</table>\n",
       "</div>"
      ],
      "text/plain": [
       "           number_of_services_22  number_of_visits_22  number_of_visits_23\n",
       "diagnoses                                                                 \n",
       "False                  27.261219             6.962014             6.849391\n",
       "True                    0.000000             0.000000             1.432642"
      ]
     },
     "execution_count": 45,
     "metadata": {},
     "output_type": "execute_result"
    }
   ],
   "source": [
    "train[['number_of_services_22', 'number_of_visits_22', 'number_of_visits_23']].groupby(train.diagnoses.isna()).mean()"
   ]
  },
  {
   "cell_type": "code",
   "execution_count": 46,
   "metadata": {
    "scrolled": false
   },
   "outputs": [
    {
     "data": {
      "text/html": [
       "<style  type=\"text/css\" >\n",
       "    #T_5088d_ caption {\n",
       "          font-weight: bold;\n",
       "    }</style><table id=\"T_5088d_\" ><caption>diagnoses_counts</caption><thead>    <tr>        <th class=\"blank level0\" ></th>        <th class=\"col_heading level0 col0\" >percentage</th>        <th class=\"col_heading level0 col1\" >total</th>        <th class=\"col_heading level0 col2\" >visits_mean_22</th>        <th class=\"col_heading level0 col3\" >visits_mean_23</th>    </tr></thead><tbody>\n",
       "                <tr>\n",
       "                        <th id=\"T_5088d_level0_row0\" class=\"row_heading level0 row0\" >0</th>\n",
       "                        <td id=\"T_5088d_row0_col0\" class=\"data row0 col0\" >17.548000</td>\n",
       "                        <td id=\"T_5088d_row0_col1\" class=\"data row0 col1\" >8774</td>\n",
       "                        <td id=\"T_5088d_row0_col2\" class=\"data row0 col2\" >0.000000</td>\n",
       "                        <td id=\"T_5088d_row0_col3\" class=\"data row0 col3\" >1.432642</td>\n",
       "            </tr>\n",
       "            <tr>\n",
       "                        <th id=\"T_5088d_level0_row1\" class=\"row_heading level0 row1\" >1</th>\n",
       "                        <td id=\"T_5088d_row1_col0\" class=\"data row1 col0\" >10.518000</td>\n",
       "                        <td id=\"T_5088d_row1_col1\" class=\"data row1 col1\" >5259</td>\n",
       "                        <td id=\"T_5088d_row1_col2\" class=\"data row1 col2\" >1.180262</td>\n",
       "                        <td id=\"T_5088d_row1_col3\" class=\"data row1 col3\" >2.647081</td>\n",
       "            </tr>\n",
       "            <tr>\n",
       "                        <th id=\"T_5088d_level0_row2\" class=\"row_heading level0 row2\" >2</th>\n",
       "                        <td id=\"T_5088d_row2_col0\" class=\"data row2 col0\" >9.908000</td>\n",
       "                        <td id=\"T_5088d_row2_col1\" class=\"data row2 col1\" >4954</td>\n",
       "                        <td id=\"T_5088d_row2_col2\" class=\"data row2 col2\" >2.202463</td>\n",
       "                        <td id=\"T_5088d_row2_col3\" class=\"data row2 col3\" >3.361930</td>\n",
       "            </tr>\n",
       "            <tr>\n",
       "                        <th id=\"T_5088d_level0_row3\" class=\"row_heading level0 row3\" >3</th>\n",
       "                        <td id=\"T_5088d_row3_col0\" class=\"data row3 col0\" >8.648000</td>\n",
       "                        <td id=\"T_5088d_row3_col1\" class=\"data row3 col1\" >4324</td>\n",
       "                        <td id=\"T_5088d_row3_col2\" class=\"data row3 col2\" >3.251156</td>\n",
       "                        <td id=\"T_5088d_row3_col3\" class=\"data row3 col3\" >4.222017</td>\n",
       "            </tr>\n",
       "            <tr>\n",
       "                        <th id=\"T_5088d_level0_row4\" class=\"row_heading level0 row4\" >4</th>\n",
       "                        <td id=\"T_5088d_row4_col0\" class=\"data row4 col0\" >7.914000</td>\n",
       "                        <td id=\"T_5088d_row4_col1\" class=\"data row4 col1\" >3957</td>\n",
       "                        <td id=\"T_5088d_row4_col2\" class=\"data row4 col2\" >4.352793</td>\n",
       "                        <td id=\"T_5088d_row4_col3\" class=\"data row4 col3\" >5.067728</td>\n",
       "            </tr>\n",
       "            <tr>\n",
       "                        <th id=\"T_5088d_level0_row5\" class=\"row_heading level0 row5\" >5</th>\n",
       "                        <td id=\"T_5088d_row5_col0\" class=\"data row5 col0\" >6.778000</td>\n",
       "                        <td id=\"T_5088d_row5_col1\" class=\"data row5 col1\" >3389</td>\n",
       "                        <td id=\"T_5088d_row5_col2\" class=\"data row5 col2\" >5.372676</td>\n",
       "                        <td id=\"T_5088d_row5_col3\" class=\"data row5 col3\" >5.694895</td>\n",
       "            </tr>\n",
       "            <tr>\n",
       "                        <th id=\"T_5088d_level0_row6\" class=\"row_heading level0 row6\" >6</th>\n",
       "                        <td id=\"T_5088d_row6_col0\" class=\"data row6 col0\" >5.988000</td>\n",
       "                        <td id=\"T_5088d_row6_col1\" class=\"data row6 col1\" >2994</td>\n",
       "                        <td id=\"T_5088d_row6_col2\" class=\"data row6 col2\" >6.306279</td>\n",
       "                        <td id=\"T_5088d_row6_col3\" class=\"data row6 col3\" >6.464930</td>\n",
       "            </tr>\n",
       "            <tr>\n",
       "                        <th id=\"T_5088d_level0_row7\" class=\"row_heading level0 row7\" >7</th>\n",
       "                        <td id=\"T_5088d_row7_col0\" class=\"data row7 col0\" >5.024000</td>\n",
       "                        <td id=\"T_5088d_row7_col1\" class=\"data row7 col1\" >2512</td>\n",
       "                        <td id=\"T_5088d_row7_col2\" class=\"data row7 col2\" >7.233280</td>\n",
       "                        <td id=\"T_5088d_row7_col3\" class=\"data row7 col3\" >6.933917</td>\n",
       "            </tr>\n",
       "            <tr>\n",
       "                        <th id=\"T_5088d_level0_row8\" class=\"row_heading level0 row8\" >8</th>\n",
       "                        <td id=\"T_5088d_row8_col0\" class=\"data row8 col0\" >4.342000</td>\n",
       "                        <td id=\"T_5088d_row8_col1\" class=\"data row8 col1\" >2171</td>\n",
       "                        <td id=\"T_5088d_row8_col2\" class=\"data row8 col2\" >8.216029</td>\n",
       "                        <td id=\"T_5088d_row8_col3\" class=\"data row8 col3\" >7.846154</td>\n",
       "            </tr>\n",
       "            <tr>\n",
       "                        <th id=\"T_5088d_level0_row9\" class=\"row_heading level0 row9\" >9</th>\n",
       "                        <td id=\"T_5088d_row9_col0\" class=\"data row9 col0\" >3.718000</td>\n",
       "                        <td id=\"T_5088d_row9_col1\" class=\"data row9 col1\" >1859</td>\n",
       "                        <td id=\"T_5088d_row9_col2\" class=\"data row9 col2\" >9.235073</td>\n",
       "                        <td id=\"T_5088d_row9_col3\" class=\"data row9 col3\" >8.601937</td>\n",
       "            </tr>\n",
       "            <tr>\n",
       "                        <th id=\"T_5088d_level0_row10\" class=\"row_heading level0 row10\" >10</th>\n",
       "                        <td id=\"T_5088d_row10_col0\" class=\"data row10 col0\" >3.046000</td>\n",
       "                        <td id=\"T_5088d_row10_col1\" class=\"data row10 col1\" >1523</td>\n",
       "                        <td id=\"T_5088d_row10_col2\" class=\"data row10 col2\" >10.204859</td>\n",
       "                        <td id=\"T_5088d_row10_col3\" class=\"data row10 col3\" >8.954038</td>\n",
       "            </tr>\n",
       "            <tr>\n",
       "                        <th id=\"T_5088d_level0_row11\" class=\"row_heading level0 row11\" >11</th>\n",
       "                        <td id=\"T_5088d_row11_col0\" class=\"data row11 col0\" >2.640000</td>\n",
       "                        <td id=\"T_5088d_row11_col1\" class=\"data row11 col1\" >1320</td>\n",
       "                        <td id=\"T_5088d_row11_col2\" class=\"data row11 col2\" >11.259848</td>\n",
       "                        <td id=\"T_5088d_row11_col3\" class=\"data row11 col3\" >9.984848</td>\n",
       "            </tr>\n",
       "            <tr>\n",
       "                        <th id=\"T_5088d_level0_row12\" class=\"row_heading level0 row12\" >12</th>\n",
       "                        <td id=\"T_5088d_row12_col0\" class=\"data row12 col0\" >2.082000</td>\n",
       "                        <td id=\"T_5088d_row12_col1\" class=\"data row12 col1\" >1041</td>\n",
       "                        <td id=\"T_5088d_row12_col2\" class=\"data row12 col2\" >12.286263</td>\n",
       "                        <td id=\"T_5088d_row12_col3\" class=\"data row12 col3\" >10.852065</td>\n",
       "            </tr>\n",
       "            <tr>\n",
       "                        <th id=\"T_5088d_level0_row13\" class=\"row_heading level0 row13\" >13</th>\n",
       "                        <td id=\"T_5088d_row13_col0\" class=\"data row13 col0\" >1.934000</td>\n",
       "                        <td id=\"T_5088d_row13_col1\" class=\"data row13 col1\" >967</td>\n",
       "                        <td id=\"T_5088d_row13_col2\" class=\"data row13 col2\" >13.135471</td>\n",
       "                        <td id=\"T_5088d_row13_col3\" class=\"data row13 col3\" >11.280248</td>\n",
       "            </tr>\n",
       "            <tr>\n",
       "                        <th id=\"T_5088d_level0_row14\" class=\"row_heading level0 row14\" >14</th>\n",
       "                        <td id=\"T_5088d_row14_col0\" class=\"data row14 col0\" >1.558000</td>\n",
       "                        <td id=\"T_5088d_row14_col1\" class=\"data row14 col1\" >779</td>\n",
       "                        <td id=\"T_5088d_row14_col2\" class=\"data row14 col2\" >13.776637</td>\n",
       "                        <td id=\"T_5088d_row14_col3\" class=\"data row14 col3\" >11.589217</td>\n",
       "            </tr>\n",
       "            <tr>\n",
       "                        <th id=\"T_5088d_level0_row15\" class=\"row_heading level0 row15\" >15</th>\n",
       "                        <td id=\"T_5088d_row15_col0\" class=\"data row15 col0\" >1.268000</td>\n",
       "                        <td id=\"T_5088d_row15_col1\" class=\"data row15 col1\" >634</td>\n",
       "                        <td id=\"T_5088d_row15_col2\" class=\"data row15 col2\" >14.766562</td>\n",
       "                        <td id=\"T_5088d_row15_col3\" class=\"data row15 col3\" >12.345426</td>\n",
       "            </tr>\n",
       "            <tr>\n",
       "                        <th id=\"T_5088d_level0_row16\" class=\"row_heading level0 row16\" >16</th>\n",
       "                        <td id=\"T_5088d_row16_col0\" class=\"data row16 col0\" >1.108000</td>\n",
       "                        <td id=\"T_5088d_row16_col1\" class=\"data row16 col1\" >554</td>\n",
       "                        <td id=\"T_5088d_row16_col2\" class=\"data row16 col2\" >15.817690</td>\n",
       "                        <td id=\"T_5088d_row16_col3\" class=\"data row16 col3\" >13.075812</td>\n",
       "            </tr>\n",
       "            <tr>\n",
       "                        <th id=\"T_5088d_level0_row17\" class=\"row_heading level0 row17\" >17</th>\n",
       "                        <td id=\"T_5088d_row17_col0\" class=\"data row17 col0\" >0.804000</td>\n",
       "                        <td id=\"T_5088d_row17_col1\" class=\"data row17 col1\" >402</td>\n",
       "                        <td id=\"T_5088d_row17_col2\" class=\"data row17 col2\" >16.104478</td>\n",
       "                        <td id=\"T_5088d_row17_col3\" class=\"data row17 col3\" >13.308458</td>\n",
       "            </tr>\n",
       "            <tr>\n",
       "                        <th id=\"T_5088d_level0_row18\" class=\"row_heading level0 row18\" >18</th>\n",
       "                        <td id=\"T_5088d_row18_col0\" class=\"data row18 col0\" >0.816000</td>\n",
       "                        <td id=\"T_5088d_row18_col1\" class=\"data row18 col1\" >408</td>\n",
       "                        <td id=\"T_5088d_row18_col2\" class=\"data row18 col2\" >17.786765</td>\n",
       "                        <td id=\"T_5088d_row18_col3\" class=\"data row18 col3\" >15.049020</td>\n",
       "            </tr>\n",
       "            <tr>\n",
       "                        <th id=\"T_5088d_level0_row19\" class=\"row_heading level0 row19\" >19</th>\n",
       "                        <td id=\"T_5088d_row19_col0\" class=\"data row19 col0\" >0.698000</td>\n",
       "                        <td id=\"T_5088d_row19_col1\" class=\"data row19 col1\" >349</td>\n",
       "                        <td id=\"T_5088d_row19_col2\" class=\"data row19 col2\" >17.429799</td>\n",
       "                        <td id=\"T_5088d_row19_col3\" class=\"data row19 col3\" >14.369628</td>\n",
       "            </tr>\n",
       "    </tbody></table>"
      ],
      "text/plain": [
       "<pandas.io.formats.style.Styler at 0x2b8e28fc6d0>"
      ]
     },
     "execution_count": 46,
     "metadata": {},
     "output_type": "execute_result"
    }
   ],
   "source": [
    "diagnoses_counts = pd.concat([\n",
    "    diagnoses_as_lists[~diagnoses_as_lists.map(lambda x: x == ['no_diagnoses'])].map(len),\n",
    "    pd.Series(0, train.index[train.diagnoses.isna()])\n",
    "]).rename('diagnoses_counts')\n",
    "target_breakdown('diagnoses_counts', pd.concat([train, diagnoses_counts], axis=1))"
   ]
  },
  {
   "cell_type": "code",
   "execution_count": 47,
   "metadata": {},
   "outputs": [
    {
     "data": {
      "text/plain": [
       "number_of_services_22    0.828579\n",
       "number_of_visits_22      0.861860\n",
       "number_of_visits_23      0.608565\n",
       "dtype: float64"
      ]
     },
     "execution_count": 47,
     "metadata": {},
     "output_type": "execute_result"
    }
   ],
   "source": [
    "train[['number_of_services_22', 'number_of_visits_22', 'number_of_visits_23']].corrwith(diagnoses_counts)"
   ]
  },
  {
   "cell_type": "code",
   "execution_count": 48,
   "metadata": {
    "scrolled": true
   },
   "outputs": [
    {
     "data": {
      "text/html": [
       "<div>\n",
       "<style scoped>\n",
       "    .dataframe tbody tr th:only-of-type {\n",
       "        vertical-align: middle;\n",
       "    }\n",
       "\n",
       "    .dataframe tbody tr th {\n",
       "        vertical-align: top;\n",
       "    }\n",
       "\n",
       "    .dataframe thead th {\n",
       "        text-align: right;\n",
       "    }\n",
       "</style>\n",
       "<table border=\"1\" class=\"dataframe\">\n",
       "  <thead>\n",
       "    <tr style=\"text-align: right;\">\n",
       "      <th></th>\n",
       "      <th>number_of_services_22</th>\n",
       "      <th>number_of_visits_22</th>\n",
       "      <th>number_of_visits_23</th>\n",
       "    </tr>\n",
       "    <tr>\n",
       "      <th>diagnoses</th>\n",
       "      <th></th>\n",
       "      <th></th>\n",
       "      <th></th>\n",
       "    </tr>\n",
       "  </thead>\n",
       "  <tbody>\n",
       "    <tr>\n",
       "      <th>False</th>\n",
       "      <td>27.261219</td>\n",
       "      <td>6.962014</td>\n",
       "      <td>6.849391</td>\n",
       "    </tr>\n",
       "    <tr>\n",
       "      <th>True</th>\n",
       "      <td>0.000000</td>\n",
       "      <td>0.000000</td>\n",
       "      <td>1.432642</td>\n",
       "    </tr>\n",
       "  </tbody>\n",
       "</table>\n",
       "</div>"
      ],
      "text/plain": [
       "           number_of_services_22  number_of_visits_22  number_of_visits_23\n",
       "diagnoses                                                                 \n",
       "False                  27.261219             6.962014             6.849391\n",
       "True                    0.000000             0.000000             1.432642"
      ]
     },
     "execution_count": 48,
     "metadata": {},
     "output_type": "execute_result"
    }
   ],
   "source": [
    "train[['number_of_services_22', 'number_of_visits_22', 'number_of_visits_23']].groupby(train.diagnoses.isna()).mean()"
   ]
  },
  {
   "cell_type": "markdown",
   "metadata": {},
   "source": [
    "**Вывод:** Учитывая полное отсутствие визитов и услуг в 22 у людей с пропусками в этой категории, логично предположить что это люди не болели в 22 году. Таким образом можно заполнить пропуски заглушкой отражающей этот факт. Кроме того это подсказывает возможность использовать данный признак для того чтобы посчитать диагнозы в 22 и вывести это значение в отдельный столбец. Корреляция этого значения с `number_of_visits_23` довольно высокая, настолько высокая что вызывает опасения о мультиколлинеарности с `number_of_visits_22` и `number_of_services_22`.\n",
    "\n",
    "С другой стороны, при использовании этого значение как текста, возникает серьёзный вызов с точки зрения машинного обучения, из-за большого количества уникальных диагнозов. Самый простой способ - использовать каждый как уникальный булев признак. Возможно это будет улучшено, если использовать обратную частоту в документе для определения редких значений. Если это удастся сделать появится возможность связывать отдельные болезни с количеством визитов. Недостатком такого подхода является большое количество признаков.\n",
    "\n",
    "В случае проблем с вычислительными мощностями, можно попробовать сократить размерность матрицы признаков, однако это приведёт к некоторой потере данных и возможности интерпретировать их. С другой стороны если ресурсы не ограничены можно попробовать рассмотреть совпадения заболеваний и их влияние на ЦП, возможно улучшив точность."
   ]
  },
  {
   "cell_type": "markdown",
   "metadata": {},
   "source": [
    "### 6.9. <a id='toc6_9_'></a>[has_chronic_disease](#toc0_)"
   ]
  },
  {
   "cell_type": "code",
   "execution_count": 49,
   "metadata": {},
   "outputs": [
    {
     "data": {
      "text/plain": [
       "array([0, 1], dtype=int64)"
      ]
     },
     "execution_count": 49,
     "metadata": {},
     "output_type": "execute_result"
    }
   ],
   "source": [
    "train['has_chronic_disease'].unique()"
   ]
  },
  {
   "cell_type": "code",
   "execution_count": 50,
   "metadata": {},
   "outputs": [
    {
     "data": {
      "text/html": [
       "<style  type=\"text/css\" >\n",
       "    #T_5ca23_ caption {\n",
       "          font-weight: bold;\n",
       "    }</style><table id=\"T_5ca23_\" ><caption>has_chronic_disease</caption><thead>    <tr>        <th class=\"blank level0\" ></th>        <th class=\"col_heading level0 col0\" >percentage</th>        <th class=\"col_heading level0 col1\" >total</th>        <th class=\"col_heading level0 col2\" >visits_mean_22</th>        <th class=\"col_heading level0 col3\" >visits_mean_23</th>    </tr></thead><tbody>\n",
       "                <tr>\n",
       "                        <th id=\"T_5ca23_level0_row0\" class=\"row_heading level0 row0\" >0</th>\n",
       "                        <td id=\"T_5ca23_row0_col0\" class=\"data row0 col0\" >66.206000</td>\n",
       "                        <td id=\"T_5ca23_row0_col1\" class=\"data row0 col1\" >33103</td>\n",
       "                        <td id=\"T_5ca23_row0_col2\" class=\"data row0 col2\" >3.254176</td>\n",
       "                        <td id=\"T_5ca23_row0_col3\" class=\"data row0 col3\" >4.016131</td>\n",
       "            </tr>\n",
       "            <tr>\n",
       "                        <th id=\"T_5ca23_level0_row1\" class=\"row_heading level0 row1\" >1</th>\n",
       "                        <td id=\"T_5ca23_row1_col0\" class=\"data row1 col0\" >33.794000</td>\n",
       "                        <td id=\"T_5ca23_row1_col1\" class=\"data row1 col1\" >16897</td>\n",
       "                        <td id=\"T_5ca23_row1_col2\" class=\"data row1 col2\" >10.610937</td>\n",
       "                        <td id=\"T_5ca23_row1_col3\" class=\"data row1 col3\" >9.587323</td>\n",
       "            </tr>\n",
       "    </tbody></table>"
      ],
      "text/plain": [
       "<pandas.io.formats.style.Styler at 0x2b8e293bc10>"
      ]
     },
     "execution_count": 50,
     "metadata": {},
     "output_type": "execute_result"
    }
   ],
   "source": [
    "target_breakdown('has_chronic_disease')"
   ]
  },
  {
   "cell_type": "markdown",
   "metadata": {},
   "source": [
    "**Вывод:** Очень полезный признак, скорее всего сыграет важную роль в предсказании ЦП. Уместно сменить тип данных на булев, учитывая что это бинарный флажок. С точки зрения бизнеса представляет некоторую проблему, т.к. многие страховщики сомневаются в оформлении контракта с людьми болеющими хроническими заболеваниями, кроме того может быть подвержена влиянию законодательства в некоторых юрисдикциях."
   ]
  },
  {
   "cell_type": "markdown",
   "metadata": {},
   "source": [
    "### 6.10. <a id='toc6_10_'></a>[exposition_22](#toc0_)"
   ]
  },
  {
   "cell_type": "code",
   "execution_count": 51,
   "metadata": {},
   "outputs": [
    {
     "data": {
      "text/plain": [
       "count    50000.000000\n",
       "mean       358.898960\n",
       "std         35.562003\n",
       "min         50.000000\n",
       "25%        365.000000\n",
       "50%        365.000000\n",
       "75%        365.000000\n",
       "max        365.000000\n",
       "Name: exposition_22, dtype: float64"
      ]
     },
     "execution_count": 51,
     "metadata": {},
     "output_type": "execute_result"
    }
   ],
   "source": [
    "train['exposition_22'].describe()"
   ]
  },
  {
   "cell_type": "code",
   "execution_count": 52,
   "metadata": {},
   "outputs": [
    {
     "data": {
      "text/plain": [
       "365    48153\n",
       "61        26\n",
       "122       25\n",
       "364       23\n",
       "196       21\n",
       "Name: exposition_22, dtype: int64"
      ]
     },
     "execution_count": 52,
     "metadata": {},
     "output_type": "execute_result"
    }
   ],
   "source": [
    "train['exposition_22'].value_counts().head(5)"
   ]
  },
  {
   "cell_type": "code",
   "execution_count": 53,
   "metadata": {},
   "outputs": [
    {
     "data": {
      "image/png": "[encoded data removed]",
      "text/plain": [
       "<Figure size 640x480 with 1 Axes>"
      ]
     },
     "metadata": {},
     "output_type": "display_data"
    }
   ],
   "source": [
    "train['exposition_22'][train['exposition_22'] < 365].hist(bins=140)\n",
    "plt.title('Exposition histogram 2022 (Except 365)')\n",
    "plt.xlabel('exposition')\n",
    "plt.ylabel('Quantity');"
   ]
  },
  {
   "cell_type": "code",
   "execution_count": 54,
   "metadata": {},
   "outputs": [
    {
     "data": {
      "text/html": [
       "<div>\n",
       "<style scoped>\n",
       "    .dataframe tbody tr th:only-of-type {\n",
       "        vertical-align: middle;\n",
       "    }\n",
       "\n",
       "    .dataframe tbody tr th {\n",
       "        vertical-align: top;\n",
       "    }\n",
       "\n",
       "    .dataframe thead th {\n",
       "        text-align: right;\n",
       "    }\n",
       "</style>\n",
       "<table border=\"1\" class=\"dataframe\">\n",
       "  <thead>\n",
       "    <tr style=\"text-align: right;\">\n",
       "      <th></th>\n",
       "      <th>corr with exposition_22</th>\n",
       "    </tr>\n",
       "  </thead>\n",
       "  <tbody>\n",
       "    <tr>\n",
       "      <th>number_of_visits_22</th>\n",
       "      <td>0.060615</td>\n",
       "    </tr>\n",
       "    <tr>\n",
       "      <th>number_of_visits_23</th>\n",
       "      <td>-0.045779</td>\n",
       "    </tr>\n",
       "  </tbody>\n",
       "</table>\n",
       "</div>"
      ],
      "text/plain": [
       "                     corr with exposition_22\n",
       "number_of_visits_22                 0.060615\n",
       "number_of_visits_23                -0.045779"
      ]
     },
     "execution_count": 54,
     "metadata": {},
     "output_type": "execute_result"
    }
   ],
   "source": [
    "target_corr('exposition_22')"
   ]
  },
  {
   "cell_type": "code",
   "execution_count": 55,
   "metadata": {},
   "outputs": [
    {
     "data": {
      "text/html": [
       "<div>\n",
       "<style scoped>\n",
       "    .dataframe tbody tr th:only-of-type {\n",
       "        vertical-align: middle;\n",
       "    }\n",
       "\n",
       "    .dataframe tbody tr th {\n",
       "        vertical-align: top;\n",
       "    }\n",
       "\n",
       "    .dataframe thead th {\n",
       "        text-align: right;\n",
       "    }\n",
       "</style>\n",
       "<table border=\"1\" class=\"dataframe\">\n",
       "  <thead>\n",
       "    <tr style=\"text-align: right;\">\n",
       "      <th></th>\n",
       "      <th>corr with exposition_22 for values below 365</th>\n",
       "    </tr>\n",
       "  </thead>\n",
       "  <tbody>\n",
       "    <tr>\n",
       "      <th>number_of_visits_22</th>\n",
       "      <td>0.358111</td>\n",
       "    </tr>\n",
       "    <tr>\n",
       "      <th>number_of_visits_23</th>\n",
       "      <td>-0.025974</td>\n",
       "    </tr>\n",
       "  </tbody>\n",
       "</table>\n",
       "</div>"
      ],
      "text/plain": [
       "                     corr with exposition_22 for values below 365\n",
       "number_of_visits_22                                      0.358111\n",
       "number_of_visits_23                                     -0.025974"
      ]
     },
     "execution_count": 55,
     "metadata": {},
     "output_type": "execute_result"
    }
   ],
   "source": [
    "pd.DataFrame(train[['exposition_22', 'number_of_visits_22', 'number_of_visits_23']][train['exposition_22'] < 365].corr()['exposition_22'].drop('exposition_22')) \\\n",
    "    .rename(columns={'exposition_22':'corr with exposition_22 for values below 365'})"
   ]
  },
  {
   "cell_type": "code",
   "execution_count": 56,
   "metadata": {},
   "outputs": [
    {
     "data": {
      "text/plain": [
       "exposition_22\n",
       "False    4.365457\n",
       "True     5.793055\n",
       "Name: number_of_visits_22, dtype: float64"
      ]
     },
     "execution_count": 56,
     "metadata": {},
     "output_type": "execute_result"
    }
   ],
   "source": [
    "train['number_of_visits_22'].groupby(train['exposition_22'] == 365).mean()"
   ]
  },
  {
   "cell_type": "markdown",
   "metadata": {},
   "source": [
    "**Вывод:** Учитывая что меньше 10% периода страхования меньше одного года сложно сказать что признак полезен. Заметно, что среднии визиты в 22 больше для людей с круглогодовой страховкой, но, из-за дисбаланса, сложно говорить об этом с уверенностью. В целом признак весьма информативен для `number_of_visits_22`, но не для  `number_of_visits_23`. Корреляция не достаточно высока чтобы создать проблему, но возможно стоит его не использовать"
   ]
  },
  {
   "cell_type": "markdown",
   "metadata": {},
   "source": [
    "### 6.11. <a id='toc6_11_'></a>[number_of_visits_22](#toc0_)"
   ]
  },
  {
   "cell_type": "code",
   "execution_count": 57,
   "metadata": {},
   "outputs": [
    {
     "data": {
      "text/plain": [
       "count    50000.000000\n",
       "mean         5.740320\n",
       "std          6.592556\n",
       "min          0.000000\n",
       "25%          1.000000\n",
       "50%          4.000000\n",
       "75%          8.000000\n",
       "max        151.000000\n",
       "Name: number_of_visits_22, dtype: float64"
      ]
     },
     "execution_count": 57,
     "metadata": {},
     "output_type": "execute_result"
    }
   ],
   "source": [
    "train['number_of_visits_22'].describe()"
   ]
  },
  {
   "cell_type": "code",
   "execution_count": 58,
   "metadata": {},
   "outputs": [
    {
     "data": {
      "text/plain": [
       "0    8774\n",
       "1    5714\n",
       "2    5024\n",
       "3    4372\n",
       "4    3738\n",
       "5    3308\n",
       "6    2794\n",
       "7    2428\n",
       "8    2060\n",
       "9    1774\n",
       "Name: number_of_visits_22, dtype: int64"
      ]
     },
     "execution_count": 58,
     "metadata": {},
     "output_type": "execute_result"
    }
   ],
   "source": [
    "train['number_of_visits_22'].value_counts().head(10)"
   ]
  },
  {
   "cell_type": "code",
   "execution_count": 59,
   "metadata": {},
   "outputs": [
    {
     "name": "stdout",
     "output_type": "stream",
     "text": [
      "Correlation between number of visits in 2022 and 2023\n"
     ]
    },
    {
     "data": {
      "text/plain": [
       "0.6754298976518944"
      ]
     },
     "execution_count": 59,
     "metadata": {},
     "output_type": "execute_result"
    }
   ],
   "source": [
    "print('Correlation between number of visits in 2022 and 2023')\n",
    "train['number_of_visits_22'].corr(train['number_of_visits_23'])"
   ]
  },
  {
   "cell_type": "code",
   "execution_count": 60,
   "metadata": {},
   "outputs": [
    {
     "data": {
      "image/png": "[encoded data removed]",
      "text/plain": [
       "<Figure size 640x480 with 1 Axes>"
      ]
     },
     "metadata": {},
     "output_type": "display_data"
    }
   ],
   "source": [
    "train['number_of_visits_22'].plot.kde()\n",
    "plt.title('number_of_visits_22 KDE')\n",
    "plt.xlabel('number_of_visits_22')\n",
    "plt.xlim((0,200));\n"
   ]
  },
  {
   "cell_type": "code",
   "execution_count": 61,
   "metadata": {},
   "outputs": [
    {
     "data": {
      "image/png": "[encoded data removed]",
      "text/plain": [
       "<Figure size 640x480 with 1 Axes>"
      ]
     },
     "metadata": {},
     "output_type": "display_data"
    }
   ],
   "source": [
    "train['number_of_visits_22'][train['number_of_visits_22'] > 50].hist()\n",
    "plt.title('number_of_visits_22 KDE 2023')\n",
    "plt.xlabel('number_of_visits_22')\n",
    "plt.ylabel('Quantity')\n",
    "plt.xlim((0,200));"
   ]
  },
  {
   "cell_type": "code",
   "execution_count": 62,
   "metadata": {},
   "outputs": [
    {
     "data": {
      "text/html": [
       "<div>\n",
       "<style scoped>\n",
       "    .dataframe tbody tr th:only-of-type {\n",
       "        vertical-align: middle;\n",
       "    }\n",
       "\n",
       "    .dataframe tbody tr th {\n",
       "        vertical-align: top;\n",
       "    }\n",
       "\n",
       "    .dataframe thead th {\n",
       "        text-align: right;\n",
       "    }\n",
       "</style>\n",
       "<table border=\"1\" class=\"dataframe\">\n",
       "  <thead>\n",
       "    <tr style=\"text-align: right;\">\n",
       "      <th></th>\n",
       "      <th>insured_network</th>\n",
       "      <th>nationality</th>\n",
       "      <th>gender</th>\n",
       "      <th>relation</th>\n",
       "      <th>dob</th>\n",
       "      <th>diagnoses</th>\n",
       "      <th>has_chronic_disease</th>\n",
       "      <th>exposition_22</th>\n",
       "      <th>number_of_visits_22</th>\n",
       "      <th>number_of_services_22</th>\n",
       "      <th>exposition_23</th>\n",
       "      <th>number_of_visits_23</th>\n",
       "    </tr>\n",
       "    <tr>\n",
       "      <th>insured_pin</th>\n",
       "      <th></th>\n",
       "      <th></th>\n",
       "      <th></th>\n",
       "      <th></th>\n",
       "      <th></th>\n",
       "      <th></th>\n",
       "      <th></th>\n",
       "      <th></th>\n",
       "      <th></th>\n",
       "      <th></th>\n",
       "      <th></th>\n",
       "      <th></th>\n",
       "    </tr>\n",
       "  </thead>\n",
       "  <tbody>\n",
       "    <tr>\n",
       "      <th>1419016</th>\n",
       "      <td>Network-2</td>\n",
       "      <td>Saudi</td>\n",
       "      <td>Male</td>\n",
       "      <td>Self</td>\n",
       "      <td>1946-05-31</td>\n",
       "      <td>R52.9;K29.1;E13.52;M54.5;E10.42;I87.2;I95.9;A4...</td>\n",
       "      <td>1</td>\n",
       "      <td>365</td>\n",
       "      <td>151</td>\n",
       "      <td>962</td>\n",
       "      <td>365</td>\n",
       "      <td>202</td>\n",
       "    </tr>\n",
       "  </tbody>\n",
       "</table>\n",
       "</div>"
      ],
      "text/plain": [
       "            insured_network nationality gender relation        dob  \\\n",
       "insured_pin                                                          \n",
       "1419016           Network-2       Saudi   Male     Self 1946-05-31   \n",
       "\n",
       "                                                     diagnoses  \\\n",
       "insured_pin                                                      \n",
       "1419016      R52.9;K29.1;E13.52;M54.5;E10.42;I87.2;I95.9;A4...   \n",
       "\n",
       "             has_chronic_disease  exposition_22  number_of_visits_22  \\\n",
       "insured_pin                                                            \n",
       "1419016                        1            365                  151   \n",
       "\n",
       "             number_of_services_22  exposition_23  number_of_visits_23  \n",
       "insured_pin                                                             \n",
       "1419016                        962            365                  202  "
      ]
     },
     "execution_count": 62,
     "metadata": {},
     "output_type": "execute_result"
    }
   ],
   "source": [
    "train[train['number_of_visits_22'] > 125]"
   ]
  },
  {
   "cell_type": "markdown",
   "metadata": {},
   "source": [
    "**Вывод:** Очень информативен, даже если учитывать только корреляцию. Есть выброс, скорее всего стоит удалить."
   ]
  },
  {
   "cell_type": "markdown",
   "metadata": {},
   "source": [
    "### 6.12. <a id='toc6_12_'></a>[number_of_services_22](#toc0_)"
   ]
  },
  {
   "cell_type": "code",
   "execution_count": 63,
   "metadata": {},
   "outputs": [
    {
     "data": {
      "text/plain": [
       "count    50000.000000\n",
       "mean        22.477420\n",
       "std         29.714146\n",
       "min          0.000000\n",
       "25%          3.000000\n",
       "50%         13.000000\n",
       "75%         31.000000\n",
       "max        962.000000\n",
       "Name: number_of_services_22, dtype: float64"
      ]
     },
     "execution_count": 63,
     "metadata": {},
     "output_type": "execute_result"
    }
   ],
   "source": [
    "train['number_of_services_22'].describe()"
   ]
  },
  {
   "cell_type": "code",
   "execution_count": 64,
   "metadata": {},
   "outputs": [
    {
     "data": {
      "text/plain": [
       "0     8774\n",
       "2     1720\n",
       "4     1595\n",
       "3     1540\n",
       "5     1432\n",
       "6     1375\n",
       "7     1308\n",
       "8     1299\n",
       "9     1222\n",
       "10    1116\n",
       "Name: number_of_services_22, dtype: int64"
      ]
     },
     "execution_count": 64,
     "metadata": {},
     "output_type": "execute_result"
    }
   ],
   "source": [
    "train['number_of_services_22'].value_counts().head(10)"
   ]
  },
  {
   "cell_type": "code",
   "execution_count": 65,
   "metadata": {},
   "outputs": [
    {
     "data": {
      "text/html": [
       "<div>\n",
       "<style scoped>\n",
       "    .dataframe tbody tr th:only-of-type {\n",
       "        vertical-align: middle;\n",
       "    }\n",
       "\n",
       "    .dataframe tbody tr th {\n",
       "        vertical-align: top;\n",
       "    }\n",
       "\n",
       "    .dataframe thead th {\n",
       "        text-align: right;\n",
       "    }\n",
       "</style>\n",
       "<table border=\"1\" class=\"dataframe\">\n",
       "  <thead>\n",
       "    <tr style=\"text-align: right;\">\n",
       "      <th></th>\n",
       "      <th>corr with number_of_services_22</th>\n",
       "    </tr>\n",
       "  </thead>\n",
       "  <tbody>\n",
       "    <tr>\n",
       "      <th>number_of_visits_22</th>\n",
       "      <td>0.875023</td>\n",
       "    </tr>\n",
       "    <tr>\n",
       "      <th>number_of_visits_23</th>\n",
       "      <td>0.613905</td>\n",
       "    </tr>\n",
       "  </tbody>\n",
       "</table>\n",
       "</div>"
      ],
      "text/plain": [
       "                     corr with number_of_services_22\n",
       "number_of_visits_22                         0.875023\n",
       "number_of_visits_23                         0.613905"
      ]
     },
     "execution_count": 65,
     "metadata": {},
     "output_type": "execute_result"
    }
   ],
   "source": [
    "target_corr('number_of_services_22')"
   ]
  },
  {
   "cell_type": "code",
   "execution_count": 66,
   "metadata": {},
   "outputs": [
    {
     "data": {
      "image/png": "[encoded data removed]",
      "text/plain": [
       "<Figure size 640x480 with 1 Axes>"
      ]
     },
     "metadata": {},
     "output_type": "display_data"
    }
   ],
   "source": [
    "train['number_of_services_22'][train['number_of_services_22'] > 300].hist(bins = 20)\n",
    "plt.title('exposition_23 hist 2023')\n",
    "plt.xlabel('number_of_services_22');\n"
   ]
  },
  {
   "cell_type": "code",
   "execution_count": 67,
   "metadata": {},
   "outputs": [
    {
     "data": {
      "text/html": [
       "<div>\n",
       "<style scoped>\n",
       "    .dataframe tbody tr th:only-of-type {\n",
       "        vertical-align: middle;\n",
       "    }\n",
       "\n",
       "    .dataframe tbody tr th {\n",
       "        vertical-align: top;\n",
       "    }\n",
       "\n",
       "    .dataframe thead th {\n",
       "        text-align: right;\n",
       "    }\n",
       "</style>\n",
       "<table border=\"1\" class=\"dataframe\">\n",
       "  <thead>\n",
       "    <tr style=\"text-align: right;\">\n",
       "      <th></th>\n",
       "      <th>insured_network</th>\n",
       "      <th>nationality</th>\n",
       "      <th>gender</th>\n",
       "      <th>relation</th>\n",
       "      <th>dob</th>\n",
       "      <th>diagnoses</th>\n",
       "      <th>has_chronic_disease</th>\n",
       "      <th>exposition_22</th>\n",
       "      <th>number_of_visits_22</th>\n",
       "      <th>number_of_services_22</th>\n",
       "      <th>exposition_23</th>\n",
       "      <th>number_of_visits_23</th>\n",
       "    </tr>\n",
       "    <tr>\n",
       "      <th>insured_pin</th>\n",
       "      <th></th>\n",
       "      <th></th>\n",
       "      <th></th>\n",
       "      <th></th>\n",
       "      <th></th>\n",
       "      <th></th>\n",
       "      <th></th>\n",
       "      <th></th>\n",
       "      <th></th>\n",
       "      <th></th>\n",
       "      <th></th>\n",
       "      <th></th>\n",
       "    </tr>\n",
       "  </thead>\n",
       "  <tbody>\n",
       "    <tr>\n",
       "      <th>1419016</th>\n",
       "      <td>Network-2</td>\n",
       "      <td>Saudi</td>\n",
       "      <td>Male</td>\n",
       "      <td>Self</td>\n",
       "      <td>1946-05-31</td>\n",
       "      <td>R52.9;K29.1;E13.52;M54.5;E10.42;I87.2;I95.9;A4...</td>\n",
       "      <td>1</td>\n",
       "      <td>365</td>\n",
       "      <td>151</td>\n",
       "      <td>962</td>\n",
       "      <td>365</td>\n",
       "      <td>202</td>\n",
       "    </tr>\n",
       "    <tr>\n",
       "      <th>1431423</th>\n",
       "      <td>Network-2</td>\n",
       "      <td>Saudi</td>\n",
       "      <td>Male</td>\n",
       "      <td>Self</td>\n",
       "      <td>1978-04-24</td>\n",
       "      <td>G62.9;E27.3;E11;E03;H16.0;M79.66;R06.0;M25.5;J...</td>\n",
       "      <td>0</td>\n",
       "      <td>365</td>\n",
       "      <td>104</td>\n",
       "      <td>754</td>\n",
       "      <td>365</td>\n",
       "      <td>140</td>\n",
       "    </tr>\n",
       "  </tbody>\n",
       "</table>\n",
       "</div>"
      ],
      "text/plain": [
       "            insured_network nationality gender relation        dob  \\\n",
       "insured_pin                                                          \n",
       "1419016           Network-2       Saudi   Male     Self 1946-05-31   \n",
       "1431423           Network-2       Saudi   Male     Self 1978-04-24   \n",
       "\n",
       "                                                     diagnoses  \\\n",
       "insured_pin                                                      \n",
       "1419016      R52.9;K29.1;E13.52;M54.5;E10.42;I87.2;I95.9;A4...   \n",
       "1431423      G62.9;E27.3;E11;E03;H16.0;M79.66;R06.0;M25.5;J...   \n",
       "\n",
       "             has_chronic_disease  exposition_22  number_of_visits_22  \\\n",
       "insured_pin                                                            \n",
       "1419016                        1            365                  151   \n",
       "1431423                        0            365                  104   \n",
       "\n",
       "             number_of_services_22  exposition_23  number_of_visits_23  \n",
       "insured_pin                                                             \n",
       "1419016                        962            365                  202  \n",
       "1431423                        754            365                  140  "
      ]
     },
     "execution_count": 67,
     "metadata": {},
     "output_type": "execute_result"
    }
   ],
   "source": [
    "train[train['number_of_services_22'] > 700]"
   ]
  },
  {
   "cell_type": "markdown",
   "metadata": {},
   "source": [
    "**Вывод:** Также как и `exposition_22` для `number_of_visits_22`, данный признак очень информативен для своего года, настолько что представляет угрозу мультиколлинеарности с `number_of_visits_22`. Сохранение его скорее всего не даст лучших результатов чем просто использование `number_of_visits_22`.\n",
    "\n",
    "Два выброса, один старый. Стоит удалить."
   ]
  },
  {
   "cell_type": "markdown",
   "metadata": {},
   "source": [
    "### 6.13. <a id='toc6_13_'></a>[exposition_23](#toc0_)"
   ]
  },
  {
   "cell_type": "code",
   "execution_count": 68,
   "metadata": {
    "scrolled": true
   },
   "outputs": [
    {
     "data": {
      "text/plain": [
       "count    50000.000000\n",
       "mean       355.588420\n",
       "std         43.779065\n",
       "min         50.000000\n",
       "25%        365.000000\n",
       "50%        365.000000\n",
       "75%        365.000000\n",
       "max        365.000000\n",
       "Name: exposition_23, dtype: float64"
      ]
     },
     "execution_count": 68,
     "metadata": {},
     "output_type": "execute_result"
    }
   ],
   "source": [
    "train['exposition_23'].describe()"
   ]
  },
  {
   "cell_type": "code",
   "execution_count": 69,
   "metadata": {
    "scrolled": true
   },
   "outputs": [
    {
     "data": {
      "text/plain": [
       "365    47278\n",
       "211      111\n",
       "156      110\n",
       "268       99\n",
       "207       92\n",
       "206       84\n",
       "301       78\n",
       "147       78\n",
       "78        73\n",
       "238       66\n",
       "Name: exposition_23, dtype: int64"
      ]
     },
     "execution_count": 69,
     "metadata": {},
     "output_type": "execute_result"
    }
   ],
   "source": [
    "train['exposition_23'].value_counts().head(10)"
   ]
  },
  {
   "cell_type": "code",
   "execution_count": 70,
   "metadata": {},
   "outputs": [
    {
     "data": {
      "image/png": "[encoded data removed]",
      "text/plain": [
       "<Figure size 640x480 with 1 Axes>"
      ]
     },
     "metadata": {},
     "output_type": "display_data"
    }
   ],
   "source": [
    "train['exposition_23'][train['exposition_23'] < 365].hist(bins=140)\n",
    "plt.title('Exposition histogram 2022 (Except 365)')\n",
    "plt.xlabel('exposition')\n",
    "plt.ylabel('Quantity');"
   ]
  },
  {
   "cell_type": "code",
   "execution_count": 71,
   "metadata": {},
   "outputs": [
    {
     "name": "stdout",
     "output_type": "stream",
     "text": [
      "Correlation between exposure and visits in 2023\n"
     ]
    },
    {
     "data": {
      "text/plain": [
       "0.11764494226561621"
      ]
     },
     "execution_count": 71,
     "metadata": {},
     "output_type": "execute_result"
    }
   ],
   "source": [
    "print('Correlation between exposure and visits in 2023')\n",
    "train['exposition_23'].corr(train['number_of_visits_23'])"
   ]
  },
  {
   "cell_type": "code",
   "execution_count": 72,
   "metadata": {},
   "outputs": [
    {
     "name": "stdout",
     "output_type": "stream",
     "text": [
      "Correlation between exposure (<365) and visits in 2023\n"
     ]
    },
    {
     "data": {
      "text/plain": [
       "0.14362665334899222"
      ]
     },
     "execution_count": 72,
     "metadata": {},
     "output_type": "execute_result"
    }
   ],
   "source": [
    "print('Correlation between exposure (<365) and visits in 2023')\n",
    "train['exposition_23'][train['exposition_23'] < 365].corr(train['number_of_visits_23'])"
   ]
  },
  {
   "cell_type": "code",
   "execution_count": 73,
   "metadata": {},
   "outputs": [
    {
     "data": {
      "text/plain": [
       "exposition_23\n",
       "False    2.372888\n",
       "True     6.101866\n",
       "Name: number_of_visits_23, dtype: float64"
      ]
     },
     "execution_count": 73,
     "metadata": {},
     "output_type": "execute_result"
    }
   ],
   "source": [
    "train['number_of_visits_23'].groupby(train['exposition_23'] == 365).mean()"
   ]
  },
  {
   "cell_type": "markdown",
   "metadata": {},
   "source": [
    "**Вывод:** Корреляция с визитами ниже чем в случае 2022 года, на в целом это полезный признак. В отличии от 2022, люди с круглогодовой страховкой имеет среднее значение ЦП в 3 раза выше чем остальные."
   ]
  },
  {
   "cell_type": "markdown",
   "metadata": {},
   "source": [
    "### 6.14. <a id='toc6_14_'></a>[number_of_visits_23](#toc0_)"
   ]
  },
  {
   "cell_type": "code",
   "execution_count": 74,
   "metadata": {
    "scrolled": true
   },
   "outputs": [
    {
     "data": {
      "text/plain": [
       "count    50000.000000\n",
       "mean         5.898860\n",
       "std          6.856904\n",
       "min          0.000000\n",
       "25%          1.000000\n",
       "50%          4.000000\n",
       "75%          8.000000\n",
       "max        202.000000\n",
       "Name: number_of_visits_23, dtype: float64"
      ]
     },
     "execution_count": 74,
     "metadata": {},
     "output_type": "execute_result"
    }
   ],
   "source": [
    "train['number_of_visits_23'].describe()"
   ]
  },
  {
   "cell_type": "code",
   "execution_count": 75,
   "metadata": {
    "scrolled": true
   },
   "outputs": [
    {
     "data": {
      "text/plain": [
       "0    8525\n",
       "1    5592\n",
       "2    4931\n",
       "3    4515\n",
       "4    3773\n",
       "5    3289\n",
       "6    2847\n",
       "7    2304\n",
       "8    2063\n",
       "9    1706\n",
       "Name: number_of_visits_23, dtype: int64"
      ]
     },
     "execution_count": 75,
     "metadata": {},
     "output_type": "execute_result"
    }
   ],
   "source": [
    "train['number_of_visits_23'].value_counts().head(10)"
   ]
  },
  {
   "cell_type": "code",
   "execution_count": 76,
   "metadata": {},
   "outputs": [
    {
     "data": {
      "image/png": "[encoded data removed]",
      "text/plain": [
       "<Figure size 640x480 with 1 Axes>"
      ]
     },
     "metadata": {},
     "output_type": "display_data"
    }
   ],
   "source": [
    "train['number_of_visits_23'].plot.kde()\n",
    "plt.title('number_of_visits_23 KDE 2023')\n",
    "plt.xlabel('number_of_visits_23')\n",
    "plt.xlim((0,200));"
   ]
  },
  {
   "cell_type": "code",
   "execution_count": 77,
   "metadata": {},
   "outputs": [
    {
     "data": {
      "image/png": "[encoded data removed]",
      "text/plain": [
       "<Figure size 640x480 with 1 Axes>"
      ]
     },
     "metadata": {},
     "output_type": "display_data"
    }
   ],
   "source": [
    "train['number_of_visits_23'][train['number_of_visits_23'] > 50].hist()\n",
    "plt.title('number_of_visits_23 KDE 2023')\n",
    "plt.xlabel('number_of_visits_23')\n",
    "plt.xlim((0,200));"
   ]
  },
  {
   "cell_type": "code",
   "execution_count": 78,
   "metadata": {},
   "outputs": [
    {
     "data": {
      "text/html": [
       "<div>\n",
       "<style scoped>\n",
       "    .dataframe tbody tr th:only-of-type {\n",
       "        vertical-align: middle;\n",
       "    }\n",
       "\n",
       "    .dataframe tbody tr th {\n",
       "        vertical-align: top;\n",
       "    }\n",
       "\n",
       "    .dataframe thead th {\n",
       "        text-align: right;\n",
       "    }\n",
       "</style>\n",
       "<table border=\"1\" class=\"dataframe\">\n",
       "  <thead>\n",
       "    <tr style=\"text-align: right;\">\n",
       "      <th></th>\n",
       "      <th>insured_network</th>\n",
       "      <th>nationality</th>\n",
       "      <th>gender</th>\n",
       "      <th>relation</th>\n",
       "      <th>dob</th>\n",
       "      <th>diagnoses</th>\n",
       "      <th>has_chronic_disease</th>\n",
       "      <th>exposition_22</th>\n",
       "      <th>number_of_visits_22</th>\n",
       "      <th>number_of_services_22</th>\n",
       "      <th>exposition_23</th>\n",
       "      <th>number_of_visits_23</th>\n",
       "    </tr>\n",
       "    <tr>\n",
       "      <th>insured_pin</th>\n",
       "      <th></th>\n",
       "      <th></th>\n",
       "      <th></th>\n",
       "      <th></th>\n",
       "      <th></th>\n",
       "      <th></th>\n",
       "      <th></th>\n",
       "      <th></th>\n",
       "      <th></th>\n",
       "      <th></th>\n",
       "      <th></th>\n",
       "      <th></th>\n",
       "    </tr>\n",
       "  </thead>\n",
       "  <tbody>\n",
       "    <tr>\n",
       "      <th>1419016</th>\n",
       "      <td>Network-2</td>\n",
       "      <td>Saudi</td>\n",
       "      <td>Male</td>\n",
       "      <td>Self</td>\n",
       "      <td>1946-05-31</td>\n",
       "      <td>R52.9;K29.1;E13.52;M54.5;E10.42;I87.2;I95.9;A4...</td>\n",
       "      <td>1</td>\n",
       "      <td>365</td>\n",
       "      <td>151</td>\n",
       "      <td>962</td>\n",
       "      <td>365</td>\n",
       "      <td>202</td>\n",
       "    </tr>\n",
       "  </tbody>\n",
       "</table>\n",
       "</div>"
      ],
      "text/plain": [
       "            insured_network nationality gender relation        dob  \\\n",
       "insured_pin                                                          \n",
       "1419016           Network-2       Saudi   Male     Self 1946-05-31   \n",
       "\n",
       "                                                     diagnoses  \\\n",
       "insured_pin                                                      \n",
       "1419016      R52.9;K29.1;E13.52;M54.5;E10.42;I87.2;I95.9;A4...   \n",
       "\n",
       "             has_chronic_disease  exposition_22  number_of_visits_22  \\\n",
       "insured_pin                                                            \n",
       "1419016                        1            365                  151   \n",
       "\n",
       "             number_of_services_22  exposition_23  number_of_visits_23  \n",
       "insured_pin                                                             \n",
       "1419016                        962            365                  202  "
      ]
     },
     "execution_count": 78,
     "metadata": {},
     "output_type": "execute_result"
    }
   ],
   "source": [
    "train[train['number_of_visits_23'] > 150]"
   ]
  },
  {
   "cell_type": "markdown",
   "metadata": {},
   "source": [
    "**Вывод:** Целевой признак также имеет тот же выброс, что и `number_of_visits_22`, что подтверждает необходимость его отбросить.\n"
   ]
  },
  {
   "cell_type": "markdown",
   "metadata": {},
   "source": [
    "### 6.15. <a id='toc6_15_'></a>[Заключение](#toc0_)\n",
    "\n",
    "В целом данные качественные, 20% отсутствующих диагнозов скорее всего вызваны технической ошибкой при переносе данных без диагнозов. Некоторые аномалии лучше отбросить для ручной обработки.\n",
    "\n",
    "Признаки `nationality` и `insured_network` плохо сбалансированы, подавляющие большинство - саудовцы с доступом к `Network-2`, но нет полного пересечения категорий. Классы не имеет смысл балансировать, не ясно стоит ли вообще использовать эти признаки.\n",
    "\n",
    "`Gender` имеет хороший баланс, учитывая контекст возможно имеет смысл разбить задание на несколько моделей - мужчины, женщины и дети отдельно.\n",
    "\n",
    "`Relation` не представляет проблем и содержит полезную бизнесу информацию, но не до конца понятно как этот признак повлияет на модель.\n",
    "\n",
    "Возраст, хронические заболевания и числовые признаки весьма полезны и информативны, но `number_of_services_22` имеет 87% корреляцию с  `number_of_visists_22`, что скорее всего вызовет проблемы с мультиколлинеарностью.\n",
    "\n",
    "И наконец `diagnoses` представляет главный вызов, т.к. каждый пациент имеет уникальный набор заболеваний. Учитывая, что определение заболеваний вероятнее всего повышающих поход к врачу полезно для компании, данный признак стоит сохранить."
   ]
  },
  {
   "cell_type": "markdown",
   "metadata": {},
   "source": [
    "## 7. <a id='toc7_'></a>[Предобработка](#toc0_)"
   ]
  },
  {
   "cell_type": "markdown",
   "metadata": {},
   "source": [
    "### 7.1. <a id='toc7_1_'></a>[Пропуски](#toc0_)"
   ]
  },
  {
   "cell_type": "markdown",
   "metadata": {},
   "source": [
    "#### 7.1.1. <a id='toc7_1_1_'></a>[diagnoses](#toc0_)"
   ]
  },
  {
   "cell_type": "code",
   "execution_count": 79,
   "metadata": {},
   "outputs": [],
   "source": [
    "train.diagnoses.fillna('no_diagnoses', inplace=True)\n",
    "holdout.diagnoses.fillna('no_diagnoses', inplace=True)"
   ]
  },
  {
   "cell_type": "markdown",
   "metadata": {},
   "source": [
    "#### 7.1.2. <a id='toc7_1_2_'></a>[age](#toc0_)"
   ]
  },
  {
   "cell_type": "code",
   "execution_count": 80,
   "metadata": {
    "scrolled": false
   },
   "outputs": [
    {
     "data": {
      "text/html": [
       "<div>\n",
       "<style scoped>\n",
       "    .dataframe tbody tr th:only-of-type {\n",
       "        vertical-align: middle;\n",
       "    }\n",
       "\n",
       "    .dataframe tbody tr th {\n",
       "        vertical-align: top;\n",
       "    }\n",
       "\n",
       "    .dataframe thead th {\n",
       "        text-align: right;\n",
       "    }\n",
       "</style>\n",
       "<table border=\"1\" class=\"dataframe\">\n",
       "  <thead>\n",
       "    <tr style=\"text-align: right;\">\n",
       "      <th></th>\n",
       "      <th>insured_network</th>\n",
       "      <th>nationality</th>\n",
       "      <th>gender</th>\n",
       "      <th>relation</th>\n",
       "      <th>dob</th>\n",
       "      <th>diagnoses</th>\n",
       "      <th>has_chronic_disease</th>\n",
       "      <th>exposition_22</th>\n",
       "      <th>number_of_visits_22</th>\n",
       "      <th>number_of_services_22</th>\n",
       "      <th>exposition_23</th>\n",
       "      <th>number_of_visits_23</th>\n",
       "    </tr>\n",
       "    <tr>\n",
       "      <th>insured_pin</th>\n",
       "      <th></th>\n",
       "      <th></th>\n",
       "      <th></th>\n",
       "      <th></th>\n",
       "      <th></th>\n",
       "      <th></th>\n",
       "      <th></th>\n",
       "      <th></th>\n",
       "      <th></th>\n",
       "      <th></th>\n",
       "      <th></th>\n",
       "      <th></th>\n",
       "    </tr>\n",
       "  </thead>\n",
       "  <tbody>\n",
       "    <tr>\n",
       "      <th>1451433</th>\n",
       "      <td>Network-2</td>\n",
       "      <td>Saudi</td>\n",
       "      <td>Male</td>\n",
       "      <td>Self</td>\n",
       "      <td>NaT</td>\n",
       "      <td>H93.1;A09.9;R10;N39.0;M79;E78.5;N77.1;M23;E11....</td>\n",
       "      <td>1</td>\n",
       "      <td>365</td>\n",
       "      <td>15</td>\n",
       "      <td>62</td>\n",
       "      <td>365</td>\n",
       "      <td>14</td>\n",
       "    </tr>\n",
       "  </tbody>\n",
       "</table>\n",
       "</div>"
      ],
      "text/plain": [
       "            insured_network nationality gender relation dob  \\\n",
       "insured_pin                                                   \n",
       "1451433           Network-2       Saudi   Male     Self NaT   \n",
       "\n",
       "                                                     diagnoses  \\\n",
       "insured_pin                                                      \n",
       "1451433      H93.1;A09.9;R10;N39.0;M79;E78.5;N77.1;M23;E11....   \n",
       "\n",
       "             has_chronic_disease  exposition_22  number_of_visits_22  \\\n",
       "insured_pin                                                            \n",
       "1451433                        1            365                   15   \n",
       "\n",
       "             number_of_services_22  exposition_23  number_of_visits_23  \n",
       "insured_pin                                                             \n",
       "1451433                         62            365                   14  "
      ]
     },
     "execution_count": 80,
     "metadata": {},
     "output_type": "execute_result"
    }
   ],
   "source": [
    "train[train.dob.isnull()]"
   ]
  },
  {
   "cell_type": "code",
   "execution_count": 81,
   "metadata": {},
   "outputs": [
    {
     "data": {
      "text/plain": [
       "count    49999.000000\n",
       "mean        33.365907\n",
       "std         22.741768\n",
       "min          1.000000\n",
       "25%         12.000000\n",
       "50%         32.000000\n",
       "75%         52.000000\n",
       "max        103.000000\n",
       "Name: age, dtype: float64"
      ]
     },
     "execution_count": 81,
     "metadata": {},
     "output_type": "execute_result"
    }
   ],
   "source": [
    "age = (2023 - train['dob'].dt.year).rename('age') # duplicated for convinience\n",
    "age.describe()"
   ]
  },
  {
   "cell_type": "code",
   "execution_count": 82,
   "metadata": {},
   "outputs": [
    {
     "data": {
      "text/plain": [
       "1"
      ]
     },
     "execution_count": 82,
     "metadata": {},
     "output_type": "execute_result"
    }
   ],
   "source": [
    "age.isna().sum()"
   ]
  },
  {
   "cell_type": "code",
   "execution_count": 83,
   "metadata": {},
   "outputs": [
    {
     "data": {
      "text/plain": [
       "nationality  gender  relation  has_chronic_disease\n",
       "Group 1      Female  Spouse    0                     1985-01-01\n",
       "                               1                     1982-01-01\n",
       "             Male    Child     0                     2011-01-01\n",
       "                     Self      0                     1982-01-01\n",
       "                               1                     1978-01-01\n",
       "                                                        ...    \n",
       "Saudi        Male    Parent    1                     1951-01-01\n",
       "                     Self      0                     1972-01-01\n",
       "                               1                     1976-01-01\n",
       "                     Spouse    0                     1984-01-01\n",
       "                               1                     1987-01-01\n",
       "Name: dob_average, Length: 71, dtype: datetime64[ns]"
      ]
     },
     "execution_count": 83,
     "metadata": {},
     "output_type": "execute_result"
    }
   ],
   "source": [
    "dob_mean = pd.to_datetime(\n",
    "    (2023 - pd.concat([train, age], axis=1) \\\n",
    "     .groupby(['nationality', 'gender', 'relation', 'has_chronic_disease']).mean()['age']),\n",
    "    format='%Y').rename('dob_average')\n",
    "dob_mean"
   ]
  },
  {
   "cell_type": "code",
   "execution_count": 84,
   "metadata": {},
   "outputs": [],
   "source": [
    "def dob_sample_mean(sample): # could do fillna instead, but inplace inside a function seems unsafe\n",
    "    return sample.merge(dob_mean, how='left',\n",
    "                        on=['nationality', 'gender', 'relation', 'has_chronic_disease']).set_index(sample.index)['dob_average']"
   ]
  },
  {
   "cell_type": "code",
   "execution_count": 85,
   "metadata": {},
   "outputs": [],
   "source": [
    "train.dob.fillna(dob_sample_mean(train), inplace=True)\n",
    "holdout.dob.fillna(dob_sample_mean(train), inplace=True)"
   ]
  },
  {
   "cell_type": "code",
   "execution_count": 86,
   "metadata": {},
   "outputs": [
    {
     "data": {
      "text/plain": [
       "0"
      ]
     },
     "execution_count": 86,
     "metadata": {},
     "output_type": "execute_result"
    }
   ],
   "source": [
    "train.isna().sum().sum()"
   ]
  },
  {
   "cell_type": "code",
   "execution_count": 87,
   "metadata": {},
   "outputs": [
    {
     "data": {
      "text/plain": [
       "0"
      ]
     },
     "execution_count": 87,
     "metadata": {},
     "output_type": "execute_result"
    }
   ],
   "source": [
    "holdout.isna().sum().sum()"
   ]
  },
  {
   "cell_type": "markdown",
   "metadata": {},
   "source": [
    "**Вывод:** `diagnoses` пропуски заполнены заглушкой. Для `dob`  составлен алгоритм заполнения средним из `train` по совпадению пола, национальности, наличия хронических заболеваний и `relation`."
   ]
  },
  {
   "cell_type": "markdown",
   "metadata": {},
   "source": [
    "### 7.2. <a id='toc7_2_'></a>[Anomalies](#toc0_)"
   ]
  },
  {
   "cell_type": "code",
   "execution_count": 88,
   "metadata": {
    "scrolled": true
   },
   "outputs": [
    {
     "data": {
      "text/html": [
       "<div>\n",
       "<style scoped>\n",
       "    .dataframe tbody tr th:only-of-type {\n",
       "        vertical-align: middle;\n",
       "    }\n",
       "\n",
       "    .dataframe tbody tr th {\n",
       "        vertical-align: top;\n",
       "    }\n",
       "\n",
       "    .dataframe thead th {\n",
       "        text-align: right;\n",
       "    }\n",
       "</style>\n",
       "<table border=\"1\" class=\"dataframe\">\n",
       "  <thead>\n",
       "    <tr style=\"text-align: right;\">\n",
       "      <th></th>\n",
       "      <th>insured_network</th>\n",
       "      <th>nationality</th>\n",
       "      <th>gender</th>\n",
       "      <th>relation</th>\n",
       "      <th>dob</th>\n",
       "      <th>diagnoses</th>\n",
       "      <th>has_chronic_disease</th>\n",
       "      <th>exposition_22</th>\n",
       "      <th>number_of_visits_22</th>\n",
       "      <th>number_of_services_22</th>\n",
       "      <th>exposition_23</th>\n",
       "      <th>number_of_visits_23</th>\n",
       "    </tr>\n",
       "    <tr>\n",
       "      <th>insured_pin</th>\n",
       "      <th></th>\n",
       "      <th></th>\n",
       "      <th></th>\n",
       "      <th></th>\n",
       "      <th></th>\n",
       "      <th></th>\n",
       "      <th></th>\n",
       "      <th></th>\n",
       "      <th></th>\n",
       "      <th></th>\n",
       "      <th></th>\n",
       "      <th></th>\n",
       "    </tr>\n",
       "  </thead>\n",
       "  <tbody>\n",
       "    <tr>\n",
       "      <th>1419016</th>\n",
       "      <td>Network-2</td>\n",
       "      <td>Saudi</td>\n",
       "      <td>Male</td>\n",
       "      <td>Self</td>\n",
       "      <td>1946-05-31</td>\n",
       "      <td>R52.9;K29.1;E13.52;M54.5;E10.42;I87.2;I95.9;A4...</td>\n",
       "      <td>1</td>\n",
       "      <td>365</td>\n",
       "      <td>151</td>\n",
       "      <td>962</td>\n",
       "      <td>365</td>\n",
       "      <td>202</td>\n",
       "    </tr>\n",
       "    <tr>\n",
       "      <th>1431423</th>\n",
       "      <td>Network-2</td>\n",
       "      <td>Saudi</td>\n",
       "      <td>Male</td>\n",
       "      <td>Self</td>\n",
       "      <td>1978-04-24</td>\n",
       "      <td>G62.9;E27.3;E11;E03;H16.0;M79.66;R06.0;M25.5;J...</td>\n",
       "      <td>0</td>\n",
       "      <td>365</td>\n",
       "      <td>104</td>\n",
       "      <td>754</td>\n",
       "      <td>365</td>\n",
       "      <td>140</td>\n",
       "    </tr>\n",
       "  </tbody>\n",
       "</table>\n",
       "</div>"
      ],
      "text/plain": [
       "            insured_network nationality gender relation        dob  \\\n",
       "insured_pin                                                          \n",
       "1419016           Network-2       Saudi   Male     Self 1946-05-31   \n",
       "1431423           Network-2       Saudi   Male     Self 1978-04-24   \n",
       "\n",
       "                                                     diagnoses  \\\n",
       "insured_pin                                                      \n",
       "1419016      R52.9;K29.1;E13.52;M54.5;E10.42;I87.2;I95.9;A4...   \n",
       "1431423      G62.9;E27.3;E11;E03;H16.0;M79.66;R06.0;M25.5;J...   \n",
       "\n",
       "             has_chronic_disease  exposition_22  number_of_visits_22  \\\n",
       "insured_pin                                                            \n",
       "1419016                        1            365                  151   \n",
       "1431423                        0            365                  104   \n",
       "\n",
       "             number_of_services_22  exposition_23  number_of_visits_23  \n",
       "insured_pin                                                             \n",
       "1419016                        962            365                  202  \n",
       "1431423                        754            365                  140  "
      ]
     },
     "execution_count": 88,
     "metadata": {},
     "output_type": "execute_result"
    }
   ],
   "source": [
    "train[train['number_of_services_22'] > 700]"
   ]
  },
  {
   "cell_type": "code",
   "execution_count": 89,
   "metadata": {
    "scrolled": true
   },
   "outputs": [],
   "source": [
    "train.drop([1419016, 1431423], inplace=True)"
   ]
  },
  {
   "cell_type": "markdown",
   "metadata": {},
   "source": [
    "**Вывод:** Отброшены выбросы. Детальное рассмотрение в исследовательском анализе."
   ]
  },
  {
   "cell_type": "markdown",
   "metadata": {},
   "source": [
    "### 7.3. <a id='toc7_3_'></a>[Test split](#toc0_)\n"
   ]
  },
  {
   "cell_type": "code",
   "execution_count": 90,
   "metadata": {},
   "outputs": [],
   "source": [
    "feat = train.drop('number_of_visits_23', axis=1).copy()\n",
    "targ = train['number_of_visits_23'].copy()"
   ]
  },
  {
   "cell_type": "code",
   "execution_count": 91,
   "metadata": {},
   "outputs": [],
   "source": [
    "feat_train, feat_test, targ_train, targ_test = train_test_split(feat, targ, test_size=10000, random_state=RANDOM)"
   ]
  },
  {
   "cell_type": "code",
   "execution_count": 92,
   "metadata": {},
   "outputs": [],
   "source": [
    "feat_holdout = holdout.copy()"
   ]
  },
  {
   "cell_type": "markdown",
   "metadata": {},
   "source": [
    "**Вывод:** Во избежание переобучения `train` разбита на `train` и `test`. После выбора модели они могут быть собраны обратно для предсказания `holdout`."
   ]
  },
  {
   "cell_type": "markdown",
   "metadata": {},
   "source": [
    "### 7.4. <a id='toc7_4_'></a>[Конструирование признаков](#toc0_)"
   ]
  },
  {
   "cell_type": "code",
   "execution_count": 93,
   "metadata": {},
   "outputs": [],
   "source": [
    "sample_list = [feat_train, feat_test, feat_holdout]\n",
    "\n",
    "for sample in sample_list:\n",
    "    sample['age'] = 2023 - sample.dob.dt.year\n",
    "    sample['has_chronic_disease'] = sample.has_chronic_disease.astype('bool')\n",
    "    sample['diagnoses'] = sample['diagnoses'].str.lower().str.split(';')\n",
    "    sample['diagnoses_counts'] = sample['diagnoses'].map(lambda x: 0 if x == ['no_diagnoses'] else len(x))\n",
    "    sample['exposition_23_full'] = sample['exposition_23'] == 365\n",
    "    sample[['insured_network', 'nationality', 'gender', 'relation']] =\\\n",
    "        sample[['insured_network', 'nationality', 'gender', 'relation']].astype('category')"
   ]
  },
  {
   "cell_type": "markdown",
   "metadata": {},
   "source": [
    "**Вывод:** Дата рождения заменена на возраст. Хронические заболевания приведены к булеву типу. Добавлена `exposition_23_full`, возможно упростит принятие решений для некоторых моделей. Реорганизованы диагнозы чтобы пропустить токенизацию. Категориальные приведены к `categorical`.\n",
    "\n",
    "`insured_network` может быть заменена числами отражающими уровень обслуживания, но нет чёткой связи с ЦП, и поэтому это не очень осмысленно."
   ]
  },
  {
   "cell_type": "markdown",
   "metadata": {},
   "source": [
    "### 7.5. <a id='toc7_5_'></a>[Заключение](#toc0_)\n",
    "\n",
    "Общая обработка завершена, аномалии устранены, пропуски заполнены. Данные разбиты для тестирования, чтобы избежать переобучения. Выбор признаков и преобразования для МО в следующем разделе."
   ]
  },
  {
   "cell_type": "code",
   "execution_count": 94,
   "metadata": {},
   "outputs": [
    {
     "data": {
      "text/html": [
       "<div>\n",
       "<style scoped>\n",
       "    .dataframe tbody tr th:only-of-type {\n",
       "        vertical-align: middle;\n",
       "    }\n",
       "\n",
       "    .dataframe tbody tr th {\n",
       "        vertical-align: top;\n",
       "    }\n",
       "\n",
       "    .dataframe thead th {\n",
       "        text-align: right;\n",
       "    }\n",
       "</style>\n",
       "<table border=\"1\" class=\"dataframe\">\n",
       "  <thead>\n",
       "    <tr style=\"text-align: right;\">\n",
       "      <th></th>\n",
       "      <th>insured_network</th>\n",
       "      <th>nationality</th>\n",
       "      <th>gender</th>\n",
       "      <th>relation</th>\n",
       "      <th>dob</th>\n",
       "      <th>diagnoses</th>\n",
       "      <th>has_chronic_disease</th>\n",
       "      <th>exposition_22</th>\n",
       "      <th>number_of_visits_22</th>\n",
       "      <th>number_of_services_22</th>\n",
       "      <th>exposition_23</th>\n",
       "      <th>age</th>\n",
       "      <th>diagnoses_counts</th>\n",
       "      <th>exposition_23_full</th>\n",
       "    </tr>\n",
       "    <tr>\n",
       "      <th>insured_pin</th>\n",
       "      <th></th>\n",
       "      <th></th>\n",
       "      <th></th>\n",
       "      <th></th>\n",
       "      <th></th>\n",
       "      <th></th>\n",
       "      <th></th>\n",
       "      <th></th>\n",
       "      <th></th>\n",
       "      <th></th>\n",
       "      <th></th>\n",
       "      <th></th>\n",
       "      <th></th>\n",
       "      <th></th>\n",
       "    </tr>\n",
       "  </thead>\n",
       "  <tbody>\n",
       "    <tr>\n",
       "      <th>1489111</th>\n",
       "      <td>Network-2</td>\n",
       "      <td>Saudi</td>\n",
       "      <td>Female</td>\n",
       "      <td>Self</td>\n",
       "      <td>1946-05-31</td>\n",
       "      <td>[no_diagnoses]</td>\n",
       "      <td>False</td>\n",
       "      <td>365</td>\n",
       "      <td>0</td>\n",
       "      <td>0</td>\n",
       "      <td>365</td>\n",
       "      <td>77</td>\n",
       "      <td>0</td>\n",
       "      <td>True</td>\n",
       "    </tr>\n",
       "    <tr>\n",
       "      <th>1504934</th>\n",
       "      <td>Network-2</td>\n",
       "      <td>Saudi</td>\n",
       "      <td>Male</td>\n",
       "      <td>Self</td>\n",
       "      <td>1959-12-30</td>\n",
       "      <td>[no_diagnoses]</td>\n",
       "      <td>False</td>\n",
       "      <td>365</td>\n",
       "      <td>0</td>\n",
       "      <td>0</td>\n",
       "      <td>78</td>\n",
       "      <td>64</td>\n",
       "      <td>0</td>\n",
       "      <td>False</td>\n",
       "    </tr>\n",
       "    <tr>\n",
       "      <th>1531337</th>\n",
       "      <td>Network-2</td>\n",
       "      <td>Saudi</td>\n",
       "      <td>Male</td>\n",
       "      <td>Child</td>\n",
       "      <td>2006-11-23</td>\n",
       "      <td>[no_diagnoses]</td>\n",
       "      <td>False</td>\n",
       "      <td>365</td>\n",
       "      <td>0</td>\n",
       "      <td>0</td>\n",
       "      <td>365</td>\n",
       "      <td>17</td>\n",
       "      <td>0</td>\n",
       "      <td>True</td>\n",
       "    </tr>\n",
       "    <tr>\n",
       "      <th>1408159</th>\n",
       "      <td>Network-2</td>\n",
       "      <td>Saudi</td>\n",
       "      <td>Male</td>\n",
       "      <td>Self</td>\n",
       "      <td>1994-08-27</td>\n",
       "      <td>[j06.9, r10.4, h60, r31, n23]</td>\n",
       "      <td>True</td>\n",
       "      <td>365</td>\n",
       "      <td>4</td>\n",
       "      <td>30</td>\n",
       "      <td>365</td>\n",
       "      <td>29</td>\n",
       "      <td>5</td>\n",
       "      <td>True</td>\n",
       "    </tr>\n",
       "    <tr>\n",
       "      <th>1522775</th>\n",
       "      <td>Network-2</td>\n",
       "      <td>Saudi</td>\n",
       "      <td>Male</td>\n",
       "      <td>Self</td>\n",
       "      <td>1957-01-31</td>\n",
       "      <td>[h81.1, z01.9, z96.1, j02.9, h40.9, e11, i25, ...</td>\n",
       "      <td>True</td>\n",
       "      <td>365</td>\n",
       "      <td>17</td>\n",
       "      <td>130</td>\n",
       "      <td>365</td>\n",
       "      <td>66</td>\n",
       "      <td>21</td>\n",
       "      <td>True</td>\n",
       "    </tr>\n",
       "    <tr>\n",
       "      <th>...</th>\n",
       "      <td>...</td>\n",
       "      <td>...</td>\n",
       "      <td>...</td>\n",
       "      <td>...</td>\n",
       "      <td>...</td>\n",
       "      <td>...</td>\n",
       "      <td>...</td>\n",
       "      <td>...</td>\n",
       "      <td>...</td>\n",
       "      <td>...</td>\n",
       "      <td>...</td>\n",
       "      <td>...</td>\n",
       "      <td>...</td>\n",
       "      <td>...</td>\n",
       "    </tr>\n",
       "    <tr>\n",
       "      <th>2435833</th>\n",
       "      <td>Network-2</td>\n",
       "      <td>Saudi</td>\n",
       "      <td>Male</td>\n",
       "      <td>Child</td>\n",
       "      <td>2019-07-23</td>\n",
       "      <td>[t16, j00, j03]</td>\n",
       "      <td>True</td>\n",
       "      <td>365</td>\n",
       "      <td>3</td>\n",
       "      <td>6</td>\n",
       "      <td>365</td>\n",
       "      <td>4</td>\n",
       "      <td>3</td>\n",
       "      <td>True</td>\n",
       "    </tr>\n",
       "    <tr>\n",
       "      <th>2437475</th>\n",
       "      <td>Network-2</td>\n",
       "      <td>Saudi</td>\n",
       "      <td>Female</td>\n",
       "      <td>Spouse</td>\n",
       "      <td>1995-12-21</td>\n",
       "      <td>[r07.4, d64, n93, n97, n93.9, e28, j02, j34, r...</td>\n",
       "      <td>True</td>\n",
       "      <td>365</td>\n",
       "      <td>14</td>\n",
       "      <td>38</td>\n",
       "      <td>365</td>\n",
       "      <td>28</td>\n",
       "      <td>10</td>\n",
       "      <td>True</td>\n",
       "    </tr>\n",
       "    <tr>\n",
       "      <th>3147918</th>\n",
       "      <td>Network-2</td>\n",
       "      <td>Saudi</td>\n",
       "      <td>Female</td>\n",
       "      <td>Child</td>\n",
       "      <td>2020-11-26</td>\n",
       "      <td>[z27.9, j20, k90.4, t78.4, r69, k59.0, j02.9, ...</td>\n",
       "      <td>True</td>\n",
       "      <td>365</td>\n",
       "      <td>8</td>\n",
       "      <td>33</td>\n",
       "      <td>365</td>\n",
       "      <td>3</td>\n",
       "      <td>14</td>\n",
       "      <td>True</td>\n",
       "    </tr>\n",
       "    <tr>\n",
       "      <th>1414692</th>\n",
       "      <td>Network-2</td>\n",
       "      <td>Saudi</td>\n",
       "      <td>Female</td>\n",
       "      <td>Self</td>\n",
       "      <td>1960-12-19</td>\n",
       "      <td>[h01.0, r14, r10.1, l20, d50, e13.9, k29.70, m...</td>\n",
       "      <td>False</td>\n",
       "      <td>365</td>\n",
       "      <td>10</td>\n",
       "      <td>45</td>\n",
       "      <td>365</td>\n",
       "      <td>63</td>\n",
       "      <td>23</td>\n",
       "      <td>True</td>\n",
       "    </tr>\n",
       "    <tr>\n",
       "      <th>1382608</th>\n",
       "      <td>Network-2</td>\n",
       "      <td>Saudi</td>\n",
       "      <td>Male</td>\n",
       "      <td>Self</td>\n",
       "      <td>1991-08-23</td>\n",
       "      <td>[z10.1, z10.8]</td>\n",
       "      <td>False</td>\n",
       "      <td>365</td>\n",
       "      <td>1</td>\n",
       "      <td>1</td>\n",
       "      <td>365</td>\n",
       "      <td>32</td>\n",
       "      <td>2</td>\n",
       "      <td>True</td>\n",
       "    </tr>\n",
       "  </tbody>\n",
       "</table>\n",
       "<p>39998 rows × 14 columns</p>\n",
       "</div>"
      ],
      "text/plain": [
       "            insured_network nationality  gender relation        dob  \\\n",
       "insured_pin                                                           \n",
       "1489111           Network-2       Saudi  Female     Self 1946-05-31   \n",
       "1504934           Network-2       Saudi    Male     Self 1959-12-30   \n",
       "1531337           Network-2       Saudi    Male    Child 2006-11-23   \n",
       "1408159           Network-2       Saudi    Male     Self 1994-08-27   \n",
       "1522775           Network-2       Saudi    Male     Self 1957-01-31   \n",
       "...                     ...         ...     ...      ...        ...   \n",
       "2435833           Network-2       Saudi    Male    Child 2019-07-23   \n",
       "2437475           Network-2       Saudi  Female   Spouse 1995-12-21   \n",
       "3147918           Network-2       Saudi  Female    Child 2020-11-26   \n",
       "1414692           Network-2       Saudi  Female     Self 1960-12-19   \n",
       "1382608           Network-2       Saudi    Male     Self 1991-08-23   \n",
       "\n",
       "                                                     diagnoses  \\\n",
       "insured_pin                                                      \n",
       "1489111                                         [no_diagnoses]   \n",
       "1504934                                         [no_diagnoses]   \n",
       "1531337                                         [no_diagnoses]   \n",
       "1408159                          [j06.9, r10.4, h60, r31, n23]   \n",
       "1522775      [h81.1, z01.9, z96.1, j02.9, h40.9, e11, i25, ...   \n",
       "...                                                        ...   \n",
       "2435833                                        [t16, j00, j03]   \n",
       "2437475      [r07.4, d64, n93, n97, n93.9, e28, j02, j34, r...   \n",
       "3147918      [z27.9, j20, k90.4, t78.4, r69, k59.0, j02.9, ...   \n",
       "1414692      [h01.0, r14, r10.1, l20, d50, e13.9, k29.70, m...   \n",
       "1382608                                         [z10.1, z10.8]   \n",
       "\n",
       "             has_chronic_disease  exposition_22  number_of_visits_22  \\\n",
       "insured_pin                                                            \n",
       "1489111                    False            365                    0   \n",
       "1504934                    False            365                    0   \n",
       "1531337                    False            365                    0   \n",
       "1408159                     True            365                    4   \n",
       "1522775                     True            365                   17   \n",
       "...                          ...            ...                  ...   \n",
       "2435833                     True            365                    3   \n",
       "2437475                     True            365                   14   \n",
       "3147918                     True            365                    8   \n",
       "1414692                    False            365                   10   \n",
       "1382608                    False            365                    1   \n",
       "\n",
       "             number_of_services_22  exposition_23  age  diagnoses_counts  \\\n",
       "insured_pin                                                                \n",
       "1489111                          0            365   77                 0   \n",
       "1504934                          0             78   64                 0   \n",
       "1531337                          0            365   17                 0   \n",
       "1408159                         30            365   29                 5   \n",
       "1522775                        130            365   66                21   \n",
       "...                            ...            ...  ...               ...   \n",
       "2435833                          6            365    4                 3   \n",
       "2437475                         38            365   28                10   \n",
       "3147918                         33            365    3                14   \n",
       "1414692                         45            365   63                23   \n",
       "1382608                          1            365   32                 2   \n",
       "\n",
       "             exposition_23_full  \n",
       "insured_pin                      \n",
       "1489111                    True  \n",
       "1504934                   False  \n",
       "1531337                    True  \n",
       "1408159                    True  \n",
       "1522775                    True  \n",
       "...                         ...  \n",
       "2435833                    True  \n",
       "2437475                    True  \n",
       "3147918                    True  \n",
       "1414692                    True  \n",
       "1382608                    True  \n",
       "\n",
       "[39998 rows x 14 columns]"
      ]
     },
     "execution_count": 94,
     "metadata": {},
     "output_type": "execute_result"
    }
   ],
   "source": [
    "feat_train"
   ]
  },
  {
   "cell_type": "markdown",
   "metadata": {},
   "source": [
    "## 8. <a id='toc8_'></a>[Обработка признаков](#toc0_)"
   ]
  },
  {
   "cell_type": "markdown",
   "metadata": {},
   "source": [
    "### 8.1. <a id='toc8_1_'></a>[Введение](#toc0_)"
   ]
  },
  {
   "cell_type": "code",
   "execution_count": 95,
   "metadata": {},
   "outputs": [],
   "source": [
    "feat_train_backup = feat_train.copy()\n",
    "feat_test_backup = feat_test.copy()\n",
    "feat_holdout_backup = feat_holdout.copy()"
   ]
  },
  {
   "cell_type": "markdown",
   "metadata": {},
   "source": [
    "Бекапы выше позволяют начать процесс обработки признаков заново не перезапуская тетрадь.\n",
    "\n",
    "Решения в этом разделе во многом принимались экспериментальным образом. Ради краткости большинство экспериментов не показаны, но я опишу часть из них и заключения к которым пришёл.\n",
    "\n",
    "Для проверки различных конфигураций признаков я использовал базовые версии LGBM, XGB and LinearRegression моделей, с функциями `cross_val_mean`and\n",
    "`eval_baseline` определёнными в разделе МО для оценки времени и результатов.\n",
    "\n",
    "1. Ряд признаков (`exposition_22, diagnoses_counts, number_of_services_22, insured_network, nationality, gender, relation`) имеет весьма низкое значение для качества модели, из-за пользы других, но они чуть-чуть улучшают её, не вижу чётких причин их отбрасывать, за исключением переобучения и ресурсоёмкости. Первое можно проверить на `test`, второе зависит от условий работы.\n",
    "\n",
    "2. Для `diagnoses` Я пробовал CountVectorizer(), TfidfVectorizer(), не использовать его вовсе, и включать в добавок к заболеваниям их пары (все а не только N-граммы). Вопреки моим ожиданием простой `CountVectorizer` показал лучший результат, хоть и с небольшим преимуществом.\n",
    "\n",
    "3. Scaler оказался не нужен - линейная регрессия не лучшая модель здесь, и не используется для интерпретации, остальные хорошо справляются без него. Сохранён в выключенном виде на всякий случай и для простоты доступа ко входным категориям `coulumn_transfer`. По той же причине мультиколлинеарность игнорируется."
   ]
  },
  {
   "cell_type": "markdown",
   "metadata": {},
   "source": [
    "### 8.2. <a id='toc8_2_'></a>[Выбор признаков](#toc0_)"
   ]
  },
  {
   "cell_type": "raw",
   "metadata": {
    "scrolled": false
   },
   "source": [
    "feat_train = feat_train_backup.copy()\n",
    "feat_test = feat_test_backup.copy()\n",
    "feat_holdout = feat_holdout_backup.copy()\n",
    "\n",
    "selected_features = ['insured_network',\n",
    "                     'nationality',\n",
    "                     'gender',\n",
    "                     'relation',\n",
    "                     #'dob',\n",
    "                     'diagnoses',\n",
    "                     'has_chronic_disease',\n",
    "                     'exposition_22',\n",
    "                     'number_of_visits_22',\n",
    "                     'number_of_services_22',\n",
    "                     'exposition_23',\n",
    "                     'age',\n",
    "                     'diagnoses_counts',\n",
    "                     #'exposition_23_full'\n",
    "                    ]\n",
    "\n",
    "feat_train = feat_train[selected_features]\n",
    "feat_test = feat_test[selected_features]\n",
    "feat_holdout = feat_holdout[selected_features]"
   ]
  },
  {
   "cell_type": "markdown",
   "metadata": {},
   "source": [
    "**Вывод:** `exposition_23_full` не оправдала себя. Удаление `exposition_22, diagnoses_counts, number_of_services_22, insured_network, nationality, gender, relation` имеет маленькое негативное влияние на MSE, но тем не менее негативное.\n"
   ]
  },
  {
   "cell_type": "markdown",
   "metadata": {},
   "source": [
    "### 8.3. <a id='toc8_3_'></a>[Обзор](#toc0_)"
   ]
  },
  {
   "cell_type": "code",
   "execution_count": 96,
   "metadata": {
    "scrolled": false
   },
   "outputs": [
    {
     "name": "stdout",
     "output_type": "stream",
     "text": [
      "<class 'pandas.core.frame.DataFrame'>\n",
      "Int64Index: 39998 entries, 1489111 to 1382608\n",
      "Data columns (total 14 columns):\n",
      " #   Column                 Non-Null Count  Dtype         \n",
      "---  ------                 --------------  -----         \n",
      " 0   insured_network        39998 non-null  category      \n",
      " 1   nationality            39998 non-null  category      \n",
      " 2   gender                 39998 non-null  category      \n",
      " 3   relation               39998 non-null  category      \n",
      " 4   dob                    39998 non-null  datetime64[ns]\n",
      " 5   diagnoses              39998 non-null  object        \n",
      " 6   has_chronic_disease    39998 non-null  bool          \n",
      " 7   exposition_22          39998 non-null  int64         \n",
      " 8   number_of_visits_22    39998 non-null  int64         \n",
      " 9   number_of_services_22  39998 non-null  int64         \n",
      " 10  exposition_23          39998 non-null  int64         \n",
      " 11  age                    39998 non-null  int64         \n",
      " 12  diagnoses_counts       39998 non-null  int64         \n",
      " 13  exposition_23_full     39998 non-null  bool          \n",
      "dtypes: bool(2), category(4), datetime64[ns](1), int64(6), object(1)\n",
      "memory usage: 3.0+ MB\n"
     ]
    }
   ],
   "source": [
    "feat_train.info()"
   ]
  },
  {
   "cell_type": "code",
   "execution_count": 97,
   "metadata": {
    "scrolled": true
   },
   "outputs": [
    {
     "data": {
      "text/html": [
       "<div>\n",
       "<style scoped>\n",
       "    .dataframe tbody tr th:only-of-type {\n",
       "        vertical-align: middle;\n",
       "    }\n",
       "\n",
       "    .dataframe tbody tr th {\n",
       "        vertical-align: top;\n",
       "    }\n",
       "\n",
       "    .dataframe thead th {\n",
       "        text-align: right;\n",
       "    }\n",
       "</style>\n",
       "<table border=\"1\" class=\"dataframe\">\n",
       "  <thead>\n",
       "    <tr style=\"text-align: right;\">\n",
       "      <th></th>\n",
       "      <th>insured_network</th>\n",
       "      <th>nationality</th>\n",
       "      <th>gender</th>\n",
       "      <th>relation</th>\n",
       "      <th>dob</th>\n",
       "      <th>diagnoses</th>\n",
       "      <th>has_chronic_disease</th>\n",
       "      <th>exposition_22</th>\n",
       "      <th>number_of_visits_22</th>\n",
       "      <th>number_of_services_22</th>\n",
       "      <th>exposition_23</th>\n",
       "      <th>age</th>\n",
       "      <th>diagnoses_counts</th>\n",
       "      <th>exposition_23_full</th>\n",
       "    </tr>\n",
       "    <tr>\n",
       "      <th>insured_pin</th>\n",
       "      <th></th>\n",
       "      <th></th>\n",
       "      <th></th>\n",
       "      <th></th>\n",
       "      <th></th>\n",
       "      <th></th>\n",
       "      <th></th>\n",
       "      <th></th>\n",
       "      <th></th>\n",
       "      <th></th>\n",
       "      <th></th>\n",
       "      <th></th>\n",
       "      <th></th>\n",
       "      <th></th>\n",
       "    </tr>\n",
       "  </thead>\n",
       "  <tbody>\n",
       "    <tr>\n",
       "      <th>1489111</th>\n",
       "      <td>Network-2</td>\n",
       "      <td>Saudi</td>\n",
       "      <td>Female</td>\n",
       "      <td>Self</td>\n",
       "      <td>1946-05-31</td>\n",
       "      <td>[no_diagnoses]</td>\n",
       "      <td>False</td>\n",
       "      <td>365</td>\n",
       "      <td>0</td>\n",
       "      <td>0</td>\n",
       "      <td>365</td>\n",
       "      <td>77</td>\n",
       "      <td>0</td>\n",
       "      <td>True</td>\n",
       "    </tr>\n",
       "    <tr>\n",
       "      <th>1504934</th>\n",
       "      <td>Network-2</td>\n",
       "      <td>Saudi</td>\n",
       "      <td>Male</td>\n",
       "      <td>Self</td>\n",
       "      <td>1959-12-30</td>\n",
       "      <td>[no_diagnoses]</td>\n",
       "      <td>False</td>\n",
       "      <td>365</td>\n",
       "      <td>0</td>\n",
       "      <td>0</td>\n",
       "      <td>78</td>\n",
       "      <td>64</td>\n",
       "      <td>0</td>\n",
       "      <td>False</td>\n",
       "    </tr>\n",
       "    <tr>\n",
       "      <th>1531337</th>\n",
       "      <td>Network-2</td>\n",
       "      <td>Saudi</td>\n",
       "      <td>Male</td>\n",
       "      <td>Child</td>\n",
       "      <td>2006-11-23</td>\n",
       "      <td>[no_diagnoses]</td>\n",
       "      <td>False</td>\n",
       "      <td>365</td>\n",
       "      <td>0</td>\n",
       "      <td>0</td>\n",
       "      <td>365</td>\n",
       "      <td>17</td>\n",
       "      <td>0</td>\n",
       "      <td>True</td>\n",
       "    </tr>\n",
       "    <tr>\n",
       "      <th>1408159</th>\n",
       "      <td>Network-2</td>\n",
       "      <td>Saudi</td>\n",
       "      <td>Male</td>\n",
       "      <td>Self</td>\n",
       "      <td>1994-08-27</td>\n",
       "      <td>[j06.9, r10.4, h60, r31, n23]</td>\n",
       "      <td>True</td>\n",
       "      <td>365</td>\n",
       "      <td>4</td>\n",
       "      <td>30</td>\n",
       "      <td>365</td>\n",
       "      <td>29</td>\n",
       "      <td>5</td>\n",
       "      <td>True</td>\n",
       "    </tr>\n",
       "    <tr>\n",
       "      <th>1522775</th>\n",
       "      <td>Network-2</td>\n",
       "      <td>Saudi</td>\n",
       "      <td>Male</td>\n",
       "      <td>Self</td>\n",
       "      <td>1957-01-31</td>\n",
       "      <td>[h81.1, z01.9, z96.1, j02.9, h40.9, e11, i25, ...</td>\n",
       "      <td>True</td>\n",
       "      <td>365</td>\n",
       "      <td>17</td>\n",
       "      <td>130</td>\n",
       "      <td>365</td>\n",
       "      <td>66</td>\n",
       "      <td>21</td>\n",
       "      <td>True</td>\n",
       "    </tr>\n",
       "    <tr>\n",
       "      <th>...</th>\n",
       "      <td>...</td>\n",
       "      <td>...</td>\n",
       "      <td>...</td>\n",
       "      <td>...</td>\n",
       "      <td>...</td>\n",
       "      <td>...</td>\n",
       "      <td>...</td>\n",
       "      <td>...</td>\n",
       "      <td>...</td>\n",
       "      <td>...</td>\n",
       "      <td>...</td>\n",
       "      <td>...</td>\n",
       "      <td>...</td>\n",
       "      <td>...</td>\n",
       "    </tr>\n",
       "    <tr>\n",
       "      <th>2435833</th>\n",
       "      <td>Network-2</td>\n",
       "      <td>Saudi</td>\n",
       "      <td>Male</td>\n",
       "      <td>Child</td>\n",
       "      <td>2019-07-23</td>\n",
       "      <td>[t16, j00, j03]</td>\n",
       "      <td>True</td>\n",
       "      <td>365</td>\n",
       "      <td>3</td>\n",
       "      <td>6</td>\n",
       "      <td>365</td>\n",
       "      <td>4</td>\n",
       "      <td>3</td>\n",
       "      <td>True</td>\n",
       "    </tr>\n",
       "    <tr>\n",
       "      <th>2437475</th>\n",
       "      <td>Network-2</td>\n",
       "      <td>Saudi</td>\n",
       "      <td>Female</td>\n",
       "      <td>Spouse</td>\n",
       "      <td>1995-12-21</td>\n",
       "      <td>[r07.4, d64, n93, n97, n93.9, e28, j02, j34, r...</td>\n",
       "      <td>True</td>\n",
       "      <td>365</td>\n",
       "      <td>14</td>\n",
       "      <td>38</td>\n",
       "      <td>365</td>\n",
       "      <td>28</td>\n",
       "      <td>10</td>\n",
       "      <td>True</td>\n",
       "    </tr>\n",
       "    <tr>\n",
       "      <th>3147918</th>\n",
       "      <td>Network-2</td>\n",
       "      <td>Saudi</td>\n",
       "      <td>Female</td>\n",
       "      <td>Child</td>\n",
       "      <td>2020-11-26</td>\n",
       "      <td>[z27.9, j20, k90.4, t78.4, r69, k59.0, j02.9, ...</td>\n",
       "      <td>True</td>\n",
       "      <td>365</td>\n",
       "      <td>8</td>\n",
       "      <td>33</td>\n",
       "      <td>365</td>\n",
       "      <td>3</td>\n",
       "      <td>14</td>\n",
       "      <td>True</td>\n",
       "    </tr>\n",
       "    <tr>\n",
       "      <th>1414692</th>\n",
       "      <td>Network-2</td>\n",
       "      <td>Saudi</td>\n",
       "      <td>Female</td>\n",
       "      <td>Self</td>\n",
       "      <td>1960-12-19</td>\n",
       "      <td>[h01.0, r14, r10.1, l20, d50, e13.9, k29.70, m...</td>\n",
       "      <td>False</td>\n",
       "      <td>365</td>\n",
       "      <td>10</td>\n",
       "      <td>45</td>\n",
       "      <td>365</td>\n",
       "      <td>63</td>\n",
       "      <td>23</td>\n",
       "      <td>True</td>\n",
       "    </tr>\n",
       "    <tr>\n",
       "      <th>1382608</th>\n",
       "      <td>Network-2</td>\n",
       "      <td>Saudi</td>\n",
       "      <td>Male</td>\n",
       "      <td>Self</td>\n",
       "      <td>1991-08-23</td>\n",
       "      <td>[z10.1, z10.8]</td>\n",
       "      <td>False</td>\n",
       "      <td>365</td>\n",
       "      <td>1</td>\n",
       "      <td>1</td>\n",
       "      <td>365</td>\n",
       "      <td>32</td>\n",
       "      <td>2</td>\n",
       "      <td>True</td>\n",
       "    </tr>\n",
       "  </tbody>\n",
       "</table>\n",
       "<p>39998 rows × 14 columns</p>\n",
       "</div>"
      ],
      "text/plain": [
       "            insured_network nationality  gender relation        dob  \\\n",
       "insured_pin                                                           \n",
       "1489111           Network-2       Saudi  Female     Self 1946-05-31   \n",
       "1504934           Network-2       Saudi    Male     Self 1959-12-30   \n",
       "1531337           Network-2       Saudi    Male    Child 2006-11-23   \n",
       "1408159           Network-2       Saudi    Male     Self 1994-08-27   \n",
       "1522775           Network-2       Saudi    Male     Self 1957-01-31   \n",
       "...                     ...         ...     ...      ...        ...   \n",
       "2435833           Network-2       Saudi    Male    Child 2019-07-23   \n",
       "2437475           Network-2       Saudi  Female   Spouse 1995-12-21   \n",
       "3147918           Network-2       Saudi  Female    Child 2020-11-26   \n",
       "1414692           Network-2       Saudi  Female     Self 1960-12-19   \n",
       "1382608           Network-2       Saudi    Male     Self 1991-08-23   \n",
       "\n",
       "                                                     diagnoses  \\\n",
       "insured_pin                                                      \n",
       "1489111                                         [no_diagnoses]   \n",
       "1504934                                         [no_diagnoses]   \n",
       "1531337                                         [no_diagnoses]   \n",
       "1408159                          [j06.9, r10.4, h60, r31, n23]   \n",
       "1522775      [h81.1, z01.9, z96.1, j02.9, h40.9, e11, i25, ...   \n",
       "...                                                        ...   \n",
       "2435833                                        [t16, j00, j03]   \n",
       "2437475      [r07.4, d64, n93, n97, n93.9, e28, j02, j34, r...   \n",
       "3147918      [z27.9, j20, k90.4, t78.4, r69, k59.0, j02.9, ...   \n",
       "1414692      [h01.0, r14, r10.1, l20, d50, e13.9, k29.70, m...   \n",
       "1382608                                         [z10.1, z10.8]   \n",
       "\n",
       "             has_chronic_disease  exposition_22  number_of_visits_22  \\\n",
       "insured_pin                                                            \n",
       "1489111                    False            365                    0   \n",
       "1504934                    False            365                    0   \n",
       "1531337                    False            365                    0   \n",
       "1408159                     True            365                    4   \n",
       "1522775                     True            365                   17   \n",
       "...                          ...            ...                  ...   \n",
       "2435833                     True            365                    3   \n",
       "2437475                     True            365                   14   \n",
       "3147918                     True            365                    8   \n",
       "1414692                    False            365                   10   \n",
       "1382608                    False            365                    1   \n",
       "\n",
       "             number_of_services_22  exposition_23  age  diagnoses_counts  \\\n",
       "insured_pin                                                                \n",
       "1489111                          0            365   77                 0   \n",
       "1504934                          0             78   64                 0   \n",
       "1531337                          0            365   17                 0   \n",
       "1408159                         30            365   29                 5   \n",
       "1522775                        130            365   66                21   \n",
       "...                            ...            ...  ...               ...   \n",
       "2435833                          6            365    4                 3   \n",
       "2437475                         38            365   28                10   \n",
       "3147918                         33            365    3                14   \n",
       "1414692                         45            365   63                23   \n",
       "1382608                          1            365   32                 2   \n",
       "\n",
       "             exposition_23_full  \n",
       "insured_pin                      \n",
       "1489111                    True  \n",
       "1504934                   False  \n",
       "1531337                    True  \n",
       "1408159                    True  \n",
       "1522775                    True  \n",
       "...                         ...  \n",
       "2435833                    True  \n",
       "2437475                    True  \n",
       "3147918                    True  \n",
       "1414692                    True  \n",
       "1382608                    True  \n",
       "\n",
       "[39998 rows x 14 columns]"
      ]
     },
     "execution_count": 97,
     "metadata": {},
     "output_type": "execute_result"
    }
   ],
   "source": [
    "feat_train"
   ]
  },
  {
   "cell_type": "markdown",
   "metadata": {},
   "source": [
    "**Вывод:** Осталось четыре группы признаков - категориальные, булевы, целые и `object` - диагнозы.\n",
    "\n",
    "Каждая потребует слегка разный подход. Сначала отдельно настроим трансформаторы, потом воспользуемся `ColunmnTransformers` для их объединения."
   ]
  },
  {
   "cell_type": "markdown",
   "metadata": {},
   "source": [
    "### 8.4. <a id='toc8_4_'></a>[Целочисленные - StandardScaler](#toc0_)"
   ]
  },
  {
   "cell_type": "code",
   "execution_count": 98,
   "metadata": {
    "scrolled": true
   },
   "outputs": [
    {
     "data": {
      "text/plain": [
       "Index(['exposition_22', 'number_of_visits_22', 'number_of_services_22',\n",
       "       'exposition_23', 'age', 'diagnoses_counts'],\n",
       "      dtype='object')"
      ]
     },
     "execution_count": 98,
     "metadata": {},
     "output_type": "execute_result"
    }
   ],
   "source": [
    "int_features = feat_train.select_dtypes('int64').columns\n",
    "int_features"
   ]
  },
  {
   "cell_type": "code",
   "execution_count": 99,
   "metadata": {
    "scrolled": true
   },
   "outputs": [
    {
     "data": {
      "text/plain": [
       "array([[365.,   0.,   0., 365.,  77.,   0.],\n",
       "       [365.,   0.,   0.,  78.,  64.,   0.],\n",
       "       [365.,   0.,   0., 365.,  17.,   0.],\n",
       "       ...,\n",
       "       [365.,   8.,  33., 365.,   3.,  14.],\n",
       "       [365.,  10.,  45., 365.,  63.,  23.],\n",
       "       [365.,   1.,   1., 365.,  32.,   2.]])"
      ]
     },
     "execution_count": 99,
     "metadata": {},
     "output_type": "execute_result"
    }
   ],
   "source": [
    "# testing and display purposes only\n",
    "s_scaler = StandardScaler(with_mean=False, with_std=False)\n",
    "s_scaler.fit(feat_train[int_features])\n",
    "s_scaler.transform(feat_train[int_features])"
   ]
  },
  {
   "cell_type": "markdown",
   "metadata": {},
   "source": [
    "**Вывод:** С выключенными средним и стандартным отклонением модель служит заглушкой."
   ]
  },
  {
   "cell_type": "markdown",
   "metadata": {},
   "source": [
    "### 8.5. <a id='toc8_5_'></a>[Категореальные - OHE](#toc0_)"
   ]
  },
  {
   "cell_type": "code",
   "execution_count": 100,
   "metadata": {},
   "outputs": [],
   "source": [
    "MIN_FREQ = .015\n",
    "\n",
    "#MAX_CATEG = 3\n",
    "\n",
    "# display(feat_train.insured_network.value_counts(normalize=True))\n",
    "# Network-1    0.028476\n",
    "# Network-4    0.019326\n",
    "# Network-5    0.011426\n",
    "\n",
    "# display(feat_train.relation.value_counts(normalize=True))\n",
    "# Child     0.392270\n",
    "# Spouse    0.168958\n",
    "\n",
    "# display(feat_train.nationality.value_counts(normalize=True))\n",
    "# Group 2    0.027826\n",
    "# Group 3    0.022176"
   ]
  },
  {
   "cell_type": "code",
   "execution_count": 101,
   "metadata": {
    "scrolled": false
   },
   "outputs": [
    {
     "data": {
      "text/plain": [
       "Index(['insured_network', 'nationality', 'gender', 'relation'], dtype='object')"
      ]
     },
     "execution_count": 101,
     "metadata": {},
     "output_type": "execute_result"
    }
   ],
   "source": [
    "categorical_features = feat_train.select_dtypes('category').columns\n",
    "categorical_features"
   ]
  },
  {
   "cell_type": "code",
   "execution_count": 102,
   "metadata": {
    "scrolled": true
   },
   "outputs": [
    {
     "data": {
      "text/plain": [
       "{'insured_network': 'Network-2',\n",
       " 'nationality': 'Saudi',\n",
       " 'gender': 'Male',\n",
       " 'relation': 'Self'}"
      ]
     },
     "execution_count": 102,
     "metadata": {},
     "output_type": "execute_result"
    }
   ],
   "source": [
    "freq_cat_dict = dict(zip(\n",
    "    feat_train.select_dtypes('category').columns,\n",
    "    [feat_train[x].value_counts().head(1).index[0] for x in feat_test.select_dtypes('category').columns] # most frequent\n",
    "))\n",
    "freq_cat_dict"
   ]
  },
  {
   "cell_type": "code",
   "execution_count": 103,
   "metadata": {},
   "outputs": [
    {
     "data": {
      "text/plain": [
       "['Network-2', 'Saudi', 'Male', 'Self']"
      ]
     },
     "execution_count": 103,
     "metadata": {},
     "output_type": "execute_result"
    }
   ],
   "source": [
    "freq_categories = [freq_cat_dict[x] for x in categorical_features]\n",
    "freq_categories"
   ]
  },
  {
   "cell_type": "code",
   "execution_count": 104,
   "metadata": {},
   "outputs": [
    {
     "data": {
      "text/plain": [
       "<39998x10 sparse matrix of type '<class 'numpy.float64'>'\n",
       "\twith 47383 stored elements in Compressed Sparse Row format>"
      ]
     },
     "execution_count": 104,
     "metadata": {},
     "output_type": "execute_result"
    }
   ],
   "source": [
    "# testing and display purposes only\n",
    "ohe = OneHotEncoder(\n",
    "    handle_unknown='infrequent_if_exist',\n",
    "    drop=freq_categories,\n",
    "    min_frequency=MIN_FREQ\n",
    ")\n",
    "ohe.fit(feat_train[categorical_features])\n",
    "ohe.transform(feat_train[categorical_features])"
   ]
  },
  {
   "cell_type": "code",
   "execution_count": 105,
   "metadata": {
    "scrolled": true
   },
   "outputs": [
    {
     "data": {
      "text/plain": [
       "[array(['Network-1', 'Network-2', 'Network-3', 'Network-4', 'Network-5',\n",
       "        'Network-6', 'Network-7', 'Network-8'], dtype=object),\n",
       " array(['Group 1', 'Group 2', 'Group 3', 'Group 4', 'Others', 'Saudi'],\n",
       "       dtype=object),\n",
       " array(['Female', 'Male'], dtype=object),\n",
       " array(['Child', 'Other', 'Parent', 'Self', 'Spouse'], dtype=object)]"
      ]
     },
     "execution_count": 105,
     "metadata": {},
     "output_type": "execute_result"
    }
   ],
   "source": [
    "ohe.categories_"
   ]
  },
  {
   "cell_type": "code",
   "execution_count": 106,
   "metadata": {
    "scrolled": false
   },
   "outputs": [
    {
     "data": {
      "text/plain": [
       "[array(['Network-3', 'Network-5', 'Network-6', 'Network-7', 'Network-8'],\n",
       "       dtype=object),\n",
       " array(['Group 1', 'Group 4', 'Others'], dtype=object),\n",
       " None,\n",
       " array(['Other', 'Parent'], dtype=object)]"
      ]
     },
     "execution_count": 106,
     "metadata": {},
     "output_type": "execute_result"
    }
   ],
   "source": [
    "ohe.infrequent_categories_"
   ]
  },
  {
   "cell_type": "markdown",
   "metadata": {},
   "source": [
    "**Вывод:** Закодированы признаки с OHE, отброшены наиболее частые, оставляя их \"по умолчанию\". Установлена `min_frequency` для группировки самых малочисленных категорий. Значения по-прежнему маленькие, но по крайней мене должно уменьшить шансы переобучения."
   ]
  },
  {
   "cell_type": "markdown",
   "metadata": {},
   "source": [
    "### 8.6. <a id='toc8_6_'></a>[Диагнозы - CountVectorizer](#toc0_)"
   ]
  },
  {
   "cell_type": "code",
   "execution_count": 107,
   "metadata": {},
   "outputs": [],
   "source": [
    "def dummy_analyzer(tokens:list):\n",
    "    return tokens"
   ]
  },
  {
   "cell_type": "code",
   "execution_count": 108,
   "metadata": {
    "scrolled": false
   },
   "outputs": [
    {
     "data": {
      "text/plain": [
       "<39998x5810 sparse matrix of type '<class 'numpy.int64'>'\n",
       "\twith 233645 stored elements in Compressed Sparse Row format>"
      ]
     },
     "execution_count": 108,
     "metadata": {},
     "output_type": "execute_result"
    }
   ],
   "source": [
    "tf_idf = CountVectorizer(\n",
    "    binary=True,\n",
    "    analyzer=dummy_analyzer\n",
    ")\n",
    "\n",
    "tf_idf.fit(feat_train.diagnoses)\n",
    "tf_idf.transform(feat_train.diagnoses)"
   ]
  },
  {
   "cell_type": "markdown",
   "metadata": {},
   "source": [
    "**Вывод:** Вопреки размерам, разряженная матрица позволяет довольно быструю обработку, `dummy_analyzer` использован чтобы пропустить токенизацию, т.к. данные уже разбиты на токены. `CountVectorizer` в бинарном режиме показывает результаты чуть лучше чем TF-IDF, скорее всего из-за того что TF-IDF всё равно константа для каждого токена, вне зависимости от строки."
   ]
  },
  {
   "cell_type": "markdown",
   "metadata": {},
   "source": [
    "### 8.7. <a id='toc8_7_'></a>[DataFrame - ColumnTransformer](#toc0_)"
   ]
  },
  {
   "cell_type": "code",
   "execution_count": 109,
   "metadata": {
    "scrolled": true
   },
   "outputs": [
    {
     "data": {
      "text/html": [
       "<style>#sk-container-id-1 {\n",
       "  /* Definition of color scheme common for light and dark mode */\n",
       "  --sklearn-color-text: black;\n",
       "  --sklearn-color-line: gray;\n",
       "  /* Definition of color scheme for unfitted estimators */\n",
       "  --sklearn-color-unfitted-level-0: #fff5e6;\n",
       "  --sklearn-color-unfitted-level-1: #f6e4d2;\n",
       "  --sklearn-color-unfitted-level-2: #ffe0b3;\n",
       "  --sklearn-color-unfitted-level-3: chocolate;\n",
       "  /* Definition of color scheme for fitted estimators */\n",
       "  --sklearn-color-fitted-level-0: #f0f8ff;\n",
       "  --sklearn-color-fitted-level-1: #d4ebff;\n",
       "  --sklearn-color-fitted-level-2: #b3dbfd;\n",
       "  --sklearn-color-fitted-level-3: cornflowerblue;\n",
       "\n",
       "  /* Specific color for light theme */\n",
       "  --sklearn-color-text-on-default-background: var(--sg-text-color, var(--theme-code-foreground, var(--jp-content-font-color1, black)));\n",
       "  --sklearn-color-background: var(--sg-background-color, var(--theme-background, var(--jp-layout-color0, white)));\n",
       "  --sklearn-color-border-box: var(--sg-text-color, var(--theme-code-foreground, var(--jp-content-font-color1, black)));\n",
       "  --sklearn-color-icon: #696969;\n",
       "\n",
       "  @media (prefers-color-scheme: dark) {\n",
       "    /* Redefinition of color scheme for dark theme */\n",
       "    --sklearn-color-text-on-default-background: var(--sg-text-color, var(--theme-code-foreground, var(--jp-content-font-color1, white)));\n",
       "    --sklearn-color-background: var(--sg-background-color, var(--theme-background, var(--jp-layout-color0, #111)));\n",
       "    --sklearn-color-border-box: var(--sg-text-color, var(--theme-code-foreground, var(--jp-content-font-color1, white)));\n",
       "    --sklearn-color-icon: #878787;\n",
       "  }\n",
       "}\n",
       "\n",
       "#sk-container-id-1 {\n",
       "  color: var(--sklearn-color-text);\n",
       "}\n",
       "\n",
       "#sk-container-id-1 pre {\n",
       "  padding: 0;\n",
       "}\n",
       "\n",
       "#sk-container-id-1 input.sk-hidden--visually {\n",
       "  border: 0;\n",
       "  clip: rect(1px 1px 1px 1px);\n",
       "  clip: rect(1px, 1px, 1px, 1px);\n",
       "  height: 1px;\n",
       "  margin: -1px;\n",
       "  overflow: hidden;\n",
       "  padding: 0;\n",
       "  position: absolute;\n",
       "  width: 1px;\n",
       "}\n",
       "\n",
       "#sk-container-id-1 div.sk-dashed-wrapped {\n",
       "  border: 1px dashed var(--sklearn-color-line);\n",
       "  margin: 0 0.4em 0.5em 0.4em;\n",
       "  box-sizing: border-box;\n",
       "  padding-bottom: 0.4em;\n",
       "  background-color: var(--sklearn-color-background);\n",
       "}\n",
       "\n",
       "#sk-container-id-1 div.sk-container {\n",
       "  /* jupyter's `normalize.less` sets `[hidden] { display: none; }`\n",
       "     but bootstrap.min.css set `[hidden] { display: none !important; }`\n",
       "     so we also need the `!important` here to be able to override the\n",
       "     default hidden behavior on the sphinx rendered scikit-learn.org.\n",
       "     See: https://github.com/scikit-learn/scikit-learn/issues/21755 */\n",
       "  display: inline-block !important;\n",
       "  position: relative;\n",
       "}\n",
       "\n",
       "#sk-container-id-1 div.sk-text-repr-fallback {\n",
       "  display: none;\n",
       "}\n",
       "\n",
       "div.sk-parallel-item,\n",
       "div.sk-serial,\n",
       "div.sk-item {\n",
       "  /* draw centered vertical line to link estimators */\n",
       "  background-image: linear-gradient(var(--sklearn-color-text-on-default-background), var(--sklearn-color-text-on-default-background));\n",
       "  background-size: 2px 100%;\n",
       "  background-repeat: no-repeat;\n",
       "  background-position: center center;\n",
       "}\n",
       "\n",
       "/* Parallel-specific style estimator block */\n",
       "\n",
       "#sk-container-id-1 div.sk-parallel-item::after {\n",
       "  content: \"\";\n",
       "  width: 100%;\n",
       "  border-bottom: 2px solid var(--sklearn-color-text-on-default-background);\n",
       "  flex-grow: 1;\n",
       "}\n",
       "\n",
       "#sk-container-id-1 div.sk-parallel {\n",
       "  display: flex;\n",
       "  align-items: stretch;\n",
       "  justify-content: center;\n",
       "  background-color: var(--sklearn-color-background);\n",
       "  position: relative;\n",
       "}\n",
       "\n",
       "#sk-container-id-1 div.sk-parallel-item {\n",
       "  display: flex;\n",
       "  flex-direction: column;\n",
       "}\n",
       "\n",
       "#sk-container-id-1 div.sk-parallel-item:first-child::after {\n",
       "  align-self: flex-end;\n",
       "  width: 50%;\n",
       "}\n",
       "\n",
       "#sk-container-id-1 div.sk-parallel-item:last-child::after {\n",
       "  align-self: flex-start;\n",
       "  width: 50%;\n",
       "}\n",
       "\n",
       "#sk-container-id-1 div.sk-parallel-item:only-child::after {\n",
       "  width: 0;\n",
       "}\n",
       "\n",
       "/* Serial-specific style estimator block */\n",
       "\n",
       "#sk-container-id-1 div.sk-serial {\n",
       "  display: flex;\n",
       "  flex-direction: column;\n",
       "  align-items: center;\n",
       "  background-color: var(--sklearn-color-background);\n",
       "  padding-right: 1em;\n",
       "  padding-left: 1em;\n",
       "}\n",
       "\n",
       "\n",
       "/* Toggleable style: style used for estimator/Pipeline/ColumnTransformer box that is\n",
       "clickable and can be expanded/collapsed.\n",
       "- Pipeline and ColumnTransformer use this feature and define the default style\n",
       "- Estimators will overwrite some part of the style using the `sk-estimator` class\n",
       "*/\n",
       "\n",
       "/* Pipeline and ColumnTransformer style (default) */\n",
       "\n",
       "#sk-container-id-1 div.sk-toggleable {\n",
       "  /* Default theme specific background. It is overwritten whether we have a\n",
       "  specific estimator or a Pipeline/ColumnTransformer */\n",
       "  background-color: var(--sklearn-color-background);\n",
       "}\n",
       "\n",
       "/* Toggleable label */\n",
       "#sk-container-id-1 label.sk-toggleable__label {\n",
       "  cursor: pointer;\n",
       "  display: block;\n",
       "  width: 100%;\n",
       "  margin-bottom: 0;\n",
       "  padding: 0.5em;\n",
       "  box-sizing: border-box;\n",
       "  text-align: center;\n",
       "}\n",
       "\n",
       "#sk-container-id-1 label.sk-toggleable__label-arrow:before {\n",
       "  /* Arrow on the left of the label */\n",
       "  content: \"▸\";\n",
       "  float: left;\n",
       "  margin-right: 0.25em;\n",
       "  color: var(--sklearn-color-icon);\n",
       "}\n",
       "\n",
       "#sk-container-id-1 label.sk-toggleable__label-arrow:hover:before {\n",
       "  color: var(--sklearn-color-text);\n",
       "}\n",
       "\n",
       "/* Toggleable content - dropdown */\n",
       "\n",
       "#sk-container-id-1 div.sk-toggleable__content {\n",
       "  max-height: 0;\n",
       "  max-width: 0;\n",
       "  overflow: hidden;\n",
       "  text-align: left;\n",
       "  /* unfitted */\n",
       "  background-color: var(--sklearn-color-unfitted-level-0);\n",
       "}\n",
       "\n",
       "#sk-container-id-1 div.sk-toggleable__content.fitted {\n",
       "  /* fitted */\n",
       "  background-color: var(--sklearn-color-fitted-level-0);\n",
       "}\n",
       "\n",
       "#sk-container-id-1 div.sk-toggleable__content pre {\n",
       "  margin: 0.2em;\n",
       "  border-radius: 0.25em;\n",
       "  color: var(--sklearn-color-text);\n",
       "  /* unfitted */\n",
       "  background-color: var(--sklearn-color-unfitted-level-0);\n",
       "}\n",
       "\n",
       "#sk-container-id-1 div.sk-toggleable__content.fitted pre {\n",
       "  /* unfitted */\n",
       "  background-color: var(--sklearn-color-fitted-level-0);\n",
       "}\n",
       "\n",
       "#sk-container-id-1 input.sk-toggleable__control:checked~div.sk-toggleable__content {\n",
       "  /* Expand drop-down */\n",
       "  max-height: 200px;\n",
       "  max-width: 100%;\n",
       "  overflow: auto;\n",
       "}\n",
       "\n",
       "#sk-container-id-1 input.sk-toggleable__control:checked~label.sk-toggleable__label-arrow:before {\n",
       "  content: \"▾\";\n",
       "}\n",
       "\n",
       "/* Pipeline/ColumnTransformer-specific style */\n",
       "\n",
       "#sk-container-id-1 div.sk-label input.sk-toggleable__control:checked~label.sk-toggleable__label {\n",
       "  color: var(--sklearn-color-text);\n",
       "  background-color: var(--sklearn-color-unfitted-level-2);\n",
       "}\n",
       "\n",
       "#sk-container-id-1 div.sk-label.fitted input.sk-toggleable__control:checked~label.sk-toggleable__label {\n",
       "  background-color: var(--sklearn-color-fitted-level-2);\n",
       "}\n",
       "\n",
       "/* Estimator-specific style */\n",
       "\n",
       "/* Colorize estimator box */\n",
       "#sk-container-id-1 div.sk-estimator input.sk-toggleable__control:checked~label.sk-toggleable__label {\n",
       "  /* unfitted */\n",
       "  background-color: var(--sklearn-color-unfitted-level-2);\n",
       "}\n",
       "\n",
       "#sk-container-id-1 div.sk-estimator.fitted input.sk-toggleable__control:checked~label.sk-toggleable__label {\n",
       "  /* fitted */\n",
       "  background-color: var(--sklearn-color-fitted-level-2);\n",
       "}\n",
       "\n",
       "#sk-container-id-1 div.sk-label label.sk-toggleable__label,\n",
       "#sk-container-id-1 div.sk-label label {\n",
       "  /* The background is the default theme color */\n",
       "  color: var(--sklearn-color-text-on-default-background);\n",
       "}\n",
       "\n",
       "/* On hover, darken the color of the background */\n",
       "#sk-container-id-1 div.sk-label:hover label.sk-toggleable__label {\n",
       "  color: var(--sklearn-color-text);\n",
       "  background-color: var(--sklearn-color-unfitted-level-2);\n",
       "}\n",
       "\n",
       "/* Label box, darken color on hover, fitted */\n",
       "#sk-container-id-1 div.sk-label.fitted:hover label.sk-toggleable__label.fitted {\n",
       "  color: var(--sklearn-color-text);\n",
       "  background-color: var(--sklearn-color-fitted-level-2);\n",
       "}\n",
       "\n",
       "/* Estimator label */\n",
       "\n",
       "#sk-container-id-1 div.sk-label label {\n",
       "  font-family: monospace;\n",
       "  font-weight: bold;\n",
       "  display: inline-block;\n",
       "  line-height: 1.2em;\n",
       "}\n",
       "\n",
       "#sk-container-id-1 div.sk-label-container {\n",
       "  text-align: center;\n",
       "}\n",
       "\n",
       "/* Estimator-specific */\n",
       "#sk-container-id-1 div.sk-estimator {\n",
       "  font-family: monospace;\n",
       "  border: 1px dotted var(--sklearn-color-border-box);\n",
       "  border-radius: 0.25em;\n",
       "  box-sizing: border-box;\n",
       "  margin-bottom: 0.5em;\n",
       "  /* unfitted */\n",
       "  background-color: var(--sklearn-color-unfitted-level-0);\n",
       "}\n",
       "\n",
       "#sk-container-id-1 div.sk-estimator.fitted {\n",
       "  /* fitted */\n",
       "  background-color: var(--sklearn-color-fitted-level-0);\n",
       "}\n",
       "\n",
       "/* on hover */\n",
       "#sk-container-id-1 div.sk-estimator:hover {\n",
       "  /* unfitted */\n",
       "  background-color: var(--sklearn-color-unfitted-level-2);\n",
       "}\n",
       "\n",
       "#sk-container-id-1 div.sk-estimator.fitted:hover {\n",
       "  /* fitted */\n",
       "  background-color: var(--sklearn-color-fitted-level-2);\n",
       "}\n",
       "\n",
       "/* Specification for estimator info (e.g. \"i\" and \"?\") */\n",
       "\n",
       "/* Common style for \"i\" and \"?\" */\n",
       "\n",
       ".sk-estimator-doc-link,\n",
       "a:link.sk-estimator-doc-link,\n",
       "a:visited.sk-estimator-doc-link {\n",
       "  float: right;\n",
       "  font-size: smaller;\n",
       "  line-height: 1em;\n",
       "  font-family: monospace;\n",
       "  background-color: var(--sklearn-color-background);\n",
       "  border-radius: 1em;\n",
       "  height: 1em;\n",
       "  width: 1em;\n",
       "  text-decoration: none !important;\n",
       "  margin-left: 1ex;\n",
       "  /* unfitted */\n",
       "  border: var(--sklearn-color-unfitted-level-1) 1pt solid;\n",
       "  color: var(--sklearn-color-unfitted-level-1);\n",
       "}\n",
       "\n",
       ".sk-estimator-doc-link.fitted,\n",
       "a:link.sk-estimator-doc-link.fitted,\n",
       "a:visited.sk-estimator-doc-link.fitted {\n",
       "  /* fitted */\n",
       "  border: var(--sklearn-color-fitted-level-1) 1pt solid;\n",
       "  color: var(--sklearn-color-fitted-level-1);\n",
       "}\n",
       "\n",
       "/* On hover */\n",
       "div.sk-estimator:hover .sk-estimator-doc-link:hover,\n",
       ".sk-estimator-doc-link:hover,\n",
       "div.sk-label-container:hover .sk-estimator-doc-link:hover,\n",
       ".sk-estimator-doc-link:hover {\n",
       "  /* unfitted */\n",
       "  background-color: var(--sklearn-color-unfitted-level-3);\n",
       "  color: var(--sklearn-color-background);\n",
       "  text-decoration: none;\n",
       "}\n",
       "\n",
       "div.sk-estimator.fitted:hover .sk-estimator-doc-link.fitted:hover,\n",
       ".sk-estimator-doc-link.fitted:hover,\n",
       "div.sk-label-container:hover .sk-estimator-doc-link.fitted:hover,\n",
       ".sk-estimator-doc-link.fitted:hover {\n",
       "  /* fitted */\n",
       "  background-color: var(--sklearn-color-fitted-level-3);\n",
       "  color: var(--sklearn-color-background);\n",
       "  text-decoration: none;\n",
       "}\n",
       "\n",
       "/* Span, style for the box shown on hovering the info icon */\n",
       ".sk-estimator-doc-link span {\n",
       "  display: none;\n",
       "  z-index: 9999;\n",
       "  position: relative;\n",
       "  font-weight: normal;\n",
       "  right: .2ex;\n",
       "  padding: .5ex;\n",
       "  margin: .5ex;\n",
       "  width: min-content;\n",
       "  min-width: 20ex;\n",
       "  max-width: 50ex;\n",
       "  color: var(--sklearn-color-text);\n",
       "  box-shadow: 2pt 2pt 4pt #999;\n",
       "  /* unfitted */\n",
       "  background: var(--sklearn-color-unfitted-level-0);\n",
       "  border: .5pt solid var(--sklearn-color-unfitted-level-3);\n",
       "}\n",
       "\n",
       ".sk-estimator-doc-link.fitted span {\n",
       "  /* fitted */\n",
       "  background: var(--sklearn-color-fitted-level-0);\n",
       "  border: var(--sklearn-color-fitted-level-3);\n",
       "}\n",
       "\n",
       ".sk-estimator-doc-link:hover span {\n",
       "  display: block;\n",
       "}\n",
       "\n",
       "/* \"?\"-specific style due to the `<a>` HTML tag */\n",
       "\n",
       "#sk-container-id-1 a.estimator_doc_link {\n",
       "  float: right;\n",
       "  font-size: 1rem;\n",
       "  line-height: 1em;\n",
       "  font-family: monospace;\n",
       "  background-color: var(--sklearn-color-background);\n",
       "  border-radius: 1rem;\n",
       "  height: 1rem;\n",
       "  width: 1rem;\n",
       "  text-decoration: none;\n",
       "  /* unfitted */\n",
       "  color: var(--sklearn-color-unfitted-level-1);\n",
       "  border: var(--sklearn-color-unfitted-level-1) 1pt solid;\n",
       "}\n",
       "\n",
       "#sk-container-id-1 a.estimator_doc_link.fitted {\n",
       "  /* fitted */\n",
       "  border: var(--sklearn-color-fitted-level-1) 1pt solid;\n",
       "  color: var(--sklearn-color-fitted-level-1);\n",
       "}\n",
       "\n",
       "/* On hover */\n",
       "#sk-container-id-1 a.estimator_doc_link:hover {\n",
       "  /* unfitted */\n",
       "  background-color: var(--sklearn-color-unfitted-level-3);\n",
       "  color: var(--sklearn-color-background);\n",
       "  text-decoration: none;\n",
       "}\n",
       "\n",
       "#sk-container-id-1 a.estimator_doc_link.fitted:hover {\n",
       "  /* fitted */\n",
       "  background-color: var(--sklearn-color-fitted-level-3);\n",
       "}\n",
       "</style><div id=\"sk-container-id-1\" class=\"sk-top-container\"><div class=\"sk-text-repr-fallback\"><pre>ColumnTransformer(transformers=[(&#x27;categories&#x27;,\n",
       "                                 OneHotEncoder(drop=[&#x27;Network-2&#x27;, &#x27;Saudi&#x27;,\n",
       "                                                     &#x27;Male&#x27;, &#x27;Self&#x27;],\n",
       "                                               handle_unknown=&#x27;infrequent_if_exist&#x27;,\n",
       "                                               min_frequency=0.015),\n",
       "                                 Index([&#x27;insured_network&#x27;, &#x27;nationality&#x27;, &#x27;gender&#x27;, &#x27;relation&#x27;], dtype=&#x27;object&#x27;)),\n",
       "                                (&#x27;diagnoses&#x27;,\n",
       "                                 CountVectorizer(analyzer=&lt;function dummy_analyzer at 0x000002B8EB8CCB80&gt;,\n",
       "                                                 binary=True),\n",
       "                                 &#x27;diagnoses&#x27;),\n",
       "                                (&#x27;ints&#x27;,\n",
       "                                 StandardScaler(with_mean=False,\n",
       "                                                with_std=False),\n",
       "                                 Index([&#x27;exposition_22&#x27;, &#x27;number_of_visits_22&#x27;, &#x27;number_of_services_22&#x27;,\n",
       "       &#x27;exposition_23&#x27;, &#x27;age&#x27;, &#x27;diagnoses_counts&#x27;],\n",
       "      dtype=&#x27;object&#x27;)),\n",
       "                                (&#x27;bools&#x27;, OneHotEncoder(drop=&#x27;first&#x27;),\n",
       "                                 Index([&#x27;has_chronic_disease&#x27;, &#x27;exposition_23_full&#x27;], dtype=&#x27;object&#x27;))],\n",
       "                  verbose_feature_names_out=False)</pre><b>In a Jupyter environment, please rerun this cell to show the HTML representation or trust the notebook. <br />On GitHub, the HTML representation is unable to render, please try loading this page with nbviewer.org.</b></div><div class=\"sk-container\" hidden><div class=\"sk-item sk-dashed-wrapped\"><div class=\"sk-label-container\"><div class=\"sk-label fitted sk-toggleable\"><input class=\"sk-toggleable__control sk-hidden--visually\" id=\"sk-estimator-id-1\" type=\"checkbox\" ><label for=\"sk-estimator-id-1\" class=\"sk-toggleable__label fitted sk-toggleable__label-arrow fitted\">&nbsp;&nbsp;ColumnTransformer<a class=\"sk-estimator-doc-link fitted\" rel=\"noreferrer\" target=\"_blank\" href=\"https://scikit-learn.org/1.4/modules/generated/sklearn.compose.ColumnTransformer.html\">?<span>Documentation for ColumnTransformer</span></a><span class=\"sk-estimator-doc-link fitted\">i<span>Fitted</span></span></label><div class=\"sk-toggleable__content fitted\"><pre>ColumnTransformer(transformers=[(&#x27;categories&#x27;,\n",
       "                                 OneHotEncoder(drop=[&#x27;Network-2&#x27;, &#x27;Saudi&#x27;,\n",
       "                                                     &#x27;Male&#x27;, &#x27;Self&#x27;],\n",
       "                                               handle_unknown=&#x27;infrequent_if_exist&#x27;,\n",
       "                                               min_frequency=0.015),\n",
       "                                 Index([&#x27;insured_network&#x27;, &#x27;nationality&#x27;, &#x27;gender&#x27;, &#x27;relation&#x27;], dtype=&#x27;object&#x27;)),\n",
       "                                (&#x27;diagnoses&#x27;,\n",
       "                                 CountVectorizer(analyzer=&lt;function dummy_analyzer at 0x000002B8EB8CCB80&gt;,\n",
       "                                                 binary=True),\n",
       "                                 &#x27;diagnoses&#x27;),\n",
       "                                (&#x27;ints&#x27;,\n",
       "                                 StandardScaler(with_mean=False,\n",
       "                                                with_std=False),\n",
       "                                 Index([&#x27;exposition_22&#x27;, &#x27;number_of_visits_22&#x27;, &#x27;number_of_services_22&#x27;,\n",
       "       &#x27;exposition_23&#x27;, &#x27;age&#x27;, &#x27;diagnoses_counts&#x27;],\n",
       "      dtype=&#x27;object&#x27;)),\n",
       "                                (&#x27;bools&#x27;, OneHotEncoder(drop=&#x27;first&#x27;),\n",
       "                                 Index([&#x27;has_chronic_disease&#x27;, &#x27;exposition_23_full&#x27;], dtype=&#x27;object&#x27;))],\n",
       "                  verbose_feature_names_out=False)</pre></div> </div></div><div class=\"sk-parallel\"><div class=\"sk-parallel-item\"><div class=\"sk-item\"><div class=\"sk-label-container\"><div class=\"sk-label fitted sk-toggleable\"><input class=\"sk-toggleable__control sk-hidden--visually\" id=\"sk-estimator-id-2\" type=\"checkbox\" ><label for=\"sk-estimator-id-2\" class=\"sk-toggleable__label fitted sk-toggleable__label-arrow fitted\">categories</label><div class=\"sk-toggleable__content fitted\"><pre>Index([&#x27;insured_network&#x27;, &#x27;nationality&#x27;, &#x27;gender&#x27;, &#x27;relation&#x27;], dtype=&#x27;object&#x27;)</pre></div> </div></div><div class=\"sk-serial\"><div class=\"sk-item\"><div class=\"sk-estimator fitted sk-toggleable\"><input class=\"sk-toggleable__control sk-hidden--visually\" id=\"sk-estimator-id-3\" type=\"checkbox\" ><label for=\"sk-estimator-id-3\" class=\"sk-toggleable__label fitted sk-toggleable__label-arrow fitted\">&nbsp;OneHotEncoder<a class=\"sk-estimator-doc-link fitted\" rel=\"noreferrer\" target=\"_blank\" href=\"https://scikit-learn.org/1.4/modules/generated/sklearn.preprocessing.OneHotEncoder.html\">?<span>Documentation for OneHotEncoder</span></a></label><div class=\"sk-toggleable__content fitted\"><pre>OneHotEncoder(drop=[&#x27;Network-2&#x27;, &#x27;Saudi&#x27;, &#x27;Male&#x27;, &#x27;Self&#x27;],\n",
       "              handle_unknown=&#x27;infrequent_if_exist&#x27;, min_frequency=0.015)</pre></div> </div></div></div></div></div><div class=\"sk-parallel-item\"><div class=\"sk-item\"><div class=\"sk-label-container\"><div class=\"sk-label fitted sk-toggleable\"><input class=\"sk-toggleable__control sk-hidden--visually\" id=\"sk-estimator-id-4\" type=\"checkbox\" ><label for=\"sk-estimator-id-4\" class=\"sk-toggleable__label fitted sk-toggleable__label-arrow fitted\">diagnoses</label><div class=\"sk-toggleable__content fitted\"><pre>diagnoses</pre></div> </div></div><div class=\"sk-serial\"><div class=\"sk-item\"><div class=\"sk-estimator fitted sk-toggleable\"><input class=\"sk-toggleable__control sk-hidden--visually\" id=\"sk-estimator-id-5\" type=\"checkbox\" ><label for=\"sk-estimator-id-5\" class=\"sk-toggleable__label fitted sk-toggleable__label-arrow fitted\">&nbsp;CountVectorizer<a class=\"sk-estimator-doc-link fitted\" rel=\"noreferrer\" target=\"_blank\" href=\"https://scikit-learn.org/1.4/modules/generated/sklearn.feature_extraction.text.CountVectorizer.html\">?<span>Documentation for CountVectorizer</span></a></label><div class=\"sk-toggleable__content fitted\"><pre>CountVectorizer(analyzer=&lt;function dummy_analyzer at 0x000002B8EB8CCB80&gt;,\n",
       "                binary=True)</pre></div> </div></div></div></div></div><div class=\"sk-parallel-item\"><div class=\"sk-item\"><div class=\"sk-label-container\"><div class=\"sk-label fitted sk-toggleable\"><input class=\"sk-toggleable__control sk-hidden--visually\" id=\"sk-estimator-id-6\" type=\"checkbox\" ><label for=\"sk-estimator-id-6\" class=\"sk-toggleable__label fitted sk-toggleable__label-arrow fitted\">ints</label><div class=\"sk-toggleable__content fitted\"><pre>Index([&#x27;exposition_22&#x27;, &#x27;number_of_visits_22&#x27;, &#x27;number_of_services_22&#x27;,\n",
       "       &#x27;exposition_23&#x27;, &#x27;age&#x27;, &#x27;diagnoses_counts&#x27;],\n",
       "      dtype=&#x27;object&#x27;)</pre></div> </div></div><div class=\"sk-serial\"><div class=\"sk-item\"><div class=\"sk-estimator fitted sk-toggleable\"><input class=\"sk-toggleable__control sk-hidden--visually\" id=\"sk-estimator-id-7\" type=\"checkbox\" ><label for=\"sk-estimator-id-7\" class=\"sk-toggleable__label fitted sk-toggleable__label-arrow fitted\">&nbsp;StandardScaler<a class=\"sk-estimator-doc-link fitted\" rel=\"noreferrer\" target=\"_blank\" href=\"https://scikit-learn.org/1.4/modules/generated/sklearn.preprocessing.StandardScaler.html\">?<span>Documentation for StandardScaler</span></a></label><div class=\"sk-toggleable__content fitted\"><pre>StandardScaler(with_mean=False, with_std=False)</pre></div> </div></div></div></div></div><div class=\"sk-parallel-item\"><div class=\"sk-item\"><div class=\"sk-label-container\"><div class=\"sk-label fitted sk-toggleable\"><input class=\"sk-toggleable__control sk-hidden--visually\" id=\"sk-estimator-id-8\" type=\"checkbox\" ><label for=\"sk-estimator-id-8\" class=\"sk-toggleable__label fitted sk-toggleable__label-arrow fitted\">bools</label><div class=\"sk-toggleable__content fitted\"><pre>Index([&#x27;has_chronic_disease&#x27;, &#x27;exposition_23_full&#x27;], dtype=&#x27;object&#x27;)</pre></div> </div></div><div class=\"sk-serial\"><div class=\"sk-item\"><div class=\"sk-estimator fitted sk-toggleable\"><input class=\"sk-toggleable__control sk-hidden--visually\" id=\"sk-estimator-id-9\" type=\"checkbox\" ><label for=\"sk-estimator-id-9\" class=\"sk-toggleable__label fitted sk-toggleable__label-arrow fitted\">&nbsp;OneHotEncoder<a class=\"sk-estimator-doc-link fitted\" rel=\"noreferrer\" target=\"_blank\" href=\"https://scikit-learn.org/1.4/modules/generated/sklearn.preprocessing.OneHotEncoder.html\">?<span>Documentation for OneHotEncoder</span></a></label><div class=\"sk-toggleable__content fitted\"><pre>OneHotEncoder(drop=&#x27;first&#x27;)</pre></div> </div></div></div></div></div></div></div></div></div>"
      ],
      "text/plain": [
       "ColumnTransformer(transformers=[('categories',\n",
       "                                 OneHotEncoder(drop=['Network-2', 'Saudi',\n",
       "                                                     'Male', 'Self'],\n",
       "                                               handle_unknown='infrequent_if_exist',\n",
       "                                               min_frequency=0.015),\n",
       "                                 Index(['insured_network', 'nationality', 'gender', 'relation'], dtype='object')),\n",
       "                                ('diagnoses',\n",
       "                                 CountVectorizer(analyzer=<function dummy_analyzer at 0x000002B8EB8CCB80>,\n",
       "                                                 binary=True),\n",
       "                                 'diagnoses'),\n",
       "                                ('ints',\n",
       "                                 StandardScaler(with_mean=False,\n",
       "                                                with_std=False),\n",
       "                                 Index(['exposition_22', 'number_of_visits_22', 'number_of_services_22',\n",
       "       'exposition_23', 'age', 'diagnoses_counts'],\n",
       "      dtype='object')),\n",
       "                                ('bools', OneHotEncoder(drop='first'),\n",
       "                                 Index(['has_chronic_disease', 'exposition_23_full'], dtype='object'))],\n",
       "                  verbose_feature_names_out=False)"
      ]
     },
     "execution_count": 109,
     "metadata": {},
     "output_type": "execute_result"
    }
   ],
   "source": [
    "column_trans = ColumnTransformer(\n",
    "    [('categories', ohe, categorical_features),\n",
    "     ('diagnoses', tf_idf, 'diagnoses'),\n",
    "     ('ints', s_scaler, int_features),\n",
    "     ('bools', OneHotEncoder(drop='first'), feat_train.select_dtypes('bool').columns) # to sparse the bool or not to sparse the bool\n",
    "    ],\n",
    "    verbose_feature_names_out = False,\n",
    ") \n",
    "\n",
    "column_trans.fit(feat_train)"
   ]
  },
  {
   "cell_type": "code",
   "execution_count": 110,
   "metadata": {
    "scrolled": false
   },
   "outputs": [],
   "source": [
    "feat_train_trans = column_trans.transform(feat_train)\n",
    "feat_test_trans = column_trans.transform(feat_test)"
   ]
  },
  {
   "cell_type": "markdown",
   "metadata": {},
   "source": [
    "**Corollary:** `ColumnTransformer` позволяет использовать все трансформаторы вместе. Данные готовы к обучению."
   ]
  },
  {
   "cell_type": "markdown",
   "metadata": {},
   "source": [
    "### 8.8. <a id='toc8_8_'></a>[Заключение](#toc0_)"
   ]
  },
  {
   "cell_type": "raw",
   "metadata": {},
   "source": [
    "def dummy_analyzer(tokens:list):\n",
    "    return tokens\n",
    "\n",
    "feat_train = feat_train_backup.copy()\n",
    "feat_test = feat_test_backup.copy()\n",
    "feat_holdout = feat_holdout_backup.copy()\n",
    "\n",
    "MAX_DF = 1.0\n",
    "MIN_FREQ = 0.15\n",
    "\n",
    "selected_features = ['insured_network',\n",
    "                     'nationality',\n",
    "                     'gender',\n",
    "                     'relation',\n",
    "                     #'dob',\n",
    "                     'diagnoses',\n",
    "                     'has_chronic_disease',\n",
    "                     'exposition_22',\n",
    "                     'number_of_visits_22',\n",
    "                     'number_of_services_22',\n",
    "                     'exposition_23',\n",
    "                     'age',\n",
    "                     'diagnoses_counts',\n",
    "                     #'exposition_23_full'\n",
    "                    ]\n",
    "\n",
    "feat_train = feat_train[selected_features]\n",
    "feat_test = feat_test[selected_features]\n",
    "feat_holdout = feat_holdout[selected_features]\n",
    "\n",
    "int_features = feat_train.select_dtypes('int64').columns\n",
    "\n",
    "categorical_features = feat_train.select_dtypes('category').columns\n",
    "freq_cat_dict = dict(zip(\n",
    "    feat_train.select_dtypes('category').columns,\n",
    "    [feat_train[x].value_counts().head(1).index[0] for x in feat_test.select_dtypes('category').columns] # most frequent\n",
    "))\n",
    "freq_categories = [freq_cat_dict[x] for x in categorical_features]\n",
    "freq_categories\n",
    "\n",
    "column_trans = ColumnTransformer(\n",
    "    [('categories', OneHotEncoder(\n",
    "        handle_unknown='infrequent_if_exist',\n",
    "        min_frequency=MIN_FREQ,    \n",
    "        drop=freq_categories\n",
    "      ),\n",
    "      categorical_features),\n",
    "#    ('diagnoses', TfidfVectorizer(max_df=MAX_DF, analyzer=dummy_analyzer), 'diagnoses'),\n",
    "    ('diagnoses', CountVectorizer(binary=True, analyzer=dummy_analyzer), 'diagnoses'),         \n",
    "\n",
    "#    ('ints', StandardScaler(), int_features),\n",
    "     ('ints', StandardScaler(with_mean=False, with_std=False), int_features),\n",
    "     ('bools', OneHotEncoder(), feat_train.select_dtypes('bool').columns) # to sparse the bool or not to sparse the bool\n",
    "    ],\n",
    "    verbose_feature_names_out = False,\n",
    "#    remainder='passthrough'\n",
    "#    remainder= OneHotEncoder()\n",
    ") \n",
    "\n",
    "column_trans.fit(feat_train)\n",
    "\n",
    "feat_train_trans = column_trans.transform(feat_train)\n",
    "feat_test_trans = column_trans.transform(feat_test)\n",
    "feat_holdout_trans = column_trans.transform(feat_holdout)\n",
    "\n",
    "column_trans"
   ]
  },
  {
   "cell_type": "markdown",
   "metadata": {},
   "source": [
    "**Corollary:** Обработка признаков завершена. Клетка выше выключена, но позволяет воспроизвести всю секцию после введения сразу, с возможностью дополнительно настроить трансформаторы.\n"
   ]
  },
  {
   "cell_type": "markdown",
   "metadata": {},
   "source": [
    "## 9. <a id='toc9_'></a>[Машинное Обучение](#toc0_)"
   ]
  },
  {
   "cell_type": "markdown",
   "metadata": {},
   "source": [
    "### 9.1. <a id='toc9_1_'></a>[Определения](#toc0_)"
   ]
  },
  {
   "cell_type": "code",
   "execution_count": 111,
   "metadata": {},
   "outputs": [],
   "source": [
    "def cross_val_mean(model):\n",
    "    return (-cross_val_score(model, feat_train_trans, targ_train, scoring='neg_mean_squared_error', cv=4, n_jobs=3)).mean()\n",
    "\n",
    "def eval_baseline(model_list):\n",
    "    display(column_trans.get_params()['transformers'])\n",
    "    results = pd.DataFrame()\n",
    "    start_time = default_timer()\n",
    "    for model in model_list:\n",
    "        results.loc[type(model).__name__, ['CrossVal mean', 'Process time']] = [\n",
    "            cross_val_mean(model),\n",
    "            default_timer() - start_time\n",
    "        ]   \n",
    "        start_time = default_timer()\n",
    "    return(results)"
   ]
  },
  {
   "cell_type": "code",
   "execution_count": 112,
   "metadata": {},
   "outputs": [],
   "source": [
    "lin_reg = LinearRegression()\n",
    "#ran_fst = RandomForestRegressor(random_state=RANDOM)\n",
    "lgbm = LGBMRegressor(random_state=RANDOM, verbose=0)\n",
    "xgb = XGBRegressor(random_state=RANDOM, verbose=1)\n",
    "cat_b = CatBoostRegressor(random_state=RANDOM, verbose=1)"
   ]
  },
  {
   "cell_type": "code",
   "execution_count": 113,
   "metadata": {},
   "outputs": [],
   "source": [
    "#model_list_short = [lin_reg, lgbm, xgb] \n",
    "model_list = [lin_reg, lgbm, xgb, cat_b] #, ran_fst - too slow"
   ]
  },
  {
   "cell_type": "code",
   "execution_count": 114,
   "metadata": {
    "scrolled": false
   },
   "outputs": [
    {
     "data": {
      "text/plain": [
       "[('categories',\n",
       "  OneHotEncoder(drop=['Network-2', 'Saudi', 'Male', 'Self'],\n",
       "                handle_unknown='infrequent_if_exist', min_frequency=0.015),\n",
       "  Index(['insured_network', 'nationality', 'gender', 'relation'], dtype='object')),\n",
       " ('diagnoses',\n",
       "  CountVectorizer(analyzer=<function dummy_analyzer at 0x000002B8EB8CCB80>,\n",
       "                  binary=True),\n",
       "  'diagnoses'),\n",
       " ('ints',\n",
       "  StandardScaler(with_mean=False, with_std=False),\n",
       "  Index(['exposition_22', 'number_of_visits_22', 'number_of_services_22',\n",
       "         'exposition_23', 'age', 'diagnoses_counts'],\n",
       "        dtype='object')),\n",
       " ('bools',\n",
       "  OneHotEncoder(drop='first'),\n",
       "  Index(['has_chronic_disease', 'exposition_23_full'], dtype='object'))]"
      ]
     },
     "metadata": {},
     "output_type": "display_data"
    },
    {
     "data": {
      "text/html": [
       "<div>\n",
       "<style scoped>\n",
       "    .dataframe tbody tr th:only-of-type {\n",
       "        vertical-align: middle;\n",
       "    }\n",
       "\n",
       "    .dataframe tbody tr th {\n",
       "        vertical-align: top;\n",
       "    }\n",
       "\n",
       "    .dataframe thead th {\n",
       "        text-align: right;\n",
       "    }\n",
       "</style>\n",
       "<table border=\"1\" class=\"dataframe\">\n",
       "  <thead>\n",
       "    <tr style=\"text-align: right;\">\n",
       "      <th></th>\n",
       "      <th>CrossVal mean</th>\n",
       "      <th>Process time</th>\n",
       "    </tr>\n",
       "  </thead>\n",
       "  <tbody>\n",
       "    <tr>\n",
       "      <th>LinearRegression</th>\n",
       "      <td>34.862787</td>\n",
       "      <td>5.665629</td>\n",
       "    </tr>\n",
       "    <tr>\n",
       "      <th>LGBMRegressor</th>\n",
       "      <td>23.278600</td>\n",
       "      <td>1.981277</td>\n",
       "    </tr>\n",
       "    <tr>\n",
       "      <th>XGBRegressor</th>\n",
       "      <td>23.921054</td>\n",
       "      <td>2.716481</td>\n",
       "    </tr>\n",
       "    <tr>\n",
       "      <th>CatBoostRegressor</th>\n",
       "      <td>23.518477</td>\n",
       "      <td>83.296299</td>\n",
       "    </tr>\n",
       "  </tbody>\n",
       "</table>\n",
       "</div>"
      ],
      "text/plain": [
       "                   CrossVal mean  Process time\n",
       "LinearRegression       34.862787      5.665629\n",
       "LGBMRegressor          23.278600      1.981277\n",
       "XGBRegressor           23.921054      2.716481\n",
       "CatBoostRegressor      23.518477     83.296299"
      ]
     },
     "execution_count": 114,
     "metadata": {},
     "output_type": "execute_result"
    }
   ],
   "source": [
    "eval_baseline(model_list)"
   ]
  },
  {
   "cell_type": "markdown",
   "metadata": {},
   "source": [
    "**Corollary:** Определены функции для быстрой оценки базовых моделей.\n",
    "\n",
    "LGBM показывает лучшие результаты, CatBoost нагоняет по качеству, но в 40 раз медленнее. XGB отстаёт но не сильно. Линейная регрессия не приемлима, скорее всего из-за решений в рамках обработки признаков."
   ]
  },
  {
   "cell_type": "markdown",
   "metadata": {},
   "source": [
    "### 9.2. <a id='toc9_2_'></a>[Search CV](#toc0_)"
   ]
  },
  {
   "cell_type": "code",
   "execution_count": 115,
   "metadata": {},
   "outputs": [],
   "source": [
    "def scv_results(clf):\n",
    "    \n",
    "    e_score = -clf.best_score_\n",
    "    e_index = type(clf.best_estimator_).__name__\n",
    "    return pd.DataFrame(e_score, columns=['SearchCV'], index=[e_index])"
   ]
  },
  {
   "cell_type": "markdown",
   "metadata": {},
   "source": [
    "### 9.3. <a id='toc9_3_'></a>[ LGBM](#toc0_)"
   ]
  },
  {
   "cell_type": "code",
   "execution_count": 116,
   "metadata": {},
   "outputs": [],
   "source": [
    "feature_name=column_trans.get_feature_names_out()"
   ]
  },
  {
   "cell_type": "code",
   "execution_count": 117,
   "metadata": {
    "scrolled": true
   },
   "outputs": [
    {
     "name": "stdout",
     "output_type": "stream",
     "text": [
      "Fitting 4 folds for each of 30 candidates, totalling 120 fits\n",
      "[LightGBM] [Warning] Found whitespace in feature_names, replace with underlines\n",
      "[LightGBM] [Info] Auto-choosing row-wise multi-threading, the overhead of testing was 0.051842 seconds.\n",
      "You can set `force_row_wise=true` to remove the overhead.\n",
      "And if memory is not enough, you can set `force_col_wise=true`.\n",
      "[LightGBM] [Info] Total Bins 2908\n",
      "[LightGBM] [Info] Number of data points in the train set: 39998, number of used features: 1040\n",
      "[LightGBM] [Info] Start training from score 5.900570\n",
      "[LightGBM] [Warning] No further splits with positive gain, best gain: -inf\n",
      "[LightGBM] [Warning] No further splits with positive gain, best gain: -inf\n",
      "[LightGBM] [Warning] No further splits with positive gain, best gain: -inf\n",
      "[LightGBM] [Warning] No further splits with positive gain, best gain: -inf\n",
      "[LightGBM] [Warning] No further splits with positive gain, best gain: -inf\n",
      "[LightGBM] [Warning] No further splits with positive gain, best gain: -inf\n",
      "[LightGBM] [Warning] No further splits with positive gain, best gain: -inf\n",
      "[LightGBM] [Warning] No further splits with positive gain, best gain: -inf\n",
      "[LightGBM] [Warning] No further splits with positive gain, best gain: -inf\n",
      "[LightGBM] [Warning] No further splits with positive gain, best gain: -inf\n",
      "[LightGBM] [Warning] No further splits with positive gain, best gain: -inf\n",
      "[LightGBM] [Warning] No further splits with positive gain, best gain: -inf\n",
      "[LightGBM] [Warning] No further splits with positive gain, best gain: -inf\n",
      "[LightGBM] [Warning] No further splits with positive gain, best gain: -inf\n",
      "[LightGBM] [Warning] No further splits with positive gain, best gain: -inf\n",
      "[LightGBM] [Warning] No further splits with positive gain, best gain: -inf\n",
      "[LightGBM] [Warning] No further splits with positive gain, best gain: -inf\n",
      "[LightGBM] [Warning] No further splits with positive gain, best gain: -inf\n",
      "[LightGBM] [Warning] No further splits with positive gain, best gain: -inf\n",
      "[LightGBM] [Warning] No further splits with positive gain, best gain: -inf\n",
      "[LightGBM] [Warning] No further splits with positive gain, best gain: -inf\n",
      "[LightGBM] [Warning] No further splits with positive gain, best gain: -inf\n",
      "[LightGBM] [Warning] No further splits with positive gain, best gain: -inf\n",
      "[LightGBM] [Warning] No further splits with positive gain, best gain: -inf\n",
      "[LightGBM] [Warning] No further splits with positive gain, best gain: -inf\n",
      "[LightGBM] [Warning] No further splits with positive gain, best gain: -inf\n",
      "[LightGBM] [Warning] No further splits with positive gain, best gain: -inf\n",
      "[LightGBM] [Warning] No further splits with positive gain, best gain: -inf\n",
      "[LightGBM] [Warning] No further splits with positive gain, best gain: -inf\n",
      "[LightGBM] [Warning] No further splits with positive gain, best gain: -inf\n",
      "[LightGBM] [Warning] No further splits with positive gain, best gain: -inf\n",
      "[LightGBM] [Warning] No further splits with positive gain, best gain: -inf\n",
      "[LightGBM] [Warning] No further splits with positive gain, best gain: -inf\n",
      "[LightGBM] [Warning] No further splits with positive gain, best gain: -inf\n",
      "[LightGBM] [Warning] No further splits with positive gain, best gain: -inf\n",
      "[LightGBM] [Warning] No further splits with positive gain, best gain: -inf\n",
      "[LightGBM] [Warning] No further splits with positive gain, best gain: -inf\n",
      "[LightGBM] [Warning] No further splits with positive gain, best gain: -inf\n",
      "[LightGBM] [Warning] No further splits with positive gain, best gain: -inf\n",
      "[LightGBM] [Warning] No further splits with positive gain, best gain: -inf\n",
      "[LightGBM] [Warning] No further splits with positive gain, best gain: -inf\n",
      "[LightGBM] [Warning] No further splits with positive gain, best gain: -inf\n",
      "[LightGBM] [Warning] No further splits with positive gain, best gain: -inf\n",
      "[LightGBM] [Warning] No further splits with positive gain, best gain: -inf\n",
      "[LightGBM] [Warning] No further splits with positive gain, best gain: -inf\n",
      "[LightGBM] [Warning] No further splits with positive gain, best gain: -inf\n",
      "[LightGBM] [Warning] No further splits with positive gain, best gain: -inf\n",
      "[LightGBM] [Warning] No further splits with positive gain, best gain: -inf\n",
      "[LightGBM] [Warning] No further splits with positive gain, best gain: -inf\n",
      "[LightGBM] [Warning] No further splits with positive gain, best gain: -inf\n",
      "[LightGBM] [Warning] No further splits with positive gain, best gain: -inf\n",
      "[LightGBM] [Warning] No further splits with positive gain, best gain: -inf\n",
      "[LightGBM] [Warning] No further splits with positive gain, best gain: -inf\n",
      "[LightGBM] [Warning] No further splits with positive gain, best gain: -inf\n",
      "[LightGBM] [Warning] No further splits with positive gain, best gain: -inf\n",
      "[LightGBM] [Warning] No further splits with positive gain, best gain: -inf\n",
      "[LightGBM] [Warning] No further splits with positive gain, best gain: -inf\n",
      "[LightGBM] [Warning] No further splits with positive gain, best gain: -inf\n",
      "[LightGBM] [Warning] No further splits with positive gain, best gain: -inf\n",
      "[LightGBM] [Warning] No further splits with positive gain, best gain: -inf\n",
      "[LightGBM] [Warning] No further splits with positive gain, best gain: -inf\n",
      "[LightGBM] [Warning] No further splits with positive gain, best gain: -inf\n",
      "[LightGBM] [Warning] No further splits with positive gain, best gain: -inf\n",
      "[LightGBM] [Warning] No further splits with positive gain, best gain: -inf\n",
      "[LightGBM] [Warning] No further splits with positive gain, best gain: -inf\n",
      "[LightGBM] [Warning] No further splits with positive gain, best gain: -inf\n",
      "[LightGBM] [Warning] No further splits with positive gain, best gain: -inf\n",
      "[LightGBM] [Warning] No further splits with positive gain, best gain: -inf\n",
      "[LightGBM] [Warning] No further splits with positive gain, best gain: -inf\n",
      "[LightGBM] [Warning] No further splits with positive gain, best gain: -inf\n",
      "[LightGBM] [Warning] No further splits with positive gain, best gain: -inf\n",
      "[LightGBM] [Warning] No further splits with positive gain, best gain: -inf\n",
      "[LightGBM] [Warning] No further splits with positive gain, best gain: -inf\n",
      "[LightGBM] [Warning] No further splits with positive gain, best gain: -inf\n",
      "[LightGBM] [Warning] No further splits with positive gain, best gain: -inf\n",
      "[LightGBM] [Warning] No further splits with positive gain, best gain: -inf\n",
      "[LightGBM] [Warning] No further splits with positive gain, best gain: -inf\n",
      "[LightGBM] [Warning] No further splits with positive gain, best gain: -inf\n",
      "[LightGBM] [Warning] No further splits with positive gain, best gain: -inf\n",
      "[LightGBM] [Warning] No further splits with positive gain, best gain: -inf\n",
      "[LightGBM] [Warning] No further splits with positive gain, best gain: -inf\n",
      "[LightGBM] [Warning] No further splits with positive gain, best gain: -inf\n",
      "[LightGBM] [Warning] No further splits with positive gain, best gain: -inf\n",
      "[LightGBM] [Warning] No further splits with positive gain, best gain: -inf\n",
      "[LightGBM] [Warning] No further splits with positive gain, best gain: -inf\n",
      "[LightGBM] [Warning] No further splits with positive gain, best gain: -inf\n",
      "[LightGBM] [Warning] No further splits with positive gain, best gain: -inf\n",
      "[LightGBM] [Warning] No further splits with positive gain, best gain: -inf\n",
      "[LightGBM] [Warning] No further splits with positive gain, best gain: -inf\n",
      "[LightGBM] [Warning] No further splits with positive gain, best gain: -inf\n",
      "[LightGBM] [Warning] No further splits with positive gain, best gain: -inf\n",
      "[LightGBM] [Warning] No further splits with positive gain, best gain: -inf\n",
      "[LightGBM] [Warning] No further splits with positive gain, best gain: -inf\n",
      "[LightGBM] [Warning] No further splits with positive gain, best gain: -inf\n",
      "[LightGBM] [Warning] No further splits with positive gain, best gain: -inf\n",
      "[LightGBM] [Warning] No further splits with positive gain, best gain: -inf\n",
      "[LightGBM] [Warning] No further splits with positive gain, best gain: -inf\n",
      "[LightGBM] [Warning] No further splits with positive gain, best gain: -inf\n",
      "[LightGBM] [Warning] No further splits with positive gain, best gain: -inf\n",
      "[LightGBM] [Warning] No further splits with positive gain, best gain: -inf\n",
      "[LightGBM] [Warning] No further splits with positive gain, best gain: -inf\n",
      "[LightGBM] [Warning] No further splits with positive gain, best gain: -inf\n",
      "[LightGBM] [Warning] No further splits with positive gain, best gain: -inf\n",
      "[LightGBM] [Warning] No further splits with positive gain, best gain: -inf\n",
      "[LightGBM] [Warning] No further splits with positive gain, best gain: -inf\n",
      "[LightGBM] [Warning] No further splits with positive gain, best gain: -inf\n",
      "[LightGBM] [Warning] No further splits with positive gain, best gain: -inf\n",
      "[LightGBM] [Warning] No further splits with positive gain, best gain: -inf\n",
      "[LightGBM] [Warning] No further splits with positive gain, best gain: -inf\n",
      "[LightGBM] [Warning] No further splits with positive gain, best gain: -inf\n",
      "[LightGBM] [Warning] No further splits with positive gain, best gain: -inf\n",
      "[LightGBM] [Warning] No further splits with positive gain, best gain: -inf\n",
      "[LightGBM] [Warning] No further splits with positive gain, best gain: -inf\n",
      "[LightGBM] [Warning] No further splits with positive gain, best gain: -inf\n",
      "[LightGBM] [Warning] No further splits with positive gain, best gain: -inf\n",
      "[LightGBM] [Warning] No further splits with positive gain, best gain: -inf\n",
      "[LightGBM] [Warning] No further splits with positive gain, best gain: -inf\n",
      "[LightGBM] [Warning] No further splits with positive gain, best gain: -inf\n",
      "[LightGBM] [Warning] No further splits with positive gain, best gain: -inf\n",
      "[LightGBM] [Warning] No further splits with positive gain, best gain: -inf\n",
      "[LightGBM] [Warning] No further splits with positive gain, best gain: -inf\n",
      "[LightGBM] [Warning] No further splits with positive gain, best gain: -inf\n",
      "[LightGBM] [Warning] No further splits with positive gain, best gain: -inf\n",
      "[LightGBM] [Warning] No further splits with positive gain, best gain: -inf\n",
      "[LightGBM] [Warning] No further splits with positive gain, best gain: -inf\n",
      "[LightGBM] [Warning] No further splits with positive gain, best gain: -inf\n",
      "[LightGBM] [Warning] No further splits with positive gain, best gain: -inf\n",
      "[LightGBM] [Warning] No further splits with positive gain, best gain: -inf\n",
      "[LightGBM] [Warning] No further splits with positive gain, best gain: -inf\n",
      "[LightGBM] [Warning] No further splits with positive gain, best gain: -inf\n",
      "[LightGBM] [Warning] No further splits with positive gain, best gain: -inf\n",
      "[LightGBM] [Warning] No further splits with positive gain, best gain: -inf\n",
      "CPU times: total: 2.11 s\n",
      "Wall time: 2min 1s\n"
     ]
    },
    {
     "data": {
      "text/html": [
       "<div>\n",
       "<style scoped>\n",
       "    .dataframe tbody tr th:only-of-type {\n",
       "        vertical-align: middle;\n",
       "    }\n",
       "\n",
       "    .dataframe tbody tr th {\n",
       "        vertical-align: top;\n",
       "    }\n",
       "\n",
       "    .dataframe thead th {\n",
       "        text-align: right;\n",
       "    }\n",
       "</style>\n",
       "<table border=\"1\" class=\"dataframe\">\n",
       "  <thead>\n",
       "    <tr style=\"text-align: right;\">\n",
       "      <th></th>\n",
       "      <th>SearchCV</th>\n",
       "    </tr>\n",
       "  </thead>\n",
       "  <tbody>\n",
       "    <tr>\n",
       "      <th>LGBMRegressor</th>\n",
       "      <td>22.98498</td>\n",
       "    </tr>\n",
       "  </tbody>\n",
       "</table>\n",
       "</div>"
      ],
      "text/plain": [
       "               SearchCV\n",
       "LGBMRegressor  22.98498"
      ]
     },
     "execution_count": 117,
     "metadata": {},
     "output_type": "execute_result"
    }
   ],
   "source": [
    "%%time\n",
    "\n",
    "parameters = {\n",
    "    'boosting_type' : ['gbdt', 'dart'],\n",
    "    'num_leaves': [50, 100, 200],\n",
    "    'max_depth': [4, 6, 8],\n",
    "    'n_estimators' : [100, 150, 200],\n",
    "    'learning_rate' : [0.1, .01, .001]\n",
    "    }\n",
    "clf_lgbm = RandomizedSearchCV(LGBMRegressor(random_state=RANDOM), parameters, verbose=2,\n",
    "                              scoring='neg_mean_squared_error', n_jobs=4, cv=4, random_state=RANDOM, n_iter=30) #classifier\n",
    "clf_lgbm.fit(feat_train_trans, targ_train, feature_name=list(column_trans.get_feature_names_out()))\n",
    "scv_results(clf_lgbm)"
   ]
  },
  {
   "cell_type": "code",
   "execution_count": 118,
   "metadata": {},
   "outputs": [
    {
     "data": {
      "text/html": [
       "<div>\n",
       "<style scoped>\n",
       "    .dataframe tbody tr th:only-of-type {\n",
       "        vertical-align: middle;\n",
       "    }\n",
       "\n",
       "    .dataframe tbody tr th {\n",
       "        vertical-align: top;\n",
       "    }\n",
       "\n",
       "    .dataframe thead th {\n",
       "        text-align: right;\n",
       "    }\n",
       "</style>\n",
       "<table border=\"1\" class=\"dataframe\">\n",
       "  <thead>\n",
       "    <tr style=\"text-align: right;\">\n",
       "      <th></th>\n",
       "      <th>SearchCV</th>\n",
       "    </tr>\n",
       "  </thead>\n",
       "  <tbody>\n",
       "    <tr>\n",
       "      <th>LGBMRegressor</th>\n",
       "      <td>22.98498</td>\n",
       "    </tr>\n",
       "  </tbody>\n",
       "</table>\n",
       "</div>"
      ],
      "text/plain": [
       "               SearchCV\n",
       "LGBMRegressor  22.98498"
      ]
     },
     "execution_count": 118,
     "metadata": {},
     "output_type": "execute_result"
    }
   ],
   "source": [
    "scv_results(clf_lgbm)"
   ]
  },
  {
   "cell_type": "markdown",
   "metadata": {},
   "source": [
    "**Вывод:** Небольшое улучшения качества."
   ]
  },
  {
   "cell_type": "markdown",
   "metadata": {},
   "source": [
    "### 9.4. <a id='toc9_4_'></a>[ XGB](#toc0_)"
   ]
  },
  {
   "cell_type": "code",
   "execution_count": 119,
   "metadata": {},
   "outputs": [
    {
     "name": "stdout",
     "output_type": "stream",
     "text": [
      "Fitting 4 folds for each of 30 candidates, totalling 120 fits\n",
      "CPU times: total: 2.2 s\n",
      "Wall time: 2min 59s\n"
     ]
    },
    {
     "data": {
      "text/html": [
       "<div>\n",
       "<style scoped>\n",
       "    .dataframe tbody tr th:only-of-type {\n",
       "        vertical-align: middle;\n",
       "    }\n",
       "\n",
       "    .dataframe tbody tr th {\n",
       "        vertical-align: top;\n",
       "    }\n",
       "\n",
       "    .dataframe thead th {\n",
       "        text-align: right;\n",
       "    }\n",
       "</style>\n",
       "<table border=\"1\" class=\"dataframe\">\n",
       "  <thead>\n",
       "    <tr style=\"text-align: right;\">\n",
       "      <th></th>\n",
       "      <th>SearchCV</th>\n",
       "    </tr>\n",
       "  </thead>\n",
       "  <tbody>\n",
       "    <tr>\n",
       "      <th>XGBRegressor</th>\n",
       "      <td>23.259304</td>\n",
       "    </tr>\n",
       "  </tbody>\n",
       "</table>\n",
       "</div>"
      ],
      "text/plain": [
       "               SearchCV\n",
       "XGBRegressor  23.259304"
      ]
     },
     "execution_count": 119,
     "metadata": {},
     "output_type": "execute_result"
    }
   ],
   "source": [
    "%%time\n",
    "\n",
    "parameters = {\n",
    "    'subsample': [0.5, .75, 1.],\n",
    "    'max_depth': [4, 6, 8],\n",
    "    'n_estimators' : [100, 150, 200],\n",
    "    'eta' : [0.1, .01, .001]\n",
    "    }\n",
    "clf_xgb = RandomizedSearchCV(XGBRegressor(random_state=RANDOM), parameters, verbose=2, scoring='neg_mean_squared_error',\n",
    "                             n_jobs=4, cv=4, random_state=RANDOM, n_iter=30) #classifier\n",
    "clf_xgb.fit(feat_train_trans, targ_train)\n",
    "scv_results(clf_xgb)"
   ]
  },
  {
   "cell_type": "markdown",
   "metadata": {},
   "source": [
    "**Вывод:** Более значительное улучшение чем LGBM, но по прежнему позади."
   ]
  },
  {
   "cell_type": "markdown",
   "metadata": {},
   "source": [
    "### 9.5. <a id='toc9_5_'></a>[Лучшая модель](#toc0_)"
   ]
  },
  {
   "cell_type": "code",
   "execution_count": 120,
   "metadata": {},
   "outputs": [
    {
     "data": {
      "text/plain": [
       "{'boosting_type': 'gbdt',\n",
       " 'class_weight': None,\n",
       " 'colsample_bytree': 1.0,\n",
       " 'importance_type': 'split',\n",
       " 'learning_rate': 0.1,\n",
       " 'max_depth': 4,\n",
       " 'min_child_samples': 20,\n",
       " 'min_child_weight': 0.001,\n",
       " 'min_split_gain': 0.0,\n",
       " 'n_estimators': 150,\n",
       " 'n_jobs': None,\n",
       " 'num_leaves': 50,\n",
       " 'objective': None,\n",
       " 'random_state': 20240804,\n",
       " 'reg_alpha': 0.0,\n",
       " 'reg_lambda': 0.0,\n",
       " 'subsample': 1.0,\n",
       " 'subsample_for_bin': 200000,\n",
       " 'subsample_freq': 0}"
      ]
     },
     "execution_count": 120,
     "metadata": {},
     "output_type": "execute_result"
    }
   ],
   "source": [
    "clf_lgbm.best_estimator_.get_params()"
   ]
  },
  {
   "cell_type": "code",
   "execution_count": 121,
   "metadata": {},
   "outputs": [
    {
     "data": {
      "text/plain": [
       "mean_fit_time                                                   0.864785\n",
       "std_fit_time                                                     0.10794\n",
       "mean_score_time                                                 0.018782\n",
       "std_score_time                                                  0.003613\n",
       "param_num_leaves                                                      50\n",
       "param_n_estimators                                                   150\n",
       "param_max_depth                                                        4\n",
       "param_learning_rate                                                  0.1\n",
       "param_boosting_type                                                 gbdt\n",
       "params                 {'num_leaves': 50, 'n_estimators': 150, 'max_d...\n",
       "split0_test_score                                             -22.226588\n",
       "split1_test_score                                             -22.659888\n",
       "split2_test_score                                             -24.045251\n",
       "split3_test_score                                             -23.008193\n",
       "mean_test_score                                                -22.98498\n",
       "std_test_score                                                  0.671855\n",
       "rank_test_score                                                        1\n",
       "Name: 11, dtype: object"
      ]
     },
     "execution_count": 121,
     "metadata": {},
     "output_type": "execute_result"
    }
   ],
   "source": [
    "pd.DataFrame(clf_lgbm.cv_results_).loc[clf_lgbm.best_index_]"
   ]
  },
  {
   "cell_type": "markdown",
   "metadata": {},
   "source": [
    "**Corollary:** Весьма низкое отклонение приятно видеть, надеюсь это не результат переобучения."
   ]
  },
  {
   "cell_type": "markdown",
   "metadata": {},
   "source": [
    "### 9.6. <a id='toc9_6_'></a>[Контрольная выборка](#toc0_)"
   ]
  },
  {
   "cell_type": "code",
   "execution_count": 122,
   "metadata": {},
   "outputs": [
    {
     "data": {
      "text/plain": [
       "23.3268842838393"
      ]
     },
     "execution_count": 122,
     "metadata": {},
     "output_type": "execute_result"
    }
   ],
   "source": [
    "mean_squared_error(targ_test, clf_lgbm.predict(feat_test_trans))"
   ]
  },
  {
   "cell_type": "markdown",
   "metadata": {},
   "source": [
    "**Corollary:** Результат чуть хуж, но главное что не переобучилась."
   ]
  },
  {
   "cell_type": "markdown",
   "metadata": {},
   "source": [
    "### 9.7. <a id='toc9_7_'></a>[Значение признаков](#toc0_)"
   ]
  },
  {
   "cell_type": "code",
   "execution_count": 123,
   "metadata": {},
   "outputs": [
    {
     "data": {
      "image/png": "[encoded data removed]",
      "text/plain": [
       "<Figure size 900x900 with 1 Axes>"
      ]
     },
     "metadata": {},
     "output_type": "display_data"
    }
   ],
   "source": [
    "plot_importance(clf_lgbm.best_estimator_, importance_type=\"split\",\n",
    "                    figsize=(9,9), title=\"LightGBM Feature Importance (Split)\", max_num_features=20)\n",
    "plt.show()"
   ]
  },
  {
   "cell_type": "code",
   "execution_count": 124,
   "metadata": {},
   "outputs": [
    {
     "data": {
      "image/png": "[encoded data removed]",
      "text/plain": [
       "<Figure size 900x900 with 1 Axes>"
      ]
     },
     "metadata": {},
     "output_type": "display_data"
    }
   ],
   "source": [
    "plot_importance(clf_lgbm.best_estimator_, importance_type=\"gain\",\n",
    "                    figsize=(9,9), title=\"LightGBM Feature Importance (Gain)\", max_num_features=20)\n",
    "plt.show()"
   ]
  },
  {
   "cell_type": "code",
   "execution_count": 125,
   "metadata": {},
   "outputs": [],
   "source": [
    "feature_importances = pd.Series(clf_lgbm.best_estimator_.feature_importances_, index=column_trans.get_feature_names_out())"
   ]
  },
  {
   "cell_type": "code",
   "execution_count": 126,
   "metadata": {},
   "outputs": [
    {
     "data": {
      "text/plain": [
       "number_of_visits_22         230\n",
       "age                         135\n",
       "number_of_services_22       124\n",
       "diagnoses_counts            116\n",
       "exposition_23                93\n",
       "exposition_22                74\n",
       "has_chronic_disease_True     25\n",
       "relation_Spouse              20\n",
       "e10                          17\n",
       "e11                          16\n",
       "i10                          15\n",
       "relation_Child               14\n",
       "j06.9                        14\n",
       "no_diagnoses                 14\n",
       "f32                          12\n",
       "t78.4                        12\n",
       "o80                          11\n",
       "h10                          10\n",
       "o09.5                        10\n",
       "gender_Female                 9\n",
       "m25.54                        9\n",
       "g40                           8\n",
       "o09.3                         8\n",
       "r10                           7\n",
       "h18.6                         7\n",
       "n76.0                         7\n",
       "z36                           7\n",
       "z34.9                         7\n",
       "z38.0                         7\n",
       "m60                           7\n",
       "dtype: int32"
      ]
     },
     "execution_count": 126,
     "metadata": {},
     "output_type": "execute_result"
    }
   ],
   "source": [
    "feature_importances.sort_values(ascending=False).head(30)"
   ]
  },
  {
   "cell_type": "markdown",
   "metadata": {},
   "source": [
    "### 9.8. <a id='toc9_8_'></a>[Заключение](#toc0_)"
   ]
  },
  {
   "cell_type": "markdown",
   "metadata": {},
   "source": [
    "Самым важным признаком предсказуемо оказался `number_of_visits_22`. Я подозреваю, что если убрать `number_of_services_22`, то его значимость тоже добавится к нему. Интересно, что несмотря на число ветвлений выше у `number_of_services_22, diagnoses_counts` и `age`, прибавка точности выше за счёт `exposition_23`.\n",
    "\n",
    "`Relation` играет некоторую роль в принятии решений, но не `nationality` и не `network`. В целом ожидаемо учитывая дисбаланс.\n",
    "\n",
    "Значительное число ветвлений сделано на основе токенов - болезней, возможно это полезно для определение наиболее опасных заболеваний."
   ]
  },
  {
   "cell_type": "markdown",
   "metadata": {},
   "source": [
    "## 10. <a id='toc10_'></a>[Финальный замер качества](#toc0_)"
   ]
  },
  {
   "cell_type": "code",
   "execution_count": 127,
   "metadata": {},
   "outputs": [
    {
     "data": {
      "text/plain": [
       "<49998x6240 sparse matrix of type '<class 'numpy.float64'>'\n",
       "\twith 689195 stored elements in Compressed Sparse Row format>"
      ]
     },
     "execution_count": 127,
     "metadata": {},
     "output_type": "execute_result"
    }
   ],
   "source": [
    "feat_full = pd.concat([feat_train, feat_test])\n",
    "feat_full_trans = column_trans.fit_transform(feat_full)\n",
    "feat_full_trans"
   ]
  },
  {
   "cell_type": "code",
   "execution_count": 128,
   "metadata": {},
   "outputs": [
    {
     "data": {
      "text/plain": [
       "insured_pin\n",
       "1489111     0\n",
       "1504934     0\n",
       "1531337     0\n",
       "1408159     8\n",
       "1522775    23\n",
       "           ..\n",
       "1440353     1\n",
       "1545110     5\n",
       "1464088     9\n",
       "1347640     3\n",
       "1370823    13\n",
       "Name: number_of_visits_23, Length: 49998, dtype: int64"
      ]
     },
     "execution_count": 128,
     "metadata": {},
     "output_type": "execute_result"
    }
   ],
   "source": [
    "targ_full = pd.concat([targ_train, targ_test])\n",
    "targ_full"
   ]
  },
  {
   "cell_type": "code",
   "execution_count": 129,
   "metadata": {},
   "outputs": [
    {
     "data": {
      "text/plain": [
       "<10000x6240 sparse matrix of type '<class 'numpy.float64'>'\n",
       "\twith 137971 stored elements in Compressed Sparse Row format>"
      ]
     },
     "execution_count": 129,
     "metadata": {},
     "output_type": "execute_result"
    }
   ],
   "source": [
    "feat_holdout_trans = column_trans.transform(feat_holdout)\n",
    "feat_holdout_trans"
   ]
  },
  {
   "cell_type": "code",
   "execution_count": 130,
   "metadata": {},
   "outputs": [
    {
     "data": {
      "text/plain": [
       "{'boosting_type': 'gbdt',\n",
       " 'class_weight': None,\n",
       " 'colsample_bytree': 1.0,\n",
       " 'importance_type': 'split',\n",
       " 'learning_rate': 0.1,\n",
       " 'max_depth': 4,\n",
       " 'min_child_samples': 20,\n",
       " 'min_child_weight': 0.001,\n",
       " 'min_split_gain': 0.0,\n",
       " 'n_estimators': 150,\n",
       " 'n_jobs': None,\n",
       " 'num_leaves': 50,\n",
       " 'objective': None,\n",
       " 'reg_alpha': 0.0,\n",
       " 'reg_lambda': 0.0,\n",
       " 'subsample': 1.0,\n",
       " 'subsample_for_bin': 200000,\n",
       " 'subsample_freq': 0}"
      ]
     },
     "execution_count": 130,
     "metadata": {},
     "output_type": "execute_result"
    }
   ],
   "source": [
    "holdout_params = clf_lgbm.best_estimator_.get_params()\n",
    "holdout_params.pop(\"random_state\")\n",
    "holdout_params"
   ]
  },
  {
   "cell_type": "code",
   "execution_count": 131,
   "metadata": {},
   "outputs": [],
   "source": [
    "holdout_model = LGBMRegressor(verbose=2, random_state=RANDOM, **holdout_params)"
   ]
  },
  {
   "cell_type": "code",
   "execution_count": 132,
   "metadata": {},
   "outputs": [
    {
     "name": "stdout",
     "output_type": "stream",
     "text": [
      "[LightGBM] [Debug] Dataset::GetMultiBinFromSparseFeatures: sparse rate 0.994806\n",
      "[LightGBM] [Debug] Dataset::GetMultiBinFromAllFeatures: sparse rate 0.990960\n",
      "[LightGBM] [Debug] init for col-wise cost 0.069575 seconds, init for row-wise cost 0.079582 seconds\n",
      "[LightGBM] [Info] Auto-choosing row-wise multi-threading, the overhead of testing was 0.070661 seconds.\n",
      "You can set `force_row_wise=true` to remove the overhead.\n",
      "And if memory is not enough, you can set `force_col_wise=true`.\n",
      "[LightGBM] [Debug] Using Sparse Multi-Val Bin\n",
      "[LightGBM] [Info] Total Bins 3181\n",
      "[LightGBM] [Info] Number of data points in the train set: 49998, number of used features: 1178\n",
      "[LightGBM] [Info] Start training from score 5.892256\n",
      "[LightGBM] [Debug] Trained a tree with leaves = 16 and depth = 4\n",
      "[LightGBM] [Debug] Trained a tree with leaves = 16 and depth = 4\n",
      "[LightGBM] [Debug] Trained a tree with leaves = 16 and depth = 4\n",
      "[LightGBM] [Debug] Trained a tree with leaves = 16 and depth = 4\n",
      "[LightGBM] [Debug] Trained a tree with leaves = 16 and depth = 4\n",
      "[LightGBM] [Debug] Trained a tree with leaves = 16 and depth = 4\n",
      "[LightGBM] [Debug] Trained a tree with leaves = 16 and depth = 4\n",
      "[LightGBM] [Debug] Trained a tree with leaves = 16 and depth = 4\n",
      "[LightGBM] [Debug] Trained a tree with leaves = 16 and depth = 4\n",
      "[LightGBM] [Debug] Trained a tree with leaves = 16 and depth = 4\n",
      "[LightGBM] [Warning] No further splits with positive gain, best gain: -inf\n",
      "[LightGBM] [Debug] Trained a tree with leaves = 15 and depth = 4\n",
      "[LightGBM] [Debug] Trained a tree with leaves = 16 and depth = 4\n",
      "[LightGBM] [Debug] Trained a tree with leaves = 16 and depth = 4\n",
      "[LightGBM] [Debug] Trained a tree with leaves = 16 and depth = 4\n",
      "[LightGBM] [Debug] Trained a tree with leaves = 16 and depth = 4\n",
      "[LightGBM] [Warning] No further splits with positive gain, best gain: -inf\n",
      "[LightGBM] [Debug] Trained a tree with leaves = 15 and depth = 4\n",
      "[LightGBM] [Debug] Trained a tree with leaves = 16 and depth = 4\n",
      "[LightGBM] [Warning] No further splits with positive gain, best gain: -inf\n",
      "[LightGBM] [Debug] Trained a tree with leaves = 15 and depth = 4\n",
      "[LightGBM] [Warning] No further splits with positive gain, best gain: -inf\n",
      "[LightGBM] [Debug] Trained a tree with leaves = 15 and depth = 4\n",
      "[LightGBM] [Debug] Trained a tree with leaves = 16 and depth = 4\n",
      "[LightGBM] [Warning] No further splits with positive gain, best gain: -inf\n",
      "[LightGBM] [Debug] Trained a tree with leaves = 15 and depth = 4\n",
      "[LightGBM] [Warning] No further splits with positive gain, best gain: -inf\n",
      "[LightGBM] [Debug] Trained a tree with leaves = 15 and depth = 4\n",
      "[LightGBM] [Debug] Trained a tree with leaves = 16 and depth = 4\n",
      "[LightGBM] [Debug] Trained a tree with leaves = 16 and depth = 4\n",
      "[LightGBM] [Debug] Trained a tree with leaves = 16 and depth = 4\n",
      "[LightGBM] [Debug] Trained a tree with leaves = 16 and depth = 4\n",
      "[LightGBM] [Debug] Trained a tree with leaves = 16 and depth = 4\n",
      "[LightGBM] [Warning] No further splits with positive gain, best gain: -inf\n",
      "[LightGBM] [Debug] Trained a tree with leaves = 15 and depth = 4\n",
      "[LightGBM] [Debug] Trained a tree with leaves = 16 and depth = 4\n",
      "[LightGBM] [Warning] No further splits with positive gain, best gain: -inf\n",
      "[LightGBM] [Debug] Trained a tree with leaves = 15 and depth = 4\n",
      "[LightGBM] [Warning] No further splits with positive gain, best gain: -inf\n",
      "[LightGBM] [Debug] Trained a tree with leaves = 15 and depth = 4\n",
      "[LightGBM] [Debug] Trained a tree with leaves = 16 and depth = 4\n",
      "[LightGBM] [Warning] No further splits with positive gain, best gain: -inf\n",
      "[LightGBM] [Debug] Trained a tree with leaves = 13 and depth = 4\n",
      "[LightGBM] [Warning] No further splits with positive gain, best gain: -inf\n",
      "[LightGBM] [Debug] Trained a tree with leaves = 15 and depth = 4\n",
      "[LightGBM] [Warning] No further splits with positive gain, best gain: -inf\n",
      "[LightGBM] [Debug] Trained a tree with leaves = 15 and depth = 4\n",
      "[LightGBM] [Warning] No further splits with positive gain, best gain: -inf\n",
      "[LightGBM] [Debug] Trained a tree with leaves = 11 and depth = 4\n",
      "[LightGBM] [Warning] No further splits with positive gain, best gain: -inf\n",
      "[LightGBM] [Debug] Trained a tree with leaves = 13 and depth = 4\n",
      "[LightGBM] [Warning] No further splits with positive gain, best gain: -inf\n",
      "[LightGBM] [Debug] Trained a tree with leaves = 14 and depth = 4\n",
      "[LightGBM] [Warning] No further splits with positive gain, best gain: -inf\n",
      "[LightGBM] [Debug] Trained a tree with leaves = 11 and depth = 4\n",
      "[LightGBM] [Warning] No further splits with positive gain, best gain: -inf\n",
      "[LightGBM] [Debug] Trained a tree with leaves = 12 and depth = 4\n",
      "[LightGBM] [Warning] No further splits with positive gain, best gain: -inf\n",
      "[LightGBM] [Debug] Trained a tree with leaves = 12 and depth = 4\n",
      "[LightGBM] [Warning] No further splits with positive gain, best gain: -inf\n",
      "[LightGBM] [Debug] Trained a tree with leaves = 12 and depth = 4\n",
      "[LightGBM] [Warning] No further splits with positive gain, best gain: -inf\n",
      "[LightGBM] [Debug] Trained a tree with leaves = 12 and depth = 4\n",
      "[LightGBM] [Warning] No further splits with positive gain, best gain: -inf\n",
      "[LightGBM] [Debug] Trained a tree with leaves = 12 and depth = 4\n",
      "[LightGBM] [Warning] No further splits with positive gain, best gain: -inf\n",
      "[LightGBM] [Debug] Trained a tree with leaves = 11 and depth = 4\n",
      "[LightGBM] [Warning] No further splits with positive gain, best gain: -inf\n",
      "[LightGBM] [Debug] Trained a tree with leaves = 11 and depth = 4\n",
      "[LightGBM] [Warning] No further splits with positive gain, best gain: -inf\n",
      "[LightGBM] [Debug] Trained a tree with leaves = 15 and depth = 4\n",
      "[LightGBM] [Warning] No further splits with positive gain, best gain: -inf\n",
      "[LightGBM] [Debug] Trained a tree with leaves = 12 and depth = 4\n",
      "[LightGBM] [Warning] No further splits with positive gain, best gain: -inf\n",
      "[LightGBM] [Debug] Trained a tree with leaves = 12 and depth = 4\n",
      "[LightGBM] [Warning] No further splits with positive gain, best gain: -inf\n",
      "[LightGBM] [Debug] Trained a tree with leaves = 10 and depth = 4\n",
      "[LightGBM] [Warning] No further splits with positive gain, best gain: -inf\n",
      "[LightGBM] [Debug] Trained a tree with leaves = 10 and depth = 4\n",
      "[LightGBM] [Warning] No further splits with positive gain, best gain: -inf\n",
      "[LightGBM] [Debug] Trained a tree with leaves = 9 and depth = 4\n",
      "[LightGBM] [Warning] No further splits with positive gain, best gain: -inf\n",
      "[LightGBM] [Debug] Trained a tree with leaves = 9 and depth = 4\n",
      "[LightGBM] [Warning] No further splits with positive gain, best gain: -inf\n",
      "[LightGBM] [Debug] Trained a tree with leaves = 10 and depth = 4\n",
      "[LightGBM] [Warning] No further splits with positive gain, best gain: -inf\n",
      "[LightGBM] [Debug] Trained a tree with leaves = 13 and depth = 4\n",
      "[LightGBM] [Warning] No further splits with positive gain, best gain: -inf\n",
      "[LightGBM] [Debug] Trained a tree with leaves = 11 and depth = 4\n",
      "[LightGBM] [Warning] No further splits with positive gain, best gain: -inf\n",
      "[LightGBM] [Debug] Trained a tree with leaves = 6 and depth = 4\n",
      "[LightGBM] [Warning] No further splits with positive gain, best gain: -inf\n",
      "[LightGBM] [Debug] Trained a tree with leaves = 10 and depth = 4\n",
      "[LightGBM] [Warning] No further splits with positive gain, best gain: -inf\n",
      "[LightGBM] [Debug] Trained a tree with leaves = 9 and depth = 4\n",
      "[LightGBM] [Warning] No further splits with positive gain, best gain: -inf\n",
      "[LightGBM] [Debug] Trained a tree with leaves = 15 and depth = 4\n",
      "[LightGBM] [Warning] No further splits with positive gain, best gain: -inf\n",
      "[LightGBM] [Debug] Trained a tree with leaves = 9 and depth = 4\n",
      "[LightGBM] [Warning] No further splits with positive gain, best gain: -inf\n",
      "[LightGBM] [Debug] Trained a tree with leaves = 11 and depth = 4\n",
      "[LightGBM] [Warning] No further splits with positive gain, best gain: -inf\n",
      "[LightGBM] [Debug] Trained a tree with leaves = 14 and depth = 4\n",
      "[LightGBM] [Warning] No further splits with positive gain, best gain: -inf\n",
      "[LightGBM] [Debug] Trained a tree with leaves = 10 and depth = 4\n",
      "[LightGBM] [Warning] No further splits with positive gain, best gain: -inf\n",
      "[LightGBM] [Debug] Trained a tree with leaves = 11 and depth = 4\n",
      "[LightGBM] [Warning] No further splits with positive gain, best gain: -inf\n",
      "[LightGBM] [Debug] Trained a tree with leaves = 9 and depth = 4\n",
      "[LightGBM] [Warning] No further splits with positive gain, best gain: -inf\n",
      "[LightGBM] [Debug] Trained a tree with leaves = 8 and depth = 4\n",
      "[LightGBM] [Warning] No further splits with positive gain, best gain: -inf\n",
      "[LightGBM] [Debug] Trained a tree with leaves = 6 and depth = 4\n",
      "[LightGBM] [Warning] No further splits with positive gain, best gain: -inf\n",
      "[LightGBM] [Debug] Trained a tree with leaves = 7 and depth = 4\n",
      "[LightGBM] [Warning] No further splits with positive gain, best gain: -inf\n",
      "[LightGBM] [Debug] Trained a tree with leaves = 13 and depth = 4\n",
      "[LightGBM] [Warning] No further splits with positive gain, best gain: -inf\n",
      "[LightGBM] [Debug] Trained a tree with leaves = 9 and depth = 4\n",
      "[LightGBM] [Warning] No further splits with positive gain, best gain: -inf\n",
      "[LightGBM] [Debug] Trained a tree with leaves = 10 and depth = 4\n",
      "[LightGBM] [Warning] No further splits with positive gain, best gain: -inf\n",
      "[LightGBM] [Debug] Trained a tree with leaves = 7 and depth = 4\n",
      "[LightGBM] [Warning] No further splits with positive gain, best gain: -inf\n",
      "[LightGBM] [Debug] Trained a tree with leaves = 10 and depth = 4\n",
      "[LightGBM] [Warning] No further splits with positive gain, best gain: -inf\n",
      "[LightGBM] [Debug] Trained a tree with leaves = 13 and depth = 4\n",
      "[LightGBM] [Warning] No further splits with positive gain, best gain: -inf\n",
      "[LightGBM] [Debug] Trained a tree with leaves = 9 and depth = 4\n",
      "[LightGBM] [Warning] No further splits with positive gain, best gain: -inf\n",
      "[LightGBM] [Debug] Trained a tree with leaves = 6 and depth = 4\n",
      "[LightGBM] [Warning] No further splits with positive gain, best gain: -inf\n",
      "[LightGBM] [Debug] Trained a tree with leaves = 10 and depth = 4\n",
      "[LightGBM] [Warning] No further splits with positive gain, best gain: -inf\n",
      "[LightGBM] [Debug] Trained a tree with leaves = 10 and depth = 4\n",
      "[LightGBM] [Warning] No further splits with positive gain, best gain: -inf\n",
      "[LightGBM] [Debug] Trained a tree with leaves = 8 and depth = 4\n",
      "[LightGBM] [Warning] No further splits with positive gain, best gain: -inf\n",
      "[LightGBM] [Debug] Trained a tree with leaves = 7 and depth = 4\n",
      "[LightGBM] [Warning] No further splits with positive gain, best gain: -inf\n",
      "[LightGBM] [Debug] Trained a tree with leaves = 7 and depth = 4\n",
      "[LightGBM] [Warning] No further splits with positive gain, best gain: -inf\n",
      "[LightGBM] [Debug] Trained a tree with leaves = 8 and depth = 4\n",
      "[LightGBM] [Warning] No further splits with positive gain, best gain: -inf\n",
      "[LightGBM] [Debug] Trained a tree with leaves = 6 and depth = 4\n",
      "[LightGBM] [Warning] No further splits with positive gain, best gain: -inf\n",
      "[LightGBM] [Debug] Trained a tree with leaves = 11 and depth = 4\n",
      "[LightGBM] [Warning] No further splits with positive gain, best gain: -inf\n",
      "[LightGBM] [Debug] Trained a tree with leaves = 13 and depth = 4\n",
      "[LightGBM] [Warning] No further splits with positive gain, best gain: -inf\n",
      "[LightGBM] [Debug] Trained a tree with leaves = 10 and depth = 4\n",
      "[LightGBM] [Warning] No further splits with positive gain, best gain: -inf\n",
      "[LightGBM] [Debug] Trained a tree with leaves = 8 and depth = 4\n",
      "[LightGBM] [Warning] No further splits with positive gain, best gain: -inf\n",
      "[LightGBM] [Debug] Trained a tree with leaves = 6 and depth = 4\n",
      "[LightGBM] [Warning] No further splits with positive gain, best gain: -inf\n",
      "[LightGBM] [Debug] Trained a tree with leaves = 11 and depth = 4\n",
      "[LightGBM] [Warning] No further splits with positive gain, best gain: -inf\n",
      "[LightGBM] [Debug] Trained a tree with leaves = 7 and depth = 4\n",
      "[LightGBM] [Warning] No further splits with positive gain, best gain: -inf\n",
      "[LightGBM] [Debug] Trained a tree with leaves = 9 and depth = 4\n",
      "[LightGBM] [Warning] No further splits with positive gain, best gain: -inf\n",
      "[LightGBM] [Debug] Trained a tree with leaves = 9 and depth = 4\n",
      "[LightGBM] [Warning] No further splits with positive gain, best gain: -inf\n",
      "[LightGBM] [Debug] Trained a tree with leaves = 13 and depth = 4\n",
      "[LightGBM] [Warning] No further splits with positive gain, best gain: -inf\n",
      "[LightGBM] [Debug] Trained a tree with leaves = 13 and depth = 4\n",
      "[LightGBM] [Warning] No further splits with positive gain, best gain: -inf\n",
      "[LightGBM] [Debug] Trained a tree with leaves = 7 and depth = 4\n",
      "[LightGBM] [Warning] No further splits with positive gain, best gain: -inf\n",
      "[LightGBM] [Debug] Trained a tree with leaves = 10 and depth = 4\n",
      "[LightGBM] [Warning] No further splits with positive gain, best gain: -inf\n",
      "[LightGBM] [Debug] Trained a tree with leaves = 6 and depth = 4\n",
      "[LightGBM] [Warning] No further splits with positive gain, best gain: -inf\n",
      "[LightGBM] [Debug] Trained a tree with leaves = 12 and depth = 4\n",
      "[LightGBM] [Warning] No further splits with positive gain, best gain: -inf\n",
      "[LightGBM] [Debug] Trained a tree with leaves = 11 and depth = 4\n",
      "[LightGBM] [Warning] No further splits with positive gain, best gain: -inf\n",
      "[LightGBM] [Debug] Trained a tree with leaves = 9 and depth = 4\n",
      "[LightGBM] [Warning] No further splits with positive gain, best gain: -inf\n",
      "[LightGBM] [Debug] Trained a tree with leaves = 10 and depth = 4\n",
      "[LightGBM] [Warning] No further splits with positive gain, best gain: -inf\n",
      "[LightGBM] [Debug] Trained a tree with leaves = 6 and depth = 4\n",
      "[LightGBM] [Warning] No further splits with positive gain, best gain: -inf\n",
      "[LightGBM] [Debug] Trained a tree with leaves = 8 and depth = 4\n",
      "[LightGBM] [Warning] No further splits with positive gain, best gain: -inf\n",
      "[LightGBM] [Debug] Trained a tree with leaves = 13 and depth = 4\n",
      "[LightGBM] [Warning] No further splits with positive gain, best gain: -inf\n",
      "[LightGBM] [Debug] Trained a tree with leaves = 9 and depth = 4\n",
      "[LightGBM] [Warning] No further splits with positive gain, best gain: -inf\n",
      "[LightGBM] [Debug] Trained a tree with leaves = 8 and depth = 4\n",
      "[LightGBM] [Warning] No further splits with positive gain, best gain: -inf\n",
      "[LightGBM] [Debug] Trained a tree with leaves = 13 and depth = 4\n",
      "[LightGBM] [Warning] No further splits with positive gain, best gain: -inf\n",
      "[LightGBM] [Debug] Trained a tree with leaves = 9 and depth = 4\n",
      "[LightGBM] [Warning] No further splits with positive gain, best gain: -inf\n",
      "[LightGBM] [Debug] Trained a tree with leaves = 7 and depth = 4\n",
      "[LightGBM] [Warning] No further splits with positive gain, best gain: -inf\n",
      "[LightGBM] [Debug] Trained a tree with leaves = 10 and depth = 4\n",
      "[LightGBM] [Warning] No further splits with positive gain, best gain: -inf\n",
      "[LightGBM] [Debug] Trained a tree with leaves = 7 and depth = 4\n",
      "[LightGBM] [Warning] No further splits with positive gain, best gain: -inf\n",
      "[LightGBM] [Debug] Trained a tree with leaves = 5 and depth = 4\n",
      "[LightGBM] [Warning] No further splits with positive gain, best gain: -inf\n",
      "[LightGBM] [Debug] Trained a tree with leaves = 9 and depth = 4\n",
      "[LightGBM] [Warning] No further splits with positive gain, best gain: -inf\n",
      "[LightGBM] [Debug] Trained a tree with leaves = 13 and depth = 4\n",
      "[LightGBM] [Warning] No further splits with positive gain, best gain: -inf\n",
      "[LightGBM] [Debug] Trained a tree with leaves = 6 and depth = 4\n",
      "[LightGBM] [Warning] No further splits with positive gain, best gain: -inf\n",
      "[LightGBM] [Debug] Trained a tree with leaves = 7 and depth = 4\n",
      "[LightGBM] [Warning] No further splits with positive gain, best gain: -inf\n",
      "[LightGBM] [Debug] Trained a tree with leaves = 13 and depth = 4\n",
      "[LightGBM] [Warning] No further splits with positive gain, best gain: -inf\n",
      "[LightGBM] [Debug] Trained a tree with leaves = 7 and depth = 4\n",
      "[LightGBM] [Warning] No further splits with positive gain, best gain: -inf\n",
      "[LightGBM] [Debug] Trained a tree with leaves = 8 and depth = 4\n",
      "[LightGBM] [Warning] No further splits with positive gain, best gain: -inf\n",
      "[LightGBM] [Debug] Trained a tree with leaves = 11 and depth = 4\n",
      "[LightGBM] [Warning] No further splits with positive gain, best gain: -inf\n",
      "[LightGBM] [Debug] Trained a tree with leaves = 8 and depth = 4\n",
      "[LightGBM] [Warning] No further splits with positive gain, best gain: -inf\n",
      "[LightGBM] [Debug] Trained a tree with leaves = 8 and depth = 4\n",
      "[LightGBM] [Warning] No further splits with positive gain, best gain: -inf\n",
      "[LightGBM] [Debug] Trained a tree with leaves = 7 and depth = 4\n",
      "[LightGBM] [Warning] No further splits with positive gain, best gain: -inf\n",
      "[LightGBM] [Debug] Trained a tree with leaves = 13 and depth = 4\n",
      "[LightGBM] [Warning] No further splits with positive gain, best gain: -inf\n",
      "[LightGBM] [Debug] Trained a tree with leaves = 11 and depth = 4\n",
      "[LightGBM] [Warning] No further splits with positive gain, best gain: -inf\n",
      "[LightGBM] [Debug] Trained a tree with leaves = 9 and depth = 4\n",
      "[LightGBM] [Warning] No further splits with positive gain, best gain: -inf\n",
      "[LightGBM] [Debug] Trained a tree with leaves = 8 and depth = 4\n",
      "[LightGBM] [Warning] No further splits with positive gain, best gain: -inf\n",
      "[LightGBM] [Debug] Trained a tree with leaves = 9 and depth = 4\n",
      "[LightGBM] [Warning] No further splits with positive gain, best gain: -inf\n",
      "[LightGBM] [Debug] Trained a tree with leaves = 8 and depth = 4\n",
      "[LightGBM] [Warning] No further splits with positive gain, best gain: -inf\n",
      "[LightGBM] [Debug] Trained a tree with leaves = 11 and depth = 4\n",
      "[LightGBM] [Warning] No further splits with positive gain, best gain: -inf\n",
      "[LightGBM] [Debug] Trained a tree with leaves = 12 and depth = 4\n",
      "[LightGBM] [Warning] No further splits with positive gain, best gain: -inf\n",
      "[LightGBM] [Debug] Trained a tree with leaves = 9 and depth = 4\n",
      "[LightGBM] [Warning] No further splits with positive gain, best gain: -inf\n",
      "[LightGBM] [Debug] Trained a tree with leaves = 12 and depth = 4\n",
      "[LightGBM] [Warning] No further splits with positive gain, best gain: -inf\n",
      "[LightGBM] [Debug] Trained a tree with leaves = 8 and depth = 4\n",
      "[LightGBM] [Warning] No further splits with positive gain, best gain: -inf\n",
      "[LightGBM] [Debug] Trained a tree with leaves = 7 and depth = 4\n",
      "[LightGBM] [Warning] No further splits with positive gain, best gain: -inf\n",
      "[LightGBM] [Debug] Trained a tree with leaves = 10 and depth = 4\n",
      "[LightGBM] [Warning] No further splits with positive gain, best gain: -inf\n",
      "[LightGBM] [Debug] Trained a tree with leaves = 13 and depth = 4\n",
      "[LightGBM] [Warning] No further splits with positive gain, best gain: -inf\n",
      "[LightGBM] [Debug] Trained a tree with leaves = 9 and depth = 4\n",
      "[LightGBM] [Warning] No further splits with positive gain, best gain: -inf\n",
      "[LightGBM] [Debug] Trained a tree with leaves = 8 and depth = 4\n",
      "[LightGBM] [Warning] No further splits with positive gain, best gain: -inf\n",
      "[LightGBM] [Debug] Trained a tree with leaves = 10 and depth = 4\n",
      "[LightGBM] [Warning] No further splits with positive gain, best gain: -inf\n",
      "[LightGBM] [Debug] Trained a tree with leaves = 10 and depth = 4\n",
      "[LightGBM] [Warning] No further splits with positive gain, best gain: -inf\n",
      "[LightGBM] [Debug] Trained a tree with leaves = 9 and depth = 4\n",
      "[LightGBM] [Warning] No further splits with positive gain, best gain: -inf\n",
      "[LightGBM] [Debug] Trained a tree with leaves = 7 and depth = 4\n",
      "[LightGBM] [Warning] No further splits with positive gain, best gain: -inf\n",
      "[LightGBM] [Debug] Trained a tree with leaves = 10 and depth = 4\n",
      "[LightGBM] [Warning] No further splits with positive gain, best gain: -inf\n",
      "[LightGBM] [Debug] Trained a tree with leaves = 11 and depth = 4\n",
      "[LightGBM] [Warning] No further splits with positive gain, best gain: -inf\n",
      "[LightGBM] [Debug] Trained a tree with leaves = 8 and depth = 4\n",
      "[LightGBM] [Warning] No further splits with positive gain, best gain: -inf\n",
      "[LightGBM] [Debug] Trained a tree with leaves = 12 and depth = 4\n",
      "[LightGBM] [Warning] No further splits with positive gain, best gain: -inf\n",
      "[LightGBM] [Debug] Trained a tree with leaves = 9 and depth = 4\n",
      "[LightGBM] [Warning] No further splits with positive gain, best gain: -inf\n",
      "[LightGBM] [Debug] Trained a tree with leaves = 9 and depth = 4\n"
     ]
    },
    {
     "data": {
      "text/html": [
       "<style>#sk-container-id-2 {\n",
       "  /* Definition of color scheme common for light and dark mode */\n",
       "  --sklearn-color-text: black;\n",
       "  --sklearn-color-line: gray;\n",
       "  /* Definition of color scheme for unfitted estimators */\n",
       "  --sklearn-color-unfitted-level-0: #fff5e6;\n",
       "  --sklearn-color-unfitted-level-1: #f6e4d2;\n",
       "  --sklearn-color-unfitted-level-2: #ffe0b3;\n",
       "  --sklearn-color-unfitted-level-3: chocolate;\n",
       "  /* Definition of color scheme for fitted estimators */\n",
       "  --sklearn-color-fitted-level-0: #f0f8ff;\n",
       "  --sklearn-color-fitted-level-1: #d4ebff;\n",
       "  --sklearn-color-fitted-level-2: #b3dbfd;\n",
       "  --sklearn-color-fitted-level-3: cornflowerblue;\n",
       "\n",
       "  /* Specific color for light theme */\n",
       "  --sklearn-color-text-on-default-background: var(--sg-text-color, var(--theme-code-foreground, var(--jp-content-font-color1, black)));\n",
       "  --sklearn-color-background: var(--sg-background-color, var(--theme-background, var(--jp-layout-color0, white)));\n",
       "  --sklearn-color-border-box: var(--sg-text-color, var(--theme-code-foreground, var(--jp-content-font-color1, black)));\n",
       "  --sklearn-color-icon: #696969;\n",
       "\n",
       "  @media (prefers-color-scheme: dark) {\n",
       "    /* Redefinition of color scheme for dark theme */\n",
       "    --sklearn-color-text-on-default-background: var(--sg-text-color, var(--theme-code-foreground, var(--jp-content-font-color1, white)));\n",
       "    --sklearn-color-background: var(--sg-background-color, var(--theme-background, var(--jp-layout-color0, #111)));\n",
       "    --sklearn-color-border-box: var(--sg-text-color, var(--theme-code-foreground, var(--jp-content-font-color1, white)));\n",
       "    --sklearn-color-icon: #878787;\n",
       "  }\n",
       "}\n",
       "\n",
       "#sk-container-id-2 {\n",
       "  color: var(--sklearn-color-text);\n",
       "}\n",
       "\n",
       "#sk-container-id-2 pre {\n",
       "  padding: 0;\n",
       "}\n",
       "\n",
       "#sk-container-id-2 input.sk-hidden--visually {\n",
       "  border: 0;\n",
       "  clip: rect(1px 1px 1px 1px);\n",
       "  clip: rect(1px, 1px, 1px, 1px);\n",
       "  height: 1px;\n",
       "  margin: -1px;\n",
       "  overflow: hidden;\n",
       "  padding: 0;\n",
       "  position: absolute;\n",
       "  width: 1px;\n",
       "}\n",
       "\n",
       "#sk-container-id-2 div.sk-dashed-wrapped {\n",
       "  border: 1px dashed var(--sklearn-color-line);\n",
       "  margin: 0 0.4em 0.5em 0.4em;\n",
       "  box-sizing: border-box;\n",
       "  padding-bottom: 0.4em;\n",
       "  background-color: var(--sklearn-color-background);\n",
       "}\n",
       "\n",
       "#sk-container-id-2 div.sk-container {\n",
       "  /* jupyter's `normalize.less` sets `[hidden] { display: none; }`\n",
       "     but bootstrap.min.css set `[hidden] { display: none !important; }`\n",
       "     so we also need the `!important` here to be able to override the\n",
       "     default hidden behavior on the sphinx rendered scikit-learn.org.\n",
       "     See: https://github.com/scikit-learn/scikit-learn/issues/21755 */\n",
       "  display: inline-block !important;\n",
       "  position: relative;\n",
       "}\n",
       "\n",
       "#sk-container-id-2 div.sk-text-repr-fallback {\n",
       "  display: none;\n",
       "}\n",
       "\n",
       "div.sk-parallel-item,\n",
       "div.sk-serial,\n",
       "div.sk-item {\n",
       "  /* draw centered vertical line to link estimators */\n",
       "  background-image: linear-gradient(var(--sklearn-color-text-on-default-background), var(--sklearn-color-text-on-default-background));\n",
       "  background-size: 2px 100%;\n",
       "  background-repeat: no-repeat;\n",
       "  background-position: center center;\n",
       "}\n",
       "\n",
       "/* Parallel-specific style estimator block */\n",
       "\n",
       "#sk-container-id-2 div.sk-parallel-item::after {\n",
       "  content: \"\";\n",
       "  width: 100%;\n",
       "  border-bottom: 2px solid var(--sklearn-color-text-on-default-background);\n",
       "  flex-grow: 1;\n",
       "}\n",
       "\n",
       "#sk-container-id-2 div.sk-parallel {\n",
       "  display: flex;\n",
       "  align-items: stretch;\n",
       "  justify-content: center;\n",
       "  background-color: var(--sklearn-color-background);\n",
       "  position: relative;\n",
       "}\n",
       "\n",
       "#sk-container-id-2 div.sk-parallel-item {\n",
       "  display: flex;\n",
       "  flex-direction: column;\n",
       "}\n",
       "\n",
       "#sk-container-id-2 div.sk-parallel-item:first-child::after {\n",
       "  align-self: flex-end;\n",
       "  width: 50%;\n",
       "}\n",
       "\n",
       "#sk-container-id-2 div.sk-parallel-item:last-child::after {\n",
       "  align-self: flex-start;\n",
       "  width: 50%;\n",
       "}\n",
       "\n",
       "#sk-container-id-2 div.sk-parallel-item:only-child::after {\n",
       "  width: 0;\n",
       "}\n",
       "\n",
       "/* Serial-specific style estimator block */\n",
       "\n",
       "#sk-container-id-2 div.sk-serial {\n",
       "  display: flex;\n",
       "  flex-direction: column;\n",
       "  align-items: center;\n",
       "  background-color: var(--sklearn-color-background);\n",
       "  padding-right: 1em;\n",
       "  padding-left: 1em;\n",
       "}\n",
       "\n",
       "\n",
       "/* Toggleable style: style used for estimator/Pipeline/ColumnTransformer box that is\n",
       "clickable and can be expanded/collapsed.\n",
       "- Pipeline and ColumnTransformer use this feature and define the default style\n",
       "- Estimators will overwrite some part of the style using the `sk-estimator` class\n",
       "*/\n",
       "\n",
       "/* Pipeline and ColumnTransformer style (default) */\n",
       "\n",
       "#sk-container-id-2 div.sk-toggleable {\n",
       "  /* Default theme specific background. It is overwritten whether we have a\n",
       "  specific estimator or a Pipeline/ColumnTransformer */\n",
       "  background-color: var(--sklearn-color-background);\n",
       "}\n",
       "\n",
       "/* Toggleable label */\n",
       "#sk-container-id-2 label.sk-toggleable__label {\n",
       "  cursor: pointer;\n",
       "  display: block;\n",
       "  width: 100%;\n",
       "  margin-bottom: 0;\n",
       "  padding: 0.5em;\n",
       "  box-sizing: border-box;\n",
       "  text-align: center;\n",
       "}\n",
       "\n",
       "#sk-container-id-2 label.sk-toggleable__label-arrow:before {\n",
       "  /* Arrow on the left of the label */\n",
       "  content: \"▸\";\n",
       "  float: left;\n",
       "  margin-right: 0.25em;\n",
       "  color: var(--sklearn-color-icon);\n",
       "}\n",
       "\n",
       "#sk-container-id-2 label.sk-toggleable__label-arrow:hover:before {\n",
       "  color: var(--sklearn-color-text);\n",
       "}\n",
       "\n",
       "/* Toggleable content - dropdown */\n",
       "\n",
       "#sk-container-id-2 div.sk-toggleable__content {\n",
       "  max-height: 0;\n",
       "  max-width: 0;\n",
       "  overflow: hidden;\n",
       "  text-align: left;\n",
       "  /* unfitted */\n",
       "  background-color: var(--sklearn-color-unfitted-level-0);\n",
       "}\n",
       "\n",
       "#sk-container-id-2 div.sk-toggleable__content.fitted {\n",
       "  /* fitted */\n",
       "  background-color: var(--sklearn-color-fitted-level-0);\n",
       "}\n",
       "\n",
       "#sk-container-id-2 div.sk-toggleable__content pre {\n",
       "  margin: 0.2em;\n",
       "  border-radius: 0.25em;\n",
       "  color: var(--sklearn-color-text);\n",
       "  /* unfitted */\n",
       "  background-color: var(--sklearn-color-unfitted-level-0);\n",
       "}\n",
       "\n",
       "#sk-container-id-2 div.sk-toggleable__content.fitted pre {\n",
       "  /* unfitted */\n",
       "  background-color: var(--sklearn-color-fitted-level-0);\n",
       "}\n",
       "\n",
       "#sk-container-id-2 input.sk-toggleable__control:checked~div.sk-toggleable__content {\n",
       "  /* Expand drop-down */\n",
       "  max-height: 200px;\n",
       "  max-width: 100%;\n",
       "  overflow: auto;\n",
       "}\n",
       "\n",
       "#sk-container-id-2 input.sk-toggleable__control:checked~label.sk-toggleable__label-arrow:before {\n",
       "  content: \"▾\";\n",
       "}\n",
       "\n",
       "/* Pipeline/ColumnTransformer-specific style */\n",
       "\n",
       "#sk-container-id-2 div.sk-label input.sk-toggleable__control:checked~label.sk-toggleable__label {\n",
       "  color: var(--sklearn-color-text);\n",
       "  background-color: var(--sklearn-color-unfitted-level-2);\n",
       "}\n",
       "\n",
       "#sk-container-id-2 div.sk-label.fitted input.sk-toggleable__control:checked~label.sk-toggleable__label {\n",
       "  background-color: var(--sklearn-color-fitted-level-2);\n",
       "}\n",
       "\n",
       "/* Estimator-specific style */\n",
       "\n",
       "/* Colorize estimator box */\n",
       "#sk-container-id-2 div.sk-estimator input.sk-toggleable__control:checked~label.sk-toggleable__label {\n",
       "  /* unfitted */\n",
       "  background-color: var(--sklearn-color-unfitted-level-2);\n",
       "}\n",
       "\n",
       "#sk-container-id-2 div.sk-estimator.fitted input.sk-toggleable__control:checked~label.sk-toggleable__label {\n",
       "  /* fitted */\n",
       "  background-color: var(--sklearn-color-fitted-level-2);\n",
       "}\n",
       "\n",
       "#sk-container-id-2 div.sk-label label.sk-toggleable__label,\n",
       "#sk-container-id-2 div.sk-label label {\n",
       "  /* The background is the default theme color */\n",
       "  color: var(--sklearn-color-text-on-default-background);\n",
       "}\n",
       "\n",
       "/* On hover, darken the color of the background */\n",
       "#sk-container-id-2 div.sk-label:hover label.sk-toggleable__label {\n",
       "  color: var(--sklearn-color-text);\n",
       "  background-color: var(--sklearn-color-unfitted-level-2);\n",
       "}\n",
       "\n",
       "/* Label box, darken color on hover, fitted */\n",
       "#sk-container-id-2 div.sk-label.fitted:hover label.sk-toggleable__label.fitted {\n",
       "  color: var(--sklearn-color-text);\n",
       "  background-color: var(--sklearn-color-fitted-level-2);\n",
       "}\n",
       "\n",
       "/* Estimator label */\n",
       "\n",
       "#sk-container-id-2 div.sk-label label {\n",
       "  font-family: monospace;\n",
       "  font-weight: bold;\n",
       "  display: inline-block;\n",
       "  line-height: 1.2em;\n",
       "}\n",
       "\n",
       "#sk-container-id-2 div.sk-label-container {\n",
       "  text-align: center;\n",
       "}\n",
       "\n",
       "/* Estimator-specific */\n",
       "#sk-container-id-2 div.sk-estimator {\n",
       "  font-family: monospace;\n",
       "  border: 1px dotted var(--sklearn-color-border-box);\n",
       "  border-radius: 0.25em;\n",
       "  box-sizing: border-box;\n",
       "  margin-bottom: 0.5em;\n",
       "  /* unfitted */\n",
       "  background-color: var(--sklearn-color-unfitted-level-0);\n",
       "}\n",
       "\n",
       "#sk-container-id-2 div.sk-estimator.fitted {\n",
       "  /* fitted */\n",
       "  background-color: var(--sklearn-color-fitted-level-0);\n",
       "}\n",
       "\n",
       "/* on hover */\n",
       "#sk-container-id-2 div.sk-estimator:hover {\n",
       "  /* unfitted */\n",
       "  background-color: var(--sklearn-color-unfitted-level-2);\n",
       "}\n",
       "\n",
       "#sk-container-id-2 div.sk-estimator.fitted:hover {\n",
       "  /* fitted */\n",
       "  background-color: var(--sklearn-color-fitted-level-2);\n",
       "}\n",
       "\n",
       "/* Specification for estimator info (e.g. \"i\" and \"?\") */\n",
       "\n",
       "/* Common style for \"i\" and \"?\" */\n",
       "\n",
       ".sk-estimator-doc-link,\n",
       "a:link.sk-estimator-doc-link,\n",
       "a:visited.sk-estimator-doc-link {\n",
       "  float: right;\n",
       "  font-size: smaller;\n",
       "  line-height: 1em;\n",
       "  font-family: monospace;\n",
       "  background-color: var(--sklearn-color-background);\n",
       "  border-radius: 1em;\n",
       "  height: 1em;\n",
       "  width: 1em;\n",
       "  text-decoration: none !important;\n",
       "  margin-left: 1ex;\n",
       "  /* unfitted */\n",
       "  border: var(--sklearn-color-unfitted-level-1) 1pt solid;\n",
       "  color: var(--sklearn-color-unfitted-level-1);\n",
       "}\n",
       "\n",
       ".sk-estimator-doc-link.fitted,\n",
       "a:link.sk-estimator-doc-link.fitted,\n",
       "a:visited.sk-estimator-doc-link.fitted {\n",
       "  /* fitted */\n",
       "  border: var(--sklearn-color-fitted-level-1) 1pt solid;\n",
       "  color: var(--sklearn-color-fitted-level-1);\n",
       "}\n",
       "\n",
       "/* On hover */\n",
       "div.sk-estimator:hover .sk-estimator-doc-link:hover,\n",
       ".sk-estimator-doc-link:hover,\n",
       "div.sk-label-container:hover .sk-estimator-doc-link:hover,\n",
       ".sk-estimator-doc-link:hover {\n",
       "  /* unfitted */\n",
       "  background-color: var(--sklearn-color-unfitted-level-3);\n",
       "  color: var(--sklearn-color-background);\n",
       "  text-decoration: none;\n",
       "}\n",
       "\n",
       "div.sk-estimator.fitted:hover .sk-estimator-doc-link.fitted:hover,\n",
       ".sk-estimator-doc-link.fitted:hover,\n",
       "div.sk-label-container:hover .sk-estimator-doc-link.fitted:hover,\n",
       ".sk-estimator-doc-link.fitted:hover {\n",
       "  /* fitted */\n",
       "  background-color: var(--sklearn-color-fitted-level-3);\n",
       "  color: var(--sklearn-color-background);\n",
       "  text-decoration: none;\n",
       "}\n",
       "\n",
       "/* Span, style for the box shown on hovering the info icon */\n",
       ".sk-estimator-doc-link span {\n",
       "  display: none;\n",
       "  z-index: 9999;\n",
       "  position: relative;\n",
       "  font-weight: normal;\n",
       "  right: .2ex;\n",
       "  padding: .5ex;\n",
       "  margin: .5ex;\n",
       "  width: min-content;\n",
       "  min-width: 20ex;\n",
       "  max-width: 50ex;\n",
       "  color: var(--sklearn-color-text);\n",
       "  box-shadow: 2pt 2pt 4pt #999;\n",
       "  /* unfitted */\n",
       "  background: var(--sklearn-color-unfitted-level-0);\n",
       "  border: .5pt solid var(--sklearn-color-unfitted-level-3);\n",
       "}\n",
       "\n",
       ".sk-estimator-doc-link.fitted span {\n",
       "  /* fitted */\n",
       "  background: var(--sklearn-color-fitted-level-0);\n",
       "  border: var(--sklearn-color-fitted-level-3);\n",
       "}\n",
       "\n",
       ".sk-estimator-doc-link:hover span {\n",
       "  display: block;\n",
       "}\n",
       "\n",
       "/* \"?\"-specific style due to the `<a>` HTML tag */\n",
       "\n",
       "#sk-container-id-2 a.estimator_doc_link {\n",
       "  float: right;\n",
       "  font-size: 1rem;\n",
       "  line-height: 1em;\n",
       "  font-family: monospace;\n",
       "  background-color: var(--sklearn-color-background);\n",
       "  border-radius: 1rem;\n",
       "  height: 1rem;\n",
       "  width: 1rem;\n",
       "  text-decoration: none;\n",
       "  /* unfitted */\n",
       "  color: var(--sklearn-color-unfitted-level-1);\n",
       "  border: var(--sklearn-color-unfitted-level-1) 1pt solid;\n",
       "}\n",
       "\n",
       "#sk-container-id-2 a.estimator_doc_link.fitted {\n",
       "  /* fitted */\n",
       "  border: var(--sklearn-color-fitted-level-1) 1pt solid;\n",
       "  color: var(--sklearn-color-fitted-level-1);\n",
       "}\n",
       "\n",
       "/* On hover */\n",
       "#sk-container-id-2 a.estimator_doc_link:hover {\n",
       "  /* unfitted */\n",
       "  background-color: var(--sklearn-color-unfitted-level-3);\n",
       "  color: var(--sklearn-color-background);\n",
       "  text-decoration: none;\n",
       "}\n",
       "\n",
       "#sk-container-id-2 a.estimator_doc_link.fitted:hover {\n",
       "  /* fitted */\n",
       "  background-color: var(--sklearn-color-fitted-level-3);\n",
       "}\n",
       "</style><div id=\"sk-container-id-2\" class=\"sk-top-container\"><div class=\"sk-text-repr-fallback\"><pre>LGBMRegressor(max_depth=4, n_estimators=150, num_leaves=50,\n",
       "              random_state=20240804, verbose=2)</pre><b>In a Jupyter environment, please rerun this cell to show the HTML representation or trust the notebook. <br />On GitHub, the HTML representation is unable to render, please try loading this page with nbviewer.org.</b></div><div class=\"sk-container\" hidden><div class=\"sk-item\"><div class=\"sk-estimator fitted sk-toggleable\"><input class=\"sk-toggleable__control sk-hidden--visually\" id=\"sk-estimator-id-10\" type=\"checkbox\" checked><label for=\"sk-estimator-id-10\" class=\"sk-toggleable__label fitted sk-toggleable__label-arrow fitted\">&nbsp;LGBMRegressor<span class=\"sk-estimator-doc-link fitted\">i<span>Fitted</span></span></label><div class=\"sk-toggleable__content fitted\"><pre>LGBMRegressor(max_depth=4, n_estimators=150, num_leaves=50,\n",
       "              random_state=20240804, verbose=2)</pre></div> </div></div></div></div>"
      ],
      "text/plain": [
       "LGBMRegressor(max_depth=4, n_estimators=150, num_leaves=50,\n",
       "              random_state=20240804, verbose=2)"
      ]
     },
     "execution_count": 132,
     "metadata": {},
     "output_type": "execute_result"
    }
   ],
   "source": [
    "holdout_model.fit(feat_full_trans, targ_full)"
   ]
  },
  {
   "cell_type": "code",
   "execution_count": 133,
   "metadata": {},
   "outputs": [
    {
     "data": {
      "text/plain": [
       "Index(['insured_network', 'nationality', 'gender', 'relation', 'dob',\n",
       "       'diagnoses', 'has_chronic_disease', 'exposition_22',\n",
       "       'number_of_visits_22', 'number_of_services_22', 'exposition_23',\n",
       "       'number_of_visits_23'],\n",
       "      dtype='object')"
      ]
     },
     "execution_count": 133,
     "metadata": {},
     "output_type": "execute_result"
    }
   ],
   "source": [
    "train.columns"
   ]
  },
  {
   "cell_type": "code",
   "execution_count": 134,
   "metadata": {
    "scrolled": true
   },
   "outputs": [
    {
     "data": {
      "text/plain": [
       "Insured_PIN\n",
       "1516424      2.157946\n",
       "22210474     4.532833\n",
       "1518945      6.080328\n",
       "1344077      7.479994\n",
       "1354276      4.793158\n",
       "              ...    \n",
       "3948786     10.221633\n",
       "67038285    10.130148\n",
       "1371592      3.249993\n",
       "62818434     2.441623\n",
       "1384402     24.899270\n",
       "Name: number_of_visits_23, Length: 10000, dtype: float64"
      ]
     },
     "execution_count": 134,
     "metadata": {},
     "output_type": "execute_result"
    }
   ],
   "source": [
    "holdout_pred = pd.Series(holdout_model.predict(feat_holdout_trans), index=(feat_holdout.index), name='number_of_visits_23')\n",
    "holdout_pred.to_csv('holdout_pred.csv')\n",
    "holdout_pred"
   ]
  },
  {
   "cell_type": "code",
   "execution_count": 135,
   "metadata": {},
   "outputs": [
    {
     "data": {
      "text/html": [
       "<div>\n",
       "<style scoped>\n",
       "    .dataframe tbody tr th:only-of-type {\n",
       "        vertical-align: middle;\n",
       "    }\n",
       "\n",
       "    .dataframe tbody tr th {\n",
       "        vertical-align: top;\n",
       "    }\n",
       "\n",
       "    .dataframe thead th {\n",
       "        text-align: right;\n",
       "    }\n",
       "</style>\n",
       "<table border=\"1\" class=\"dataframe\">\n",
       "  <thead>\n",
       "    <tr style=\"text-align: right;\">\n",
       "      <th></th>\n",
       "      <th>Insured_PIN</th>\n",
       "      <th>number_of_visits_23</th>\n",
       "    </tr>\n",
       "  </thead>\n",
       "  <tbody>\n",
       "    <tr>\n",
       "      <th>0</th>\n",
       "      <td>1516424</td>\n",
       "      <td>2.157946</td>\n",
       "    </tr>\n",
       "    <tr>\n",
       "      <th>1</th>\n",
       "      <td>22210474</td>\n",
       "      <td>4.532833</td>\n",
       "    </tr>\n",
       "    <tr>\n",
       "      <th>2</th>\n",
       "      <td>1518945</td>\n",
       "      <td>6.080328</td>\n",
       "    </tr>\n",
       "    <tr>\n",
       "      <th>3</th>\n",
       "      <td>1344077</td>\n",
       "      <td>7.479994</td>\n",
       "    </tr>\n",
       "    <tr>\n",
       "      <th>4</th>\n",
       "      <td>1354276</td>\n",
       "      <td>4.793158</td>\n",
       "    </tr>\n",
       "    <tr>\n",
       "      <th>...</th>\n",
       "      <td>...</td>\n",
       "      <td>...</td>\n",
       "    </tr>\n",
       "    <tr>\n",
       "      <th>9995</th>\n",
       "      <td>3948786</td>\n",
       "      <td>10.221633</td>\n",
       "    </tr>\n",
       "    <tr>\n",
       "      <th>9996</th>\n",
       "      <td>67038285</td>\n",
       "      <td>10.130148</td>\n",
       "    </tr>\n",
       "    <tr>\n",
       "      <th>9997</th>\n",
       "      <td>1371592</td>\n",
       "      <td>3.249993</td>\n",
       "    </tr>\n",
       "    <tr>\n",
       "      <th>9998</th>\n",
       "      <td>62818434</td>\n",
       "      <td>2.441623</td>\n",
       "    </tr>\n",
       "    <tr>\n",
       "      <th>9999</th>\n",
       "      <td>1384402</td>\n",
       "      <td>24.899270</td>\n",
       "    </tr>\n",
       "  </tbody>\n",
       "</table>\n",
       "<p>10000 rows × 2 columns</p>\n",
       "</div>"
      ],
      "text/plain": [
       "      Insured_PIN  number_of_visits_23\n",
       "0         1516424             2.157946\n",
       "1        22210474             4.532833\n",
       "2         1518945             6.080328\n",
       "3         1344077             7.479994\n",
       "4         1354276             4.793158\n",
       "...           ...                  ...\n",
       "9995      3948786            10.221633\n",
       "9996     67038285            10.130148\n",
       "9997      1371592             3.249993\n",
       "9998     62818434             2.441623\n",
       "9999      1384402            24.899270\n",
       "\n",
       "[10000 rows x 2 columns]"
      ]
     },
     "execution_count": 135,
     "metadata": {},
     "output_type": "execute_result"
    }
   ],
   "source": [
    "pd.read_csv('holdout_pred.csv')"
   ]
  },
  {
   "cell_type": "markdown",
   "metadata": {},
   "source": [
    "**Заключение:** Данные собраны обратно, заново трансформированы и на их основании обучена модель. Предсказания по `holdout` выгружены в файл. \n",
    "\n",
    "*Спасибо за знакомство с проектом.*\n",
    "\n"
   ]
  },
  {
   "cell_type": "code",
   "execution_count": 136,
   "metadata": {},
   "outputs": [],
   "source": [
    "feature_importances.sort_values(ascending=False).to_csv('feature_importances.csv')"
   ]
  },
  {
   "cell_type": "code",
   "execution_count": null,
   "metadata": {},
   "outputs": [],
   "source": []
  }
 ],
 "metadata": {
  "kernelspec": {
   "display_name": "Python 3 (ipykernel)",
   "language": "python",
   "name": "python3"
  },
  "language_info": {
   "codemirror_mode": {
    "name": "ipython",
    "version": 3
   },
   "file_extension": ".py",
   "mimetype": "text/x-python",
   "name": "python",
   "nbconvert_exporter": "python",
   "pygments_lexer": "ipython3",
   "version": "3.9.18"
  },
  "toc": {
   "base_numbering": 1,
   "nav_menu": {
    "height": "100px",
    "width": "329px"
   },
   "number_sections": true,
   "sideBar": true,
   "skip_h1_title": true,
   "title_cell": "Table of Contents",
   "title_sidebar": "Contents",
   "toc_cell": false,
   "toc_position": {
    "height": "calc(100% - 180px)",
    "left": "10px",
    "top": "150px",
    "width": "383.969px"
   },
   "toc_section_display": true,
   "toc_window_display": true
  }
 },
 "nbformat": 4,
 "nbformat_minor": 2
}
